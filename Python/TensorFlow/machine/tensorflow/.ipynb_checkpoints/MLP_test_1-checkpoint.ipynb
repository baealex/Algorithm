{
 "cells": [
  {
   "cell_type": "code",
   "execution_count": 1,
   "metadata": {
    "collapsed": true
   },
   "outputs": [],
   "source": [
    "import numpy as np"
   ]
  },
  {
   "cell_type": "code",
   "execution_count": 2,
   "metadata": {
    "collapsed": true
   },
   "outputs": [],
   "source": [
    "# 입력 및 은닉층의 가중치와 바이어스\n",
    "w11 = np.array([-2, -2])\n",
    "w12 = np.array([2, 2])\n",
    "b1 = 3\n",
    "b2 = -1"
   ]
  },
  {
   "cell_type": "code",
   "execution_count": 3,
   "metadata": {
    "collapsed": true
   },
   "outputs": [],
   "source": [
    "# 출력층의 가중치와 바이어스\n",
    "w2 = np.array([1, 1])\n",
    "b3 = -1"
   ]
  },
  {
   "cell_type": "code",
   "execution_count": 4,
   "metadata": {
    "collapsed": true
   },
   "outputs": [],
   "source": [
    "# 활성 함수의 정의\n",
    "# 다층 퍼셉트론(Multi Layer Perceptron) 함수, y가 0보다 작거나 같으면 0을 리턴, 1보다 크면 1을 리턴\n",
    "# x 입력값, w: 가중치, b: 바이어스, 편향\n",
    "# np.sum: 행열의 합을 계산\n",
    "def MLP(x, w, b):\n",
    "    y = np.sum(w * x) + b\n",
    "    if y <= 0:\n",
    "        return 0\n",
    "    else:\n",
    "        return 1"
   ]
  },
  {
   "cell_type": "code",
   "execution_count": 5,
   "metadata": {
    "collapsed": true
   },
   "outputs": [],
   "source": [
    "# NAND 게이트\n",
    "def NAND(x1, x2):\n",
    "    return MLP(np.array([x1, x2]), w11, b1)  # x, w, b\n"
   ]
  },
  {
   "cell_type": "code",
   "execution_count": 6,
   "metadata": {
    "collapsed": true
   },
   "outputs": [],
   "source": [
    "# OR 게이트\n",
    "def OR(x1, x2):\n",
    "    return MLP(np.array([x1, x2]), w12, b2)  # x, w, b"
   ]
  },
  {
   "cell_type": "code",
   "execution_count": 7,
   "metadata": {
    "collapsed": true
   },
   "outputs": [],
   "source": [
    "# AND 게이트\n",
    "def AND(x1, x2):\n",
    "    return MLP(np.array([x1, x2]), w2, b3)  # x, w, b"
   ]
  },
  {
   "cell_type": "code",
   "execution_count": 8,
   "metadata": {
    "collapsed": true
   },
   "outputs": [],
   "source": [
    "# XOR 게이트, NAND: 1 1 1 0, OR: 0 1 1 1\n",
    "# 다층 퍼셉트론 구현 부분\n",
    "def XOR(x1, x2):\n",
    "    return AND(NAND(x1, x2),OR(x1,x2))"
   ]
  },
  {
   "cell_type": "code",
   "execution_count": 9,
   "metadata": {},
   "outputs": [
    {
     "name": "stdout",
     "output_type": "stream",
     "text": [
      "1) AND\n",
      "입력 값: (0, 0) 출력 값: 0\n",
      "입력 값: (1, 0) 출력 값: 0\n",
      "입력 값: (0, 1) 출력 값: 0\n",
      "입력 값: (1, 1) 출력 값: 1\n"
     ]
    }
   ],
   "source": [
    "# x1, x2 값을 번갈아 대입해 가며 최종값 출력\n",
    "# AND\n",
    "print('1) AND')\n",
    "if __name__ == '__main__':\n",
    "    for x in [(0, 0), (1, 0), (0, 1), (1, 1)]:\n",
    "        y = AND(x[0], x[1])\n",
    "        print(\"입력 값: \" + str(x) + \" 출력 값: \" + str(y))\n"
   ]
  },
  {
   "cell_type": "code",
   "execution_count": 10,
   "metadata": {},
   "outputs": [
    {
     "name": "stdout",
     "output_type": "stream",
     "text": [
      "2) NAND\n",
      "입력 값: (0, 0) 출력 값: 1\n",
      "입력 값: (1, 0) 출력 값: 1\n",
      "입력 값: (0, 1) 출력 값: 1\n",
      "입력 값: (1, 1) 출력 값: 0\n"
     ]
    }
   ],
   "source": [
    "# NAND\n",
    "print('2) NAND')\n",
    "if __name__ == '__main__':\n",
    "    for x in [(0, 0), (1, 0), (0, 1), (1, 1)]:\n",
    "        y = NAND(x[0], x[1])\n",
    "        print(\"입력 값: \" + str(x) + \" 출력 값: \" + str(y))"
   ]
  },
  {
   "cell_type": "code",
   "execution_count": 11,
   "metadata": {},
   "outputs": [
    {
     "name": "stdout",
     "output_type": "stream",
     "text": [
      "3) OR\n",
      "입력 값: (0, 0) 출력 값: 0\n",
      "입력 값: (1, 0) 출력 값: 1\n",
      "입력 값: (0, 1) 출력 값: 1\n",
      "입력 값: (1, 1) 출력 값: 1\n"
     ]
    }
   ],
   "source": [
    "# OR\n",
    "print('3) OR')\n",
    "if __name__ == '__main__':\n",
    "    for x in [(0, 0), (1, 0), (0, 1), (1, 1)]:\n",
    "        y = OR(x[0], x[1])\n",
    "        print(\"입력 값: \" + str(x) + \" 출력 값: \" + str(y))"
   ]
  },
  {
   "cell_type": "code",
   "execution_count": 12,
   "metadata": {},
   "outputs": [
    {
     "name": "stdout",
     "output_type": "stream",
     "text": [
      "4) XOR\n",
      "입력 값: (0, 0) 출력 값: 0\n",
      "입력 값: (1, 0) 출력 값: 1\n",
      "입력 값: (0, 1) 출력 값: 1\n",
      "입력 값: (1, 1) 출력 값: 0\n"
     ]
    }
   ],
   "source": [
    "# XOR\n",
    "print('4) XOR')\n",
    "if __name__ == '__main__':\n",
    "    for x in [(0, 0), (1, 0), (0, 1), (1, 1)]:\n",
    "        y = XOR(x[0], x[1])\n",
    "        print(\"입력 값: \" + str(x) + \" 출력 값: \" + str(y))"
   ]
  },
  {
   "cell_type": "code",
   "execution_count": null,
   "metadata": {
    "collapsed": true
   },
   "outputs": [],
   "source": []
  }
 ],
 "metadata": {
  "kernelspec": {
   "display_name": "machine",
   "language": "python",
   "name": "machine"
  },
  "language_info": {
   "codemirror_mode": {
    "name": "ipython",
    "version": 3
   },
   "file_extension": ".py",
   "mimetype": "text/x-python",
   "name": "python",
   "nbconvert_exporter": "python",
   "pygments_lexer": "ipython3",
   "version": "3.5.4"
  }
 },
 "nbformat": 4,
 "nbformat_minor": 2
}
