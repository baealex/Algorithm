{
 "cells": [
  {
   "cell_type": "code",
   "execution_count": 1,
   "metadata": {},
   "outputs": [
    {
     "name": "stderr",
     "output_type": "stream",
     "text": [
      "Using TensorFlow backend.\n"
     ]
    }
   ],
   "source": [
    "import warnings\n",
    "warnings.filterwarnings(action='ignore')\n",
    "\n",
    "import random\n",
    "\n",
    "import numpy as np\n",
    "import tensorflow as tf\n",
    "\n",
    "import matplotlib\n",
    "import matplotlib.pyplot as plt\n",
    "\n",
    "from matplotlib import font_manager, rc\n",
    "from keras.models import Sequential\n",
    "from keras.layers import Dense\n",
    "from keras.utils import to_categorical\n",
    "\n",
    "\n",
    "font_name = font_manager.FontProperties(fname=\"C:/Windows/Fonts/malgun.ttf\").get_name()\n",
    "# windows 10\n",
    "# font_name = font_manager.FontProperties(fname=\"C:/Windows/Fonts/malgunsl.ttf\").get_name()\n",
    "rc('font', family=font_name)           # 맑은 고딕 폰트 지정\n",
    "plt.rcParams[\"font.size\"] = 12         # 글자 크기\n",
    "# plt.rcParams[\"figure.figsize\"] = (10, 4) # 10:4의 그래프 비율\n",
    "plt.rcParams['axes.unicode_minus'] = False  # minus 부호는 unicode 적용시 한글이 깨짐으로 설정\n",
    "\n",
    "# Jupyter에게 matplotlib 그래프를 출력 영역에 표시할 것을 지시하는 명령\n",
    "%matplotlib inline"
   ]
  },
  {
   "cell_type": "code",
   "execution_count": 2,
   "metadata": {
    "collapsed": true
   },
   "outputs": [],
   "source": [
    "def sigmoid(x):   # \n",
    "    a = []   # 빈 array\n",
    "    for itr in x:   # parameter로 전달 받은 x 변수(여기서는 array 만큼) 반복 실행\n",
    "        a.append(1/(1+np.exp(-itr)))  # 반복 횟수는 x array만큼이며, 변경되는 값은 itr\n",
    "    return a  # 함수의 반환 값"
   ]
  },
  {
   "cell_type": "code",
   "execution_count": 3,
   "metadata": {},
   "outputs": [
    {
     "data": {
      "image/png": "[encoded data removed]",
      "text/plain": [
       "<matplotlib.figure.Figure at 0x131eecf8>"
      ]
     },
     "metadata": {},
     "output_type": "display_data"
    }
   ],
   "source": [
    "x = np.linspace(-8, 8, 100)  # numpy의  linspace (start, end, num)를 이용해서 -8과 8사이에 100개의 값 생성\n",
    "sig = sigmoid(x)  # 앞에서 define했던 sigmo함수 호출 (파라메트로 위에서 생성한 x array 전달)\n",
    "\n",
    "plt.plot(x, sig)  # matplotlib의 plot 기능을 이용하여 (x, y) 좌표 표수\n",
    "plt.show()    # plot를 화면에서 볼 수 있도록  show()\n",
    " "
   ]
  },
  {
   "cell_type": "markdown",
   "metadata": {},
   "source": [
    "### 하나의 변수를 입력값으로 사용하는 Logistic Regression  "
   ]
  },
  {
   "cell_type": "code",
   "execution_count": 32,
   "metadata": {},
   "outputs": [
    {
     "name": "stdout",
     "output_type": "stream",
     "text": [
      "[2, 4, 6, 8, 10, 12, 14]\n",
      "[[ 2]\n",
      " [ 4]\n",
      " [ 6]\n",
      " [ 8]\n",
      " [10]\n",
      " [12]\n",
      " [14]]\n"
     ]
    }
   ],
   "source": [
    "seed = 0\n",
    "\n",
    "# 스크립트를 통합해야 난수가 고정됨, 수업을위해 셀을 분리하면 난수는 새로 생성됨.\n",
    "np.random.seed(seed)  \n",
    "tf.set_random_seed(seed)\n",
    "\n",
    "# x,y의 데이터 값\n",
    "data = [[2, 0],\n",
    "        [4, 0],\n",
    "        [6, 0],\n",
    "        [8, 1],\n",
    "        [10, 1],\n",
    "        [12, 1],\n",
    "        [14, 1]]\n",
    "x_data = [x_row[0] for x_row in data]  # 기초 데이터\n",
    "print(x_data) # 행 벡터\n",
    "x_data = np.array(x_data).reshape(7, 1) # 7행 1열로 변환\n",
    "print(x_data) # 열벡터"
   ]
  },
  {
   "cell_type": "code",
   "execution_count": 33,
   "metadata": {},
   "outputs": [
    {
     "name": "stdout",
     "output_type": "stream",
     "text": [
      "[[0]\n",
      " [0]\n",
      " [0]\n",
      " [1]\n",
      " [1]\n",
      " [1]\n",
      " [1]]\n"
     ]
    }
   ],
   "source": [
    "y_data = [y_row[1] for y_row in data]  # 답\n",
    "#  7행 1열\n",
    "y_data = np.array(y_data).reshape(7, 1)\n",
    "print(y_data)"
   ]
  },
  {
   "cell_type": "code",
   "execution_count": 34,
   "metadata": {
    "collapsed": true
   },
   "outputs": [],
   "source": [
    "# 입력 값을 플레이스 홀더에 저장, None: 모든 크기의 데이터를 받을 수 있음.\n",
    "# tf.placeholder(데이터형, 행렬의 차원, 이름)\n",
    "X = tf.placeholder(tf.float64, shape=[None, 1], name='X') # 행은 무제한, 변수는 1개\n",
    "Y = tf.placeholder(tf.float64, shape=[None, 1], name='Y') # 답변용 변수는 1개\n",
    "\n",
    "# 행렬의 곱셈을 해야함으로 행의 수는 열의 수와 동일하게 1개 생성, \n",
    "# 행의수는 변수의 열수와 동일하게 해야함.\n",
    "# 변수 1개: 1행 1열\n",
    "a = tf.Variable(tf.random_normal([1, 1], dtype=tf.float64), name='a') \n",
    "b = tf.Variable(tf.random_normal([1], dtype=tf.float64), name='b')    # 답 1개"
   ]
  },
  {
   "cell_type": "code",
   "execution_count": 35,
   "metadata": {
    "collapsed": true
   },
   "outputs": [],
   "source": [
    "# 시그모이드 함수: 0과 1사이의 입력데이터에 대해서 S 형태를 갖는 그래프를 생성함, 활성화 함수\n",
    "# y 시그모이드 함수의 방정식 선언\n",
    "# y = 1/(1 + np.e**(a * x_data + b))\n",
    "y = tf.sigmoid(tf.matmul(X, a) + b)  # X, a는 행렬곱임으로 차원을 2차원으로 맞추어 주어야함.\n",
    "\n",
    "# loss(오차)를 구하는 함수\n",
    "# loss = -tf.reduce_mean(np.array(y_data) * tf.log(y) + (1 - np.array(y_data)) * tf.log(1 - y))\n",
    "# 오차를 구하는 함수, reduce_mean: 평균 산출\n",
    "loss = -tf.reduce_mean(Y * tf.log(y) + (1 - Y) * tf.log(1 - y))\n",
    "\n",
    "# 학습률 값\n",
    "learning_rate=0.1\n",
    "\n",
    "# loss(오차)를 최소로 하는 값 찾기, 경사 하강법\n",
    "gradient_decent = tf.train.GradientDescentOptimizer(learning_rate).minimize(loss)"
   ]
  },
  {
   "cell_type": "code",
   "execution_count": 36,
   "metadata": {},
   "outputs": [
    {
     "name": "stdout",
     "output_type": "stream",
     "text": [
      "난수로 발생한 기울기 a:  [[1.0892463]]\n",
      "난수로 발생한 편향(바이어스) b:  [0.90231397]\n"
     ]
    }
   ],
   "source": [
    "session = tf.Session()\n",
    "session.run(tf.global_variables_initializer())\n",
    "\n",
    "print('난수로 발생한 기울기 a: ', session.run(a))\n",
    "print('난수로 발생한 편향(바이어스) b: ', session.run(b))\n"
   ]
  },
  {
   "cell_type": "code",
   "execution_count": 37,
   "metadata": {},
   "outputs": [
    {
     "name": "stdout",
     "output_type": "stream",
     "text": [
      "step=1, a=0.9194, b=0.8602, loss=2.2612\n",
      "step=601, a=0.6465, b=-4.1492, loss=0.1785\n",
      "step=1201, a=0.8834, b=-5.8970, loss=0.1253\n",
      "step=1801, a=1.0446, b=-7.0632, loss=0.1021\n",
      "step=2401, a=1.1715, b=-7.9729, loss=0.0879\n",
      "step=3001, a=1.2782, b=-8.7338, loss=0.0781\n",
      "step=3601, a=1.3713, b=-9.3954, loss=0.0706\n",
      "step=4201, a=1.4544, b=-9.9851, loss=0.0647\n",
      "step=4801, a=1.5300, b=-10.5197, loss=0.0598\n",
      "step=5401, a=1.5994, b=-11.0102, loss=0.0558\n",
      "step=6001, a=1.6637, b=-11.4646, loss=0.0522\n"
     ]
    }
   ],
   "source": [
    "for i in range(6001): # 0 ~ 6000\n",
    "    # a: 기울기, b: 편향, loss: 오차, gradient_decent: 경사 하강 함수,\n",
    "    # x_data: 공부 시간, 개인 과외 횟수, y_data: 합격 여부\n",
    "    # feed_dict={X: x_data, Y: y_data} dictionary 형태의 데이터를 loss 함수에 대입\n",
    "    # session.run() 함수에서 4개의 값을 처리함으로 할당받는 변수도 4개여야함.\n",
    "    # _: 갯수를 맞추기위한 변수\n",
    "    # gradient_decent: 경사하강 알고리즘\n",
    "    a_, b_, loss_, _ = session.run([a, b, loss, gradient_decent], \n",
    "                                   feed_dict={X: x_data, Y: y_data})\n",
    "\n",
    "    # if i % 600 == 0:\n",
    "    #     v_loss = session.run(loss)\n",
    "    #     v_a = session.run(a)\n",
    "    #     v_b = session.run(b)\n",
    "    #     print(\"Epoch: %.f, loss = %.4f, 기울기 a = %.4f, 바이어스 b = %.4f\" % (i, v_loss, v_a, v_b))\n",
    "    if i  % 600 == 0:\n",
    "        print(\"step=%d, a=%.4f, b=%.4f, loss=%.4f\" % (i + 1, a_, b_, loss_))\n"
   ]
  },
  {
   "cell_type": "code",
   "execution_count": 40,
   "metadata": {},
   "outputs": [
    {
     "name": "stdout",
     "output_type": "stream",
     "text": [
      "불합격! 공부 시간: 2 합격 가능성:   0.03 %\n",
      "불합격! 공부 시간: 4 합격 가능성:   0.81 %\n",
      "불합격! 공부 시간: 6 합격 가능성:  18.51 %\n",
      "불합격! 공부 시간: 7 합격 가능성:  54.52 %\n",
      "합격! 공부 시간: 8 합격 가능성:  86.35 %\n",
      "합격! 공부 시간: 10 합격 가능성:  99.44 %\n",
      "합격! 공부 시간: 12 합격 가능성:  99.98 %\n",
      "불합격! 공부 시간: 1 합격 가능성:   0.01 %\n",
      "합격! 공부 시간: 20 합격 가능성: 100.00 %\n"
     ]
    }
   ],
   "source": [
    "# 활용예\n",
    "x_data = np.array([[2],\n",
    "                   [4],\n",
    "                   [6],\n",
    "                   [7],\n",
    "                   [8],\n",
    "                   [10],\n",
    "                   [12],\n",
    "                   [1],\n",
    "                   [20]])  # 데이터\n",
    "for index in range(len(x_data)):\n",
    "    new_x = np.array([x_data[index]]).reshape(1, 1) # [[2]]\n",
    "\n",
    "    # y 시그모이드 함수에 X 데이터 전달, y = tf.sigmoid(tf.matmul(X, a) + b)\n",
    "    new_y = session.run(y, feed_dict={X: new_x})\n",
    "\n",
    "    # new_x[:,0]: 1행 1열\n",
    "    # new_x[:,1]: 1행 2열\n",
    "    if new_y >= 0.5:\n",
    "        print(\"합격! 공부 시간: %d 합격 가능성: %6.2f %%\" % (new_x[0,0], new_y * 100))  # %%: % 출력\n",
    "    else:\n",
    "        print(\"불합격! 공부 시간: %d 합격 가능성: %6.2f %%\" % (new_x[0,0], new_y * 100))  # %%: % 출력\n",
    "\n",
    "#  data = [[2, 0],\n",
    "#         [4, 0],\n",
    "#         [6, 0],\n",
    "#         [8, 1],\n",
    "#         [10, 1],\n",
    "#         [12, 1],\n",
    "#         [14, 1]]\n"
   ]
  },
  {
   "cell_type": "code",
   "execution_count": null,
   "metadata": {
    "collapsed": true
   },
   "outputs": [],
   "source": []
  },
  {
   "cell_type": "code",
   "execution_count": null,
   "metadata": {
    "collapsed": true
   },
   "outputs": [],
   "source": []
  }
 ],
 "metadata": {
  "kernelspec": {
   "display_name": "machine",
   "language": "python",
   "name": "machine"
  },
  "language_info": {
   "codemirror_mode": {
    "name": "ipython",
    "version": 3
   },
   "file_extension": ".py",
   "mimetype": "text/x-python",
   "name": "python",
   "nbconvert_exporter": "python",
   "pygments_lexer": "ipython3",
   "version": "3.5.4"
  }
 },
 "nbformat": 4,
 "nbformat_minor": 2
}
