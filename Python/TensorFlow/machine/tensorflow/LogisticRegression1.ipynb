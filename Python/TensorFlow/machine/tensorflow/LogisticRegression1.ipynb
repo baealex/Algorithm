{
 "cells": [
  {
   "cell_type": "code",
   "execution_count": 3,
   "metadata": {
    "collapsed": true
   },
   "outputs": [],
   "source": [
    "import numpy as np\n",
    "import matplotlib.pyplot as plt"
   ]
  },
  {
   "cell_type": "code",
   "execution_count": 4,
   "metadata": {
    "collapsed": true
   },
   "outputs": [],
   "source": [
    "def sigmoid(x):   # \n",
    "    a = []   # 빈 array\n",
    "    for itr in x:   # parameter로 전달 받은 x 변수(여기서는 array 만큼) 반복 실행\n",
    "        a.append(1/(1+np.exp(-itr)))  # 반복 횟수는 x array만큼이며, 변경되는 값은 itr\n",
    "    return a  # 함수의 반환 값"
   ]
  },
  {
   "cell_type": "code",
   "execution_count": 7,
   "metadata": {},
   "outputs": [
    {
     "name": "stdout",
     "output_type": "stream",
     "text": [
      "[-32.         -31.35353535 -30.70707071 -30.06060606 -29.41414141\n",
      " -28.76767677 -28.12121212 -27.47474747 -26.82828283 -26.18181818\n",
      " -25.53535354 -24.88888889 -24.24242424 -23.5959596  -22.94949495\n",
      " -22.3030303  -21.65656566 -21.01010101 -20.36363636 -19.71717172\n",
      " -19.07070707 -18.42424242 -17.77777778 -17.13131313 -16.48484848\n",
      " -15.83838384 -15.19191919 -14.54545455 -13.8989899  -13.25252525\n",
      " -12.60606061 -11.95959596 -11.31313131 -10.66666667 -10.02020202\n",
      "  -9.37373737  -8.72727273  -8.08080808  -7.43434343  -6.78787879\n",
      "  -6.14141414  -5.49494949  -4.84848485  -4.2020202   -3.55555556\n",
      "  -2.90909091  -2.26262626  -1.61616162  -0.96969697  -0.32323232\n",
      "   0.32323232   0.96969697   1.61616162   2.26262626   2.90909091\n",
      "   3.55555556   4.2020202    4.84848485   5.49494949   6.14141414\n",
      "   6.78787879   7.43434343   8.08080808   8.72727273   9.37373737\n",
      "  10.02020202  10.66666667  11.31313131  11.95959596  12.60606061\n",
      "  13.25252525  13.8989899   14.54545455  15.19191919  15.83838384\n",
      "  16.48484848  17.13131313  17.77777778  18.42424242  19.07070707\n",
      "  19.71717172  20.36363636  21.01010101  21.65656566  22.3030303\n",
      "  22.94949495  23.5959596   24.24242424  24.88888889  25.53535354\n",
      "  26.18181818  26.82828283  27.47474747  28.12121212  28.76767677\n",
      "  29.41414141  30.06060606  30.70707071  31.35353535  32.        ]\n"
     ]
    }
   ],
   "source": [
    "# numpy의  linspace (start, end, num)를 이용해서 -8과 8사이에 100개의 값 생성\n",
    "# x = np.linspace(-1, 1, 100)  \n",
    "# x = np.linspace(-2, 2, 100)  \n",
    "# x = np.linspace(-4, 4, 100)  \n",
    "# x = np.linspace(-8, 8, 100)  \n",
    "# x = np.linspace(-16, 16, 100)  \n",
    "x = np.linspace(-32, 32, 100) \n",
    "print(x)\n",
    "sig = sigmoid(x)  # 앞에서 define했던 sigmo함수 호출 (파라메트로 위에서 생성한 x array 전달)\n",
    " "
   ]
  },
  {
   "cell_type": "code",
   "execution_count": 8,
   "metadata": {},
   "outputs": [
    {
     "data": {
      "image/png": "[encoded data removed]",
      "text/plain": [
       "<matplotlib.figure.Figure at 0x112b6ba8>"
      ]
     },
     "metadata": {},
     "output_type": "display_data"
    }
   ],
   "source": [
    "plt.plot(x, sig)  # matplotlib의 plot 기능을 이용하여 (x, y) 좌표 표수\n",
    "plt.show()        # plot를 화면에서 볼 수 있도록  show()"
   ]
  },
  {
   "cell_type": "code",
   "execution_count": null,
   "metadata": {
    "collapsed": true
   },
   "outputs": [],
   "source": []
  }
 ],
 "metadata": {
  "kernelspec": {
   "display_name": "machine",
   "language": "python",
   "name": "machine"
  },
  "language_info": {
   "codemirror_mode": {
    "name": "ipython",
    "version": 3
   },
   "file_extension": ".py",
   "mimetype": "text/x-python",
   "name": "python",
   "nbconvert_exporter": "python",
   "pygments_lexer": "ipython3",
   "version": "3.5.4"
  }
 },
 "nbformat": 4,
 "nbformat_minor": 2
}
