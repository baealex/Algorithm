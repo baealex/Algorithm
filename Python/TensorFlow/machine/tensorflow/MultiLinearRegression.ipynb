{
 "cells": [
  {
   "cell_type": "code",
   "execution_count": 1,
   "metadata": {
    "collapsed": true
   },
   "outputs": [],
   "source": [
    "import warnings\n",
    "warnings.filterwarnings(action='ignore')\n",
    "\n",
    "import tensorflow as tf\n",
    "\n",
    "import matplotlib\n",
    "import matplotlib.pyplot as plt\n",
    "from matplotlib import font_manager, rc\n",
    "\n",
    "font_name = font_manager.FontProperties(fname=\"C:/Windows/Fonts/malgun.ttf\").get_name()\n",
    "# windows 10\n",
    "# font_name = font_manager.FontProperties(fname=\"C:/Windows/Fonts/malgunsl.ttf\").get_name()\n",
    "rc('font', family=font_name)           # 맑은 고딕 폰트 지정\n",
    "plt.rcParams[\"font.size\"] = 12         # 글자 크기\n",
    "# plt.rcParams[\"figure.figsize\"] = (10, 4) # 10:4의 그래프 비율\n",
    "plt.rcParams['axes.unicode_minus'] = False  # minus 부호는 unicode 적용시 한글이 깨짐으로 설정\n",
    "\n",
    "# Jupyter에게 matplotlib 그래프를 출력 영역에 표시할 것을 지시하는 명령\n",
    "%matplotlib inline  "
   ]
  },
  {
   "cell_type": "code",
   "execution_count": 2,
   "metadata": {
    "collapsed": true
   },
   "outputs": [],
   "source": [
    "# x1, x2, y의 데이터 값\n",
    "\n",
    "# 데이터의 구조: [공부시간, 과외 시간, 실제 취득 성적]\n",
    "data = [[2, 0, 81], [4, 4, 93], [6, 2, 91], [8, 3, 97]]\n",
    "x1 = [x_row1[0] for x_row1 in data]    # 독립 변수 1\n",
    "x2 = [x_row2[1] for x_row2 in data]    # 독립 변수 2\n",
    "y_data = [y_row[2] for y_row in data]  # 실제 취득 성적"
   ]
  },
  {
   "cell_type": "code",
   "execution_count": 3,
   "metadata": {
    "collapsed": true
   },
   "outputs": [],
   "source": [
    "# 기울기 a와 y절편 b의 값을 임의로 정함. 단 기울기의 범위는 0-10 사이, y 절편은 0-100사이에서 변하게 함\n",
    "a1 = tf.Variable(tf.random_uniform([1], 0, 10, dtype=tf.float64, seed=0))\n",
    "a2 = tf.Variable(tf.random_uniform([1], 0, 10, dtype=tf.float64, seed=0))\n",
    "b = tf.Variable(tf.random_uniform([1], 0, 100, dtype=tf.float64, seed=0))\n"
   ]
  },
  {
   "cell_type": "code",
   "execution_count": 4,
   "metadata": {
    "collapsed": true
   },
   "outputs": [],
   "source": [
    "# 새로운 방정식\n",
    "y = a1 * x1 + a2 * x2 + b\n",
    "# y = a1 * x1 + a2 * x2+ a3 * x3 + b\n",
    "# 텐서플로 RMSE(평균 제곱근 오차) 함수\n",
    "rmse = tf.sqrt(tf.reduce_mean(tf.square(y - y_data)))  # 예측값에서 실제값을 뺌\n",
    "# 학습률 값\n",
    "learning_rate = 0.03\n",
    "# RMSE 값을 최소로 하는 값 찾기\n",
    "gradient_decent = tf.train.GradientDescentOptimizer(learning_rate).minimize(rmse)\n"
   ]
  },
  {
   "cell_type": "code",
   "execution_count": 5,
   "metadata": {},
   "outputs": [
    {
     "name": "stdout",
     "output_type": "stream",
     "text": [
      "Epoch: 0, RMSE = 51.7475, 기울기 a1 = 7.9064, 기울기 a2 = 7.9931, y 절편 b = 80.6625\n",
      "Epoch: 200, RMSE = 0.5507, 기울기 a1 = 1.4970, 기울기 a2 = 2.2919, y 절편 b = 78.3399\n"
     ]
    }
   ],
   "source": [
    "# 학습이 진행되는 부분\n",
    "with tf.Session() as sess:\n",
    "    sess.run(tf.global_variables_initializer())\n",
    "\n",
    "    for step in range(201):\n",
    "        sess.run(gradient_decent)\n",
    "        if step % 200 == 0:  # 200번마다 결과 출력\n",
    "            v_rmse = sess.run(rmse)\n",
    "            v_a1 = sess.run(a1)\n",
    "            v_a2 = sess.run(a2)\n",
    "            v_b = sess.run(b)\n",
    "            # Epoch: 반복 횟수\n",
    "            print(\"Epoch: %.f, RMSE = %.04f, 기울기 a1 = %.4f, 기울기 a2 = %.4f, y 절편 b = %.4f\" % (\n",
    "            step, v_rmse, v_a1, v_a2, v_b))"
   ]
  },
  {
   "cell_type": "code",
   "execution_count": 6,
   "metadata": {},
   "outputs": [
    {
     "name": "stdout",
     "output_type": "stream",
     "text": [
      "학습률 0.03의 경우\n",
      "산출된 최적의 방정식: y = 1.4970 × x1 + 2.2919 × x2 + 78.3399\n"
     ]
    }
   ],
   "source": [
    "# 검증\n",
    "# x, y의 데이터 값\n",
    "# ----------------------------------\n",
    "# 공부      시간: 2   4   6   8\n",
    "# 과외 수업 횟수: 0   4   2   3\n",
    "# 시험      성적: 81  93  91  97\n",
    "# ----------------------------------\n",
    "# data = [[2, 81], [4, 93], [6, 91], [8, 97]]\n",
    "print('학습률 %.2f의 경우' % learning_rate)\n",
    "print('산출된 최적의 방정식: y = %.4f × x1 + %.4f × x2 + %.4f' % (v_a1, v_a2, v_b))\n",
    "# 학습률 0.01의 경우\n",
    "# 산출된 최적의 방정식: y = 0.6250 × x1 + 3.6776 × x2 + 79.3031\n",
    "# 학습률 0.03의 경우\n",
    "# 산출된 최적의 방정식: y = 1.4970 × x1 + 2.2919 × x2 + 78.3399\n",
    "    "
   ]
  },
  {
   "cell_type": "code",
   "execution_count": 11,
   "metadata": {},
   "outputs": [
    {
     "name": "stdout",
     "output_type": "stream",
     "text": [
      "공부시간을 입력하세요: 8\n",
      "과외 시간을 입력하세요: 3\n",
      "공부 시간: 8 과외 수업 횟수: 3 예상 성적: 97 점입니다.\n"
     ]
    }
   ],
   "source": [
    "time = int(input('공부시간을 입력하세요: '))\n",
    "study = int(input('과외 시간을 입력하세요: '))\n",
    "y = v_a1 * time + v_a2 * study + v_b\n",
    "print('공부 시간: %d 과외 수업 횟수: %d 예상 성적: %d 점입니다.' % (time, study, y))\n",
    "# 공부시간을 입력하세요: 2\n",
    "# 과외 시간을 입력하세요: 0\n",
    "# 공부 시간: 2 과외 수업 횟수: 0 예상 성적: 81 점입니다.\n",
    "# 공부시간을 입력하세요: 4\n",
    "# 과외 시간을 입력하세요: 4\n",
    "# 공부 시간: 4 과외 수업 횟수: 4 예상 성적: 93 점입니다.\n",
    "# 공부시간을 입력하세요: 6\n",
    "# 과외 시간을 입력하세요: 2\n",
    "# 공부 시간: 6 과외 수업 횟수: 2 예상 성적: 91 점입니다.\n",
    "# 공부시간을 입력하세요: 8\n",
    "# 과외 시간을 입력하세요: 3\n",
    "# 공부 시간: 8 과외 수업 횟수: 3 예상 성적: 97 점입니다."
   ]
  },
  {
   "cell_type": "code",
   "execution_count": 12,
   "metadata": {},
   "outputs": [
    {
     "name": "stdout",
     "output_type": "stream",
     "text": [
      "[2, 4, 6, 8]\n",
      "range(0, 4)\n",
      "range(0, 4)\n",
      "2\n",
      "4\n",
      "6\n",
      "8\n",
      "[2, 0, 81]\n",
      "[4, 4, 93]\n",
      "[6, 2, 91]\n",
      "[8, 3, 97]\n"
     ]
    }
   ],
   "source": [
    "print(x1)\n",
    "print(range(len(x1)))\n",
    "print(range(4))\n",
    "for i in range(len(x1)):\n",
    "    print(x1[i])\n",
    "for i in range(len(data)):\n",
    "    print(data[i])    "
   ]
  },
  {
   "cell_type": "code",
   "execution_count": 13,
   "metadata": {},
   "outputs": [
    {
     "name": "stdout",
     "output_type": "stream",
     "text": [
      "[81.33384599960355, 93.4951785167354, 91.90537578192706, 97.19114067308882]\n"
     ]
    }
   ],
   "source": [
    "y=[]\n",
    "for i in range(len(data)):\n",
    "    val = (v_a1 * x1[i] + v_a2 * x2[i] + v_b)[0]\n",
    "    y.append(val)\n",
    "print(y)"
   ]
  },
  {
   "cell_type": "code",
   "execution_count": 14,
   "metadata": {},
   "outputs": [
    {
     "data": {
      "image/png": "[encoded data removed]",
      "text/plain": [
       "<matplotlib.figure.Figure at 0x14bf0a58>"
      ]
     },
     "metadata": {},
     "output_type": "display_data"
    }
   ],
   "source": [
    "plt.plot(y_data) # 실제값\n",
    "plt.plot(y)      # 예측값 \n",
    "plt.show()"
   ]
  },
  {
   "cell_type": "code",
   "execution_count": null,
   "metadata": {
    "collapsed": true
   },
   "outputs": [],
   "source": []
  }
 ],
 "metadata": {
  "kernelspec": {
   "display_name": "machine",
   "language": "python",
   "name": "machine"
  },
  "language_info": {
   "codemirror_mode": {
    "name": "ipython",
    "version": 3
   },
   "file_extension": ".py",
   "mimetype": "text/x-python",
   "name": "python",
   "nbconvert_exporter": "python",
   "pygments_lexer": "ipython3",
   "version": "3.5.4"
  }
 },
 "nbformat": 4,
 "nbformat_minor": 2
}
