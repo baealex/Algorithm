{
 "cells": [
  {
   "cell_type": "code",
   "execution_count": 1,
   "metadata": {},
   "outputs": [
    {
     "name": "stderr",
     "output_type": "stream",
     "text": [
      "C:\\ProgramData\\Anaconda3\\envs\\machine\\lib\\site-packages\\h5py\\__init__.py:34: FutureWarning: Conversion of the second argument of issubdtype from `float` to `np.floating` is deprecated. In future, it will be treated as `np.float64 == np.dtype(float).type`.\n",
      "  from ._conv import register_converters as _register_converters\n"
     ]
    }
   ],
   "source": [
    "import tensorflow as tf"
   ]
  },
  {
   "cell_type": "code",
   "execution_count": 2,
   "metadata": {
    "collapsed": true
   },
   "outputs": [],
   "source": [
    "hello = tf.constant('Hello')  # 상수 문자열 선언\n",
    "world = tf.constant(\" 텐서플로!\")\n",
    "hw = hello + world;"
   ]
  },
  {
   "cell_type": "code",
   "execution_count": 3,
   "metadata": {
    "collapsed": true
   },
   "outputs": [],
   "source": [
    "sess = tf.Session() # Tensorflow를 실행하려면 Sessoin을 생성해야함.\n",
    "grp = sess.run(hw)  # 그래프 생성하여 스크립트 실행\n",
    "sess.close()        # session 사용 종료"
   ]
  },
  {
   "cell_type": "code",
   "execution_count": 4,
   "metadata": {},
   "outputs": [
    {
     "name": "stdout",
     "output_type": "stream",
     "text": [
      "b'Hello \\xed\\x85\\x90\\xec\\x84\\x9c\\xed\\x94\\x8c\\xeb\\xa1\\x9c!'\n",
      "Hello 텐서플로!\n"
     ]
    }
   ],
   "source": [
    "# b'Hello \\xed\\x85\\x90\\xec\\x84\\x9c\\xed\\x94\\x8c\\xeb\\xa1\\x9c!'\n",
    "# b: byte 형식\n",
    "print(grp)  # 한글 깨짐\n",
    "print(grp.decode(encoding='utf-8'))  # 한글 Encoding, Hello 텐서플로!"
   ]
  },
  {
   "cell_type": "code",
   "execution_count": 5,
   "metadata": {},
   "outputs": [
    {
     "name": "stdout",
     "output_type": "stream",
     "text": [
      "1) Tensor 형식의 출력\n",
      "Tensor(\"a_tf:0\", shape=(), dtype=int32)\n",
      "Tensor(\"Add:0\", shape=(), dtype=int32)\n",
      "Tensor(\"Const_4:0\", shape=(), dtype=string)\n"
     ]
    }
   ],
   "source": [
    "a = tf.constant(100, name='a_tf') # a: Python 변수, a_tf:Tensor 이름, 생략시 자동 생성\n",
    "b = tf.constant(2)\n",
    "c = tf.constant(300)\n",
    "d = tf.add(tf.multiply(a, b), c)  # 곱하기 후 더하기 연산\n",
    "\n",
    "print('1) Tensor 형식의 출력')\n",
    "print(a)  # Tensor(\"a_tf:0\", shape=(), dtype=int32)\n",
    "print(d)  # Tensor(\"Add:0\", shape=(), dtype=int32)\n",
    "\n",
    "hello = tf.constant('Hello 텐서플로!') # Tensor(\"Const_3:0\", shape=(), dtype=string)\n",
    "print(hello)"
   ]
  },
  {
   "cell_type": "code",
   "execution_count": 6,
   "metadata": {},
   "outputs": [
    {
     "name": "stdout",
     "output_type": "stream",
     "text": [
      "2) 상수의 출력\n",
      "<class 'tensorflow.python.framework.ops.Tensor'>\n",
      "Tensor(\"a_tf:0\", shape=(), dtype=int32)\n"
     ]
    }
   ],
   "source": [
    "session = tf.Session() # 그래프 생성을 위한 session 객체 생성\n",
    "print('2) 상수의 출력')\n",
    "print(type(a))         # <class 'tensorflow.python.framework.ops.Tensor'>\n",
    "print(a)               # Tensor(\"Const:0\", shape=(), dtype=int32)"
   ]
  },
  {
   "cell_type": "code",
   "execution_count": 7,
   "metadata": {},
   "outputs": [
    {
     "name": "stdout",
     "output_type": "stream",
     "text": [
      "<class 'tensorflow.python.framework.ops.Tensor'>\n",
      "100\n",
      "<class 'numpy.int32'>\n",
      "Tensor(\"Const_2:0\", shape=(), dtype=int32)\n",
      "2\n"
     ]
    }
   ],
   "source": [
    "a_py = session.run(a)# 값 할당되고 사용 가능\n",
    "print(type(a))       # <class 'tensorflow.python.framework.ops.Tensor'>\n",
    "print(a_py)          # 100\n",
    "print(type(a_py))  # <class 'numpy.int32'>\n",
    "print(b)              # Tensor(\"Const_1:0\", shape=(), dtype=int32)\n",
    "b_py = session.run(b)\n",
    "print(b_py)          # 2"
   ]
  },
  {
   "cell_type": "code",
   "execution_count": 8,
   "metadata": {},
   "outputs": [
    {
     "name": "stdout",
     "output_type": "stream",
     "text": [
      "<class 'list'>\n",
      "300 500\n"
     ]
    }
   ],
   "source": [
    "cd = session.run([c, d]) # list 전달하면 list 리턴\n",
    "print(type(cd))     # <class 'list'>\n",
    "print(cd[0], cd[1]) # 300 500"
   ]
  },
  {
   "cell_type": "code",
   "execution_count": 9,
   "metadata": {},
   "outputs": [
    {
     "name": "stdout",
     "output_type": "stream",
     "text": [
      "3) Tensorflow 내부 그래프 노드 정보\n",
      "name: \"a_tf\"\n",
      "op: \"Const\"\n",
      "attr {\n",
      "  key: \"dtype\"\n",
      "  value {\n",
      "    type: DT_INT32\n",
      "  }\n",
      "}\n",
      "attr {\n",
      "  key: \"value\"\n",
      "  value {\n",
      "    tensor {\n",
      "      dtype: DT_INT32\n",
      "      tensor_shape {\n",
      "      }\n",
      "      int_val: 100\n",
      "    }\n",
      "  }\n",
      "}\n",
      "\n"
     ]
    }
   ],
   "source": [
    "print('3) Tensorflow 내부 그래프 노드 정보')\n",
    "print(a.op)"
   ]
  },
  {
   "cell_type": "code",
   "execution_count": 10,
   "metadata": {},
   "outputs": [
    {
     "name": "stdout",
     "output_type": "stream",
     "text": [
      "name: \"Add\"\n",
      "op: \"Add\"\n",
      "input: \"Mul\"\n",
      "input: \"Const_3\"\n",
      "attr {\n",
      "  key: \"T\"\n",
      "  value {\n",
      "    type: DT_INT32\n",
      "  }\n",
      "}\n",
      "\n"
     ]
    }
   ],
   "source": [
    "print(d.op)"
   ]
  },
  {
   "cell_type": "code",
   "execution_count": 15,
   "metadata": {},
   "outputs": [
    {
     "name": "stdout",
     "output_type": "stream",
     "text": [
      "4) 문자열 상수 처리\n",
      "<class 'bytes'>\n"
     ]
    }
   ],
   "source": [
    "print('4) 문자열 상수 처리')\n",
    "hello_py = session.run(hello)  # Python -> Tensorflow -> Python\n",
    "print(type(hello_py))      # <class 'bytes'>"
   ]
  },
  {
   "cell_type": "code",
   "execution_count": 16,
   "metadata": {},
   "outputs": [
    {
     "name": "stdout",
     "output_type": "stream",
     "text": [
      "<class 'str'>\n",
      "Hello 텐서플로!\n"
     ]
    }
   ],
   "source": [
    "hello_py_str = hello_py.decode(encoding='utf-8')\n",
    "print(type(hello_py_str))  # <class 'str'>\n",
    "print(hello_py_str)         # Hello 텐서플로!"
   ]
  },
  {
   "cell_type": "code",
   "execution_count": 22,
   "metadata": {},
   "outputs": [
    {
     "name": "stdout",
     "output_type": "stream",
     "text": [
      "5) 변수의 처리\n",
      "<tf.Variable 'kor_tf_1:0' shape=() dtype=int32_ref>\n",
      "name: \"kor_tf_1\"\n",
      "op: \"VariableV2\"\n",
      "attr {\n",
      "  key: \"container\"\n",
      "  value {\n",
      "    s: \"\"\n",
      "  }\n",
      "}\n",
      "attr {\n",
      "  key: \"dtype\"\n",
      "  value {\n",
      "    type: DT_INT32\n",
      "  }\n",
      "}\n",
      "attr {\n",
      "  key: \"shape\"\n",
      "  value {\n",
      "    shape {\n",
      "    }\n",
      "  }\n",
      "}\n",
      "attr {\n",
      "  key: \"shared_name\"\n",
      "  value {\n",
      "    s: \"\"\n",
      "  }\n",
      "}\n",
      "\n"
     ]
    }
   ],
   "source": [
    "print('5) 변수의 처리')\n",
    "kor = tf.Variable(75, dtype=tf.int32, name='kor_tf')\n",
    "eng = tf.Variable(85, dtype=tf.int32, name='eng_tf')\n",
    "mat = tf.Variable(95, dtype=tf.int32, name='mat_tf')\n",
    "\n",
    "print(kor)  # <tf.Variable 'kor_tf:0' shape=() dtype=int32_ref>\n",
    "print(kor.op)\n",
    "session.close()"
   ]
  },
  {
   "cell_type": "code",
   "execution_count": 23,
   "metadata": {},
   "outputs": [
    {
     "name": "stdout",
     "output_type": "stream",
     "text": [
      "tot1: 255\n",
      "tot2: 160\n"
     ]
    }
   ],
   "source": [
    "session = tf.Session() # 그래프 생성을 위한 session 객체 생성\n",
    "session.run(tf.global_variables_initializer()) # 변수 초기화해야 사용 가능\n",
    "tot1 = session.run(kor + eng + mat);\n",
    "print('tot1: ' + str(tot1))  # 255\n",
    "\n",
    "tot2 = tf.add(kor, eng)\n",
    "print('tot2: ' + str(session.run(tot2)))  # tot2: 160\n",
    "\n",
    "session.close()"
   ]
  },
  {
   "cell_type": "code",
   "execution_count": null,
   "metadata": {
    "collapsed": true
   },
   "outputs": [],
   "source": []
  }
 ],
 "metadata": {
  "kernelspec": {
   "display_name": "machine",
   "language": "python",
   "name": "machine"
  },
  "language_info": {
   "codemirror_mode": {
    "name": "ipython",
    "version": 3
   },
   "file_extension": ".py",
   "mimetype": "text/x-python",
   "name": "python",
   "nbconvert_exporter": "python",
   "pygments_lexer": "ipython3",
   "version": "3.5.4"
  }
 },
 "nbformat": 4,
 "nbformat_minor": 2
}
