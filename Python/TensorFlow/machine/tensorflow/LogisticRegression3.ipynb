{
 "cells": [
  {
   "cell_type": "code",
   "execution_count": 2,
   "metadata": {},
   "outputs": [],
   "source": [
    "import numpy as np\n",
    "import matplotlib.pyplot as plt\n",
    "import tensorflow as tf"
   ]
  },
  {
   "cell_type": "markdown",
   "metadata": {},
   "source": [
    "### 여러개의 변수를 입력값으로 사용하는 Logistic Regression "
   ]
  },
  {
   "cell_type": "code",
   "execution_count": 3,
   "metadata": {},
   "outputs": [],
   "source": [
    "import tensorflow as tf\n",
    "import numpy as np\n",
    "\n",
    "# x 데이터 값, 7행 2열 배열\n",
    "x_data = np.array([[2, 3],\n",
    "                   [4, 3],\n",
    "                   [6, 4],\n",
    "                   [8, 6],\n",
    "                   [10, 7],\n",
    "                   [12, 8],\n",
    "                   [14, 9]]) # 데이터\n",
    "# y 데이터 값, reshape(7, 1): 배열을 7행 1열로 변경한다.\n",
    "y_data = np.array([0, 0, 0, 1, 1, 1, 1]).reshape(7, 1)\n",
    "# [\n",
    "# [0],\n",
    "# [0],\n",
    "# [0],\n",
    "# [1],\n",
    "# [1],\n",
    "# [1],\n",
    "# [1]\n",
    "# ]\n",
    "\n"
   ]
  },
  {
   "cell_type": "code",
   "execution_count": 4,
   "metadata": {
    "collapsed": true
   },
   "outputs": [],
   "source": [
    "# 입력 값을 플레이스 홀더에 저장, None: 모든 크기의 데이터를 받을 수 있음.\n",
    "# tf.placeholder(데이터형, 행렬의 차원, 이름)\n",
    "X = tf.placeholder(tf.float64, shape=[None, 2]) # 2개의 데이터 입력용 저장 공간 생성\n",
    "Y = tf.placeholder(tf.float64, shape=[None, 1]) # 1개의 데이터 입력용 저장 공간 생성\n",
    "\n",
    "# 실행할 때마다 같은 결과를 출력하기 위한 seed 값을 0으로 설정\n",
    "seed = 0\n",
    "np.random.seed(seed)\n",
    "tf.set_random_seed(seed)\n",
    "\n",
    "# 기울기 a와 bias b의 값을 임의로 정함, 정규 분포 형태의 난수 생성\n",
    "# 행렬의 곱셈을 해야함으로 행의 수는 열의 수와 동일하게 2개 생성, \n",
    "# 행의수는 변수의 열수와 동일하게 해야함.\n",
    "a = tf.Variable(tf.random_uniform([2,1], dtype=tf.float64))\n",
    "b = tf.Variable(tf.random_uniform([1], dtype=tf.float64))  # 1개 생성\n",
    "\n",
    "# y 시그모이드 함수의 방정식을 세움, X: 1행 2열, a: 2행 1열, 결과는 1행 1열\n",
    "# tf.matmul([2, 3], [[1],[2]]) --->  2 * 1 + 3 * 2 = 8\n",
    "y = tf.sigmoid(tf.matmul(X, a) + b)\n",
    "\n",
    "# 오차를 구하는 함수, reduce_mean: 평균 산출\n",
    "loss = -tf.reduce_mean(Y * tf.log(y) + (1 - Y) * tf.log(1 - y))\n",
    "\n",
    "# 학습률 값\n",
    "learning_rate=0.1\n",
    "\n",
    "# 오차를 최소로 하는 값 찾기, 경사 하강법\n",
    "gradient_decent = tf.train.GradientDescentOptimizer(learning_rate).minimize(loss)"
   ]
  },
  {
   "cell_type": "code",
   "execution_count": 5,
   "metadata": {},
   "outputs": [
    {
     "name": "stdout",
     "output_type": "stream",
     "text": [
      "step=300, a1=0.8426, a2=-0.5997, b=-2.3907, loss=0.2694\n",
      "step=600, a1=0.8348, a2=-0.3166, b=-3.8630, loss=0.1932\n",
      "step=900, a1=0.7423, a2=0.0153, b=-4.9311, loss=0.1510\n",
      "step=1200, a1=0.6372, a2=0.3245, b=-5.7765, loss=0.1235\n",
      "step=1500, a1=0.5373, a2=0.5996, b=-6.4775, loss=0.1042\n",
      "step=1800, a1=0.4471, a2=0.8421, b=-7.0768, loss=0.0900\n",
      "step=2100, a1=0.3670, a2=1.0561, b=-7.6003, loss=0.0791\n",
      "step=2400, a1=0.2962, a2=1.2458, b=-8.0652, loss=0.0705\n",
      "step=2700, a1=0.2336, a2=1.4152, b=-8.4834, loss=0.0636\n",
      "step=3000, a1=0.1779, a2=1.5675, b=-8.8635, loss=0.0579\n"
     ]
    }
   ],
   "source": [
    "# 학습\n",
    "sess = tf.Session();\n",
    "sess.run(tf.global_variables_initializer())\n",
    "\n",
    "for i in range(3001):\n",
    "    # a: 기울기, b: 편향, loss: 오차, gradient_decent: 경사 하강 함수, \n",
    "    # x_data: 공부 시간, 개인 과외 횟수, 1행 2열 7개가 전달됨, y_data: 합격 여부\n",
    "    # feed_dict={X: x_data, Y: y_data} dictionary 형태의 데이터를 loss 함수에 대입\n",
    "    # session.run() 함수에서 4개의 값을 처리함으로 할당받는 변수도 4개여야함.\n",
    "    # _: 갯수를 맞추기위한 변수\n",
    "    a_, b_, loss_, _ = sess.run([a, b, loss, gradient_decent], \n",
    "                                feed_dict={X: x_data, Y: y_data})\n",
    "    if (i + 1) % 300 == 0:\n",
    "        print(\"step=%d, a1=%.4f, a2=%.4f, b=%.4f, loss=%.4f\" % (i + 1, a_[0], a_[1], b_, loss_))\n"
   ]
  },
  {
   "cell_type": "code",
   "execution_count": 6,
   "metadata": {},
   "outputs": [
    {
     "name": "stdout",
     "output_type": "stream",
     "text": [
      "x_data[index]: [2 3]\n",
      "불합격! 공부 시간: 2, 개인 과외 수: 3, 합격 가능성:   2.18 %\n",
      "x_data[index]: [4 3]\n",
      "불합격! 공부 시간: 4, 개인 과외 수: 3, 합격 가능성:   3.08 %\n",
      "x_data[index]: [6 4]\n",
      "불합격! 공부 시간: 6, 개인 과외 수: 4, 합격 가능성:  17.85 %\n",
      "x_data[index]: [8 6]\n",
      "합격! 공부 시간: 8, 개인 과외 수: 6, 합격 가능성:  87.71 %\n",
      "x_data[index]: [10  7]\n",
      "합격! 공부 시간: 10, 개인 과외 수: 7, 합격 가능성:  97.99 %\n",
      "x_data[index]: [12  8]\n",
      "합격! 공부 시간: 12, 개인 과외 수: 8, 합격 가능성:  99.70 %\n",
      "x_data[index]: [14  9]\n",
      "합격! 공부 시간: 14, 개인 과외 수: 9, 합격 가능성:  99.96 %\n",
      "x_data[index]: [1 1]\n",
      "불합격! 공부 시간: 1, 개인 과외 수: 1, 합격 가능성:   0.08 %\n",
      "x_data[index]: [ 1 10]\n",
      "합격! 공부 시간: 1, 개인 과외 수: 10, 합격 가능성:  99.91 %\n"
     ]
    }
   ],
   "source": [
    "# 활용예\n",
    "x_data = np.array([[2, 3],\n",
    "                   [4, 3],\n",
    "                   [6, 4],\n",
    "                   [8, 6],\n",
    "                   [10, 7],\n",
    "                   [12, 8],\n",
    "                   [14, 9],\n",
    "                   [1, 1],\n",
    "                   [1, 10]])  # 데이터\n",
    "for index in range(len(x_data)):\n",
    "    print('x_data[index]:', x_data[index])\n",
    "    new_x = np.array(x_data[index]).reshape(1, 2)# [7, 6]은 각각 공부 시간과 과외 수업수, 1행 2열로 변경\n",
    "\n",
    "    # y 시그모이드 함수에 X 데이터 전달, y = tf.sigmoid(tf.matmul(X, a) + b)\n",
    "    new_y = sess.run(y, feed_dict={X: new_x})\n",
    "\n",
    "    # new_x[:,0]: 1행 1열\n",
    "    # new_x[:,1]: 1행 2열\n",
    "    if new_y >= 0.6:\n",
    "        print(\"합격! 공부 시간: %d, 개인 과외 수: %d, 합격 가능성: %6.2f %%\" % (new_x[0,0], new_x[0, 1], new_y * 100))  # %%: % 출력\n",
    "    else:\n",
    "        print(\"불합격! 공부 시간: %d, 개인 과외 수: %d, 합격 가능성: %6.2f %%\" % (new_x[0,0], new_x[0, 1], new_y * 100))  # %%: % 출력\n",
    " \n",
    "sess.close()"
   ]
  },
  {
   "cell_type": "code",
   "execution_count": null,
   "metadata": {
    "collapsed": true
   },
   "outputs": [],
   "source": []
  },
  {
   "cell_type": "code",
   "execution_count": null,
   "metadata": {
    "collapsed": true
   },
   "outputs": [],
   "source": []
  }
 ],
 "metadata": {
  "kernelspec": {
   "display_name": "machine",
   "language": "python",
   "name": "machine"
  },
  "language_info": {
   "codemirror_mode": {
    "name": "ipython",
    "version": 3
   },
   "file_extension": ".py",
   "mimetype": "text/x-python",
   "name": "python",
   "nbconvert_exporter": "python",
   "pygments_lexer": "ipython3",
   "version": "3.5.4"
  }
 },
 "nbformat": 4,
 "nbformat_minor": 2
}
