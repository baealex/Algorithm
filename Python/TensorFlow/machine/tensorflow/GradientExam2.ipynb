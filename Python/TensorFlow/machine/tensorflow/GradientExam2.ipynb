{
 "cells": [
  {
   "cell_type": "code",
   "execution_count": 1,
   "metadata": {
    "collapsed": true
   },
   "outputs": [],
   "source": [
    "import warnings\n",
    "warnings.filterwarnings(action='ignore')\n",
    "\n",
    "import tensorflow as tf\n",
    "\n",
    "import matplotlib\n",
    "import matplotlib.pyplot as plt\n",
    "from matplotlib import font_manager, rc\n",
    "\n",
    "font_name = font_manager.FontProperties(fname=\"C:/Windows/Fonts/malgun.ttf\").get_name()\n",
    "# windows 10\n",
    "# font_name = font_manager.FontProperties(fname=\"C:/Windows/Fonts/malgunsl.ttf\").get_name()\n",
    "rc('font', family=font_name)           # 맑은 고딕 폰트 지정\n",
    "plt.rcParams[\"font.size\"] = 12         # 글자 크기\n",
    "# plt.rcParams[\"figure.figsize\"] = (10, 4) # 10:4의 그래프 비율\n",
    "plt.rcParams['axes.unicode_minus'] = False  # minus 부호는 unicode 적용시 한글이 깨짐으로 설정\n",
    "\n",
    "# Jupyter에게 matplotlib 그래프를 출력 영역에 표시할 것을 지시하는 명령\n",
    "%matplotlib inline  "
   ]
  },
  {
   "cell_type": "code",
   "execution_count": 2,
   "metadata": {
    "collapsed": true
   },
   "outputs": [],
   "source": [
    "data = [\n",
    "    [1,12],\n",
    "    [2,14],\n",
    "    [5,20],\n",
    "    [13,36],\n",
    "    [17,44],\n",
    "    [19,48],\n",
    "    [30,70],\n",
    "    [37,84],\n",
    "    [43,96],\n",
    "    [50,110]\n",
    "] # than what 23?"
   ]
  },
  {
   "cell_type": "code",
   "execution_count": 3,
   "metadata": {
    "collapsed": true
   },
   "outputs": [],
   "source": [
    "x = [x_row1[0] for x_row1 in data]    # 독립 변수 1\n",
    "y_data = [y_row[1] for y_row in data]  # 실제 취득 성적"
   ]
  },
  {
   "cell_type": "code",
   "execution_count": 4,
   "metadata": {
    "collapsed": true
   },
   "outputs": [],
   "source": [
    "a = tf.Variable(tf.random_uniform([1], 0, 10, dtype=tf.float64, seed=0))\n",
    "b = tf.Variable(tf.random_uniform([1], 0, 100, dtype=tf.float64, seed=0))"
   ]
  },
  {
   "cell_type": "code",
   "execution_count": 5,
   "metadata": {
    "collapsed": true
   },
   "outputs": [],
   "source": [
    "y = a * x + b\n",
    "rmse = tf.sqrt(tf.reduce_mean(tf.square(y - y_data)))\n",
    "learning_rate = 0.001\n",
    "gradient_decent = tf.train.GradientDescentOptimizer(learning_rate).minimize(rmse)"
   ]
  },
  {
   "cell_type": "code",
   "execution_count": 6,
   "metadata": {},
   "outputs": [
    {
     "name": "stdout",
     "output_type": "stream",
     "text": [
      "Epoch: 10000, RMSE = 39.1950, 기울기 a = 0.1249, y 절편 b = 74.4909\n",
      "Epoch: 20000, RMSE = 35.5044, 기울기 a = 0.3014, y 절편 b = 68.4185\n",
      "Epoch: 30000, RMSE = 31.8138, 기울기 a = 0.4780, y 절편 b = 62.3460\n",
      "Epoch: 40000, RMSE = 28.1232, 기울기 a = 0.6546, y 절편 b = 56.2735\n",
      "Epoch: 50000, RMSE = 24.4326, 기울기 a = 0.8311, y 절편 b = 50.2011\n",
      "Epoch: 60000, RMSE = 20.7420, 기울기 a = 1.0077, y 절편 b = 44.1286\n",
      "Epoch: 70000, RMSE = 17.0514, 기울기 a = 1.1843, y 절편 b = 38.0561\n",
      "Epoch: 80000, RMSE = 13.3608, 기울기 a = 1.3608, y 절편 b = 31.9837\n",
      "Epoch: 90000, RMSE = 9.6702, 기울기 a = 1.5374, y 절편 b = 25.9112\n",
      "Epoch: 100000, RMSE = 5.9796, 기울기 a = 1.7139, y 절편 b = 19.8387\n",
      "Epoch: 110000, RMSE = 2.2890, 기울기 a = 1.8905, y 절편 b = 13.7663\n",
      "Epoch: 120000, RMSE = 0.3737, 기울기 a = 1.9862, y 절편 b = 10.0048\n",
      "Epoch: 130000, RMSE = 0.3737, 기울기 a = 1.9863, y 절편 b = 9.9996\n",
      "Epoch: 140000, RMSE = 0.3737, 기울기 a = 1.9863, y 절편 b = 9.9996\n",
      "Epoch: 150000, RMSE = 0.3737, 기울기 a = 1.9863, y 절편 b = 9.9996\n",
      "Epoch: 160000, RMSE = 0.3737, 기울기 a = 1.9863, y 절편 b = 9.9996\n"
     ]
    }
   ],
   "source": [
    "with tf.Session() as sess:\n",
    "    sess.run(tf.global_variables_initializer())\n",
    "    pre_v_a = 0\n",
    "    step = 0\n",
    "    while True:\n",
    "        step += 1\n",
    "        sess.run(gradient_decent)\n",
    "        if step % 10000 == 0:  # 200번마다 결과 출력\n",
    "            v_rmse = sess.run(rmse)\n",
    "            v_a = sess.run(a)\n",
    "            v_b = sess.run(b)\n",
    "            # Epoch: 반복 횟수\n",
    "            print(\"Epoch: %.f, RMSE = %.04f, 기울기 a = %.4f, y 절편 b = %.4f\" % (\n",
    "            step, v_rmse, v_a, v_b))\n",
    "            if v_a == pre_v_a:\n",
    "                break;\n",
    "            pre_v_a = v_a"
   ]
  },
  {
   "cell_type": "code",
   "execution_count": 10,
   "metadata": {},
   "outputs": [
    {
     "name": "stdout",
     "output_type": "stream",
     "text": [
      "산출 공식: y = 1.9863x + 9\n"
     ]
    }
   ],
   "source": [
    "print('산출 공식: y = %.1fx + %.d' % (v_a, v_b))  # y = 2.3x + 79"
   ]
  },
  {
   "cell_type": "code",
   "execution_count": 12,
   "metadata": {},
   "outputs": [
    {
     "name": "stdout",
     "output_type": "stream",
     "text": [
      "입력 값: 1, 예상 답: 11, 실제 : 12\n",
      "입력 값: 11, 예상 답: 31, 실제 : 32\n",
      "입력 값: 21, 예상 답: 51, 실제 : 52\n",
      "입력 값: 31, 예상 답: 71, 실제 : 72\n",
      "입력 값: 41, 예상 답: 91, 실제 : 92\n",
      "입력 값: 51, 예상 답: 111, 실제 : 112\n",
      "입력 값: 61, 예상 답: 131, 실제 : 132\n",
      "입력 값: 71, 예상 답: 151, 실제 : 152\n",
      "입력 값: 81, 예상 답: 170, 실제 : 172\n",
      "입력 값: 91, 예상 답: 190, 실제 : 192\n"
     ]
    }
   ],
   "source": [
    "test_data=[i for i in range(1,101,10)]\n",
    "test_data_result=[(i + 5) * 2 for i in test_data]\n",
    "test_data_result_by_com=[]\n",
    "for i in range(len(test_data)):\n",
    "    y = v_a * test_data[i] + v_b\n",
    "    test_data_result_by_com.append(y)\n",
    "    print('입력 값: %d, 예상 답: %d, 실제 : %d' % (test_data[i], test_data_result_by_com[i], test_data_result[i]))"
   ]
  },
  {
   "cell_type": "code",
   "execution_count": 13,
   "metadata": {},
   "outputs": [
    {
     "data": {
      "image/png": "[encoded data removed]",
      "text/plain": [
       "<matplotlib.figure.Figure at 0x1319d9b0>"
      ]
     },
     "metadata": {},
     "output_type": "display_data"
    }
   ],
   "source": [
    "plt.plot(test_data_result)         # 실제값\n",
    "plt.plot(test_data_result_by_com)  # 예측값 \n",
    "plt.show()"
   ]
  },
  {
   "cell_type": "code",
   "execution_count": null,
   "metadata": {
    "collapsed": true
   },
   "outputs": [],
   "source": []
  }
 ],
 "metadata": {
  "kernelspec": {
   "display_name": "machine",
   "language": "python",
   "name": "machine"
  },
  "language_info": {
   "codemirror_mode": {
    "name": "ipython",
    "version": 3
   },
   "file_extension": ".py",
   "mimetype": "text/x-python",
   "name": "python",
   "nbconvert_exporter": "python",
   "pygments_lexer": "ipython3",
   "version": "3.5.4"
  }
 },
 "nbformat": 4,
 "nbformat_minor": 2
}
