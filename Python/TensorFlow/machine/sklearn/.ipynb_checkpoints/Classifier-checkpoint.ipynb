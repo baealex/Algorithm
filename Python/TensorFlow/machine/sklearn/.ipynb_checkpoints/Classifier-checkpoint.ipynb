{
 "cells": [
  {
   "cell_type": "markdown",
   "metadata": {},
   "source": [
    "## 1. DecisionTree를 사용한 경우"
   ]
  },
  {
   "cell_type": "code",
   "execution_count": 1,
   "metadata": {},
   "outputs": [
    {
     "name": "stdout",
     "output_type": "stream",
     "text": [
      "[(1, 4), (2, 5), (3, 6)]\n",
      "[(1, 4, 7), (2, 5, 8), (3, 6, 9)]\n",
      "[('a', 'd'), ('b', 'e'), ('c', 'f')]\n"
     ]
    }
   ],
   "source": [
    "# zip: 동일한 개수로 이루어진 자료형을 묶어 주는 역할을 하는 함수\n",
    "print(list(zip([1, 2, 3], [4, 5, 6])))\n",
    "print(list(zip([1, 2, 3], [4, 5, 6], [7, 8, 9])))\n",
    "print(list(zip(\"abc\", \"def\")))\n"
   ]
  },
  {
   "cell_type": "code",
   "execution_count": 2,
   "metadata": {
    "collapsed": true
   },
   "outputs": [],
   "source": [
    "import matplotlib.pyplot as plt\n",
    "from sklearn import datasets\n",
    "\n",
    "# digits 데이터를 로드\n",
    "digits = datasets.load_digits()"
   ]
  },
  {
   "cell_type": "code",
   "execution_count": 3,
   "metadata": {},
   "outputs": [
    {
     "data": {
      "image/png": "[encoded data removed]",
      "text/plain": [
       "<Figure size 432x288 with 10 Axes>"
      ]
     },
     "metadata": {
      "needs_background": "light"
     },
     "output_type": "display_data"
    }
   ],
   "source": [
    "# 이미지를 2행 5열로 표시\n",
    "for label, img in zip(digits.target[:10], digits.images[:10]):\n",
    "\tplt.subplot(2, 5, label+1)\n",
    "\tplt.axis('off')\n",
    "\tplt.imshow(img, cmap=plt.cm.gray_r, interpolation='nearest')\n",
    "\tplt.title('Digit:%d' % label)\n",
    "\n",
    "plt.show()\n"
   ]
  },
  {
   "cell_type": "code",
   "execution_count": 4,
   "metadata": {},
   "outputs": [
    {
     "name": "stdout",
     "output_type": "stream",
     "text": [
      "<class 'sklearn.utils.Bunch'>\n",
      "[False False False ...,  True False  True]\n",
      "<class 'numpy.ndarray'>\n"
     ]
    }
   ],
   "source": [
    "import numpy as np\n",
    "from sklearn import datasets\n",
    "\n",
    "# 손으로 쓴 숫자 데이터 읽기\n",
    "digits=datasets.load_digits()\n",
    "print(type(digits))\n",
    "\n",
    "# 3과 8의 데이터 위치를 구하기\n",
    "flag_3_8=(digits.target==3)+(digits.target==8)\n",
    "\n",
    "print(flag_3_8)\n",
    "print(type(flag_3_8))"
   ]
  },
  {
   "cell_type": "code",
   "execution_count": 5,
   "metadata": {},
   "outputs": [
    {
     "name": "stdout",
     "output_type": "stream",
     "text": [
      "(357, 8, 8)\n",
      "images.shape[0]:  357\n",
      "(357, 64)\n"
     ]
    }
   ],
   "source": [
    "# 3과 8의 데이터를 구하기\n",
    "images = digits.images[flag_3_8]\n",
    "labels = digits.target[flag_3_8]\n",
    "\n",
    "# 3과 8의 이미지 데이터를 1차원화\n",
    "print(images.shape)\n",
    "print('images.shape[0]: ', images.shape[0])\n",
    "images = images.reshape(images.shape[0],-1) # -1: 차원이 지정되지 않음\n",
    "print(images.shape)"
   ]
  },
  {
   "cell_type": "code",
   "execution_count": 6,
   "metadata": {},
   "outputs": [
    {
     "name": "stdout",
     "output_type": "stream",
     "text": [
      "214\n"
     ]
    }
   ],
   "source": [
    "train_size = int(images.shape[0] * 0.6)\n",
    "print(train_size)"
   ]
  },
  {
   "cell_type": "code",
   "execution_count": 7,
   "metadata": {},
   "outputs": [
    {
     "data": {
      "text/plain": [
       "DecisionTreeClassifier(class_weight=None, criterion='gini', max_depth=None,\n",
       "            max_features=None, max_leaf_nodes=None,\n",
       "            min_impurity_decrease=0.0, min_impurity_split=None,\n",
       "            min_samples_leaf=1, min_samples_split=2,\n",
       "            min_weight_fraction_leaf=0.0, presort=False, random_state=None,\n",
       "            splitter='best')"
      ]
     },
     "execution_count": 7,
     "metadata": {},
     "output_type": "execute_result"
    }
   ],
   "source": [
    "from sklearn import tree\n",
    "\n",
    "# 분류기 생성\n",
    "train_size = int(images.shape[0] * 0.6)  # 214\n",
    "classifier = tree.DecisionTreeClassifier()\n",
    "classifier.fit(images[:train_size], labels[:train_size])\n"
   ]
  },
  {
   "cell_type": "code",
   "execution_count": 42,
   "metadata": {},
   "outputs": [
    {
     "name": "stdout",
     "output_type": "stream",
     "text": [
      "Accuracy:\n",
      " 0.8671328671328671\n",
      "\n",
      "Confusion matrix:\n",
      " [[62 13]\n",
      " [ 6 62]]\n",
      "\n",
      "Precision:\n",
      " 0.9117647058823529\n",
      "\n",
      "Recall:\n",
      " 0.8266666666666667\n",
      "\n",
      "F-measure:\n",
      " 0.8671328671328671\n"
     ]
    }
   ],
   "source": [
    "from sklearn import metrics\n",
    "\n",
    "expected=labels[train_size:]  # 214개~ \n",
    "predicted=classifier.predict(images[train_size:])\n",
    "\n",
    "print('Accuracy:\\n', metrics.accuracy_score(expected, predicted))\n",
    "'''\n",
    "           예측\n",
    "          3   8\n",
    "       ┌--------- \n",
    "실제 3 │ 62  13\n",
    "     8 │  6  62\n",
    "     \n",
    "'''\n",
    "print('\\nConfusion matrix:\\n', metrics.confusion_matrix(expected, predicted))\n",
    "print('\\nPrecision:\\n', metrics.precision_score(expected, predicted, pos_label=3))\n",
    "print('\\nRecall:\\n', metrics.recall_score(expected, predicted, pos_label=3))\n",
    "print('\\nF-measure:\\n', metrics.f1_score(expected, predicted, pos_label=3))\n"
   ]
  },
  {
   "cell_type": "markdown",
   "metadata": {},
   "source": [
    "## 2. 앙상블 배깅: RandomForest의 사용 - 앙상블학습(낮은 분류기의 성능 조합)"
   ]
  },
  {
   "cell_type": "code",
   "execution_count": 8,
   "metadata": {},
   "outputs": [
    {
     "data": {
      "image/png": "[encoded data removed]",
      "text/plain": [
       "<Figure size 432x288 with 10 Axes>"
      ]
     },
     "metadata": {
      "needs_background": "light"
     },
     "output_type": "display_data"
    }
   ],
   "source": [
    "import matplotlib.pyplot as plt\n",
    "from sklearn import datasets\n",
    "from sklearn import ensemble\n",
    "from sklearn.metrics import accuracy_score, confusion_matrix\n",
    "from sklearn.metrics import precision_score, recall_score, f1_score\n",
    "\n",
    "# 손으로 쓴 숫자 데이터 읽기\n",
    "digits = datasets.load_digits()\n",
    "\n",
    "# 이미지를 2행 5열로 표시\n",
    "for label, img in zip(digits.target[:10], digits.images[:10]):\n",
    "    plt.subplot(2, 5, label + 1)\n",
    "    plt.axis('off')\n",
    "    plt.imshow(img, cmap=plt.cm.gray_r, interpolation='nearest')\n",
    "    plt.title('Digit: {0}'.format(label))\n",
    "plt.show()"
   ]
  },
  {
   "cell_type": "code",
   "execution_count": 9,
   "metadata": {},
   "outputs": [
    {
     "name": "stdout",
     "output_type": "stream",
     "text": [
      "Accuracy:\n",
      " 0.909090909091\n",
      "Confusion matrix:\n",
      " [[62 13]\n",
      " [ 0 68]]\n",
      "Precision:\n",
      " 1.0\n",
      "Recall:\n",
      " 0.826666666667\n",
      "F-measure:\n",
      " 0.905109489051\n"
     ]
    }
   ],
   "source": [
    "# 3과 8의 데이터 위치를 구하기\n",
    "flag_3_8 = (digits.target == 3) + (digits.target == 8)\n",
    "\n",
    "# 3과 8의 데이터를 구하기\n",
    "images = digits.images[flag_3_8]\n",
    "labels = digits.target[flag_3_8]\n",
    "\n",
    "# 3과 8의 이미지 데이터를 1차원화\n",
    "images = images.reshape(images.shape[0], -1)\n",
    "\n",
    "# 분류기 생성\n",
    "train_size = int(images.shape[0] * 0.6)  # 214\n",
    "classifier = ensemble.RandomForestClassifier(n_estimators=20, max_depth=3, criterion=\"gini\")\n",
    "classifier.fit(images[:train_size], labels[:train_size])\n",
    "\n",
    "# 분류기 성능을 확인\n",
    "expected = labels[train_size:]\n",
    "predicted = classifier.predict(images[train_size:])\n",
    "\n",
    "print('Accuracy:\\n', accuracy_score(expected, predicted))\n",
    "\n",
    "'''\n",
    "           예측\n",
    "          3   8\n",
    "       ┌--------- \n",
    "실제 3 │ 63  12\n",
    "     8 │  1  67\n",
    "     \n",
    "'''\n",
    "print('Confusion matrix:\\n', confusion_matrix(expected, predicted))\n",
    "print('Precision:\\n', precision_score(expected, predicted, pos_label=3))\n",
    "print('Recall:\\n', recall_score(expected, predicted, pos_label=3))\n",
    "print('F-measure:\\n', f1_score(expected, predicted, pos_label=3))\n"
   ]
  },
  {
   "cell_type": "markdown",
   "metadata": {},
   "source": [
    "## 3. 앙상블학습:부스팅, AdaBoost를 사용한 경우(가중치 이용)"
   ]
  },
  {
   "cell_type": "code",
   "execution_count": 10,
   "metadata": {},
   "outputs": [
    {
     "data": {
      "image/png": "[encoded data removed]",
      "text/plain": [
       "<Figure size 432x288 with 10 Axes>"
      ]
     },
     "metadata": {
      "needs_background": "light"
     },
     "output_type": "display_data"
    }
   ],
   "source": [
    "import matplotlib.pyplot as plt\n",
    "from sklearn import datasets\n",
    "from sklearn import tree, ensemble\n",
    "from sklearn.metrics import accuracy_score, confusion_matrix\n",
    "from sklearn.metrics import precision_score, recall_score, f1_score\n",
    "\n",
    "# 손으로 쓴 숫자 데이터 읽기\n",
    "digits = datasets.load_digits()\n",
    "\n",
    "# 이미지를 2행 5열로 표시\n",
    "for label, img in zip(digits.target[:10], digits.images[:10]):\n",
    "    plt.subplot(2, 5, label + 1)\n",
    "    plt.axis('off')\n",
    "    plt.imshow(img, cmap=plt.cm.gray_r, interpolation='nearest')\n",
    "    plt.title('Digit: {0}'.format(label))\n",
    "plt.show()"
   ]
  },
  {
   "cell_type": "code",
   "execution_count": 11,
   "metadata": {},
   "outputs": [
    {
     "name": "stdout",
     "output_type": "stream",
     "text": [
      "Accuracy:\n",
      " 0.923076923077\n",
      "Confusion matrix:\n",
      " [[64 11]\n",
      " [ 0 68]]\n",
      "Precision:\n",
      " 1.0\n",
      "Recall:\n",
      " 0.853333333333\n",
      "F-measure:\n",
      " 0.920863309353\n"
     ]
    }
   ],
   "source": [
    "# 3과 8의 데이터 위치를 구하기\n",
    "flag_3_8 = (digits.target == 3) + (digits.target == 8)\n",
    "\n",
    "# 3과 8의 데이터를 구하기\n",
    "images = digits.images[flag_3_8]\n",
    "labels = digits.target[flag_3_8]\n",
    "\n",
    "# 3과 8의 이미지 데이터를 1차원화\n",
    "images = images.reshape(images.shape[0], -1)\n",
    "\n",
    "# 분류기 생성\n",
    "train_size = int(images.shape[0] * 0.6)  # 214\n",
    "classifier = ensemble.AdaBoostClassifier(base_estimator=tree.DecisionTreeClassifier(max_depth=3), n_estimators=20)\n",
    "classifier.fit(images[:train_size], labels[:train_size])\n",
    "\n",
    "# 분류기 성능을 확인\n",
    "expected = labels[train_size:]\n",
    "predicted = classifier.predict(images[train_size:])\n",
    "\n",
    "print('Accuracy:\\n', accuracy_score(expected, predicted))\n",
    "\n",
    "'''\n",
    "           예측\n",
    "          3   8\n",
    "       ┌--------- \n",
    "실제 3 │ 63  12\n",
    "     8 │  0  68\n",
    "     \n",
    "'''\n",
    "print('Confusion matrix:\\n', confusion_matrix(expected, predicted))\n",
    "print('Precision:\\n', precision_score(expected, predicted, pos_label=3))\n",
    "print('Recall:\\n', recall_score(expected, predicted, pos_label=3))\n",
    "print('F-measure:\\n', f1_score(expected, predicted, pos_label=3))\n"
   ]
  },
  {
   "cell_type": "markdown",
   "metadata": {},
   "source": [
    "## 4.SupportVectorMachine"
   ]
  },
  {
   "cell_type": "code",
   "execution_count": 12,
   "metadata": {},
   "outputs": [
    {
     "data": {
      "image/png": "[encoded data removed]",
      "text/plain": [
       "<Figure size 432x288 with 10 Axes>"
      ]
     },
     "metadata": {
      "needs_background": "light"
     },
     "output_type": "display_data"
    }
   ],
   "source": [
    "import matplotlib.pyplot as plt\n",
    "from sklearn import datasets\n",
    "from sklearn import svm\n",
    "from sklearn.metrics import accuracy_score, confusion_matrix\n",
    "from sklearn.metrics import precision_score, recall_score, f1_score\n",
    "\n",
    "# 손으로 쓴 숫자 데이터 읽기\n",
    "digits = datasets.load_digits()\n",
    "\n",
    "# 이미지를 2행 5열로 표시\n",
    "for label, img in zip(digits.target[:10], digits.images[:10]):\n",
    "    plt.subplot(2, 5, label + 1)\n",
    "    plt.axis('off')\n",
    "    plt.imshow(img, cmap=plt.cm.gray_r, interpolation='nearest')\n",
    "    plt.title('Digit: {0}'.format(label))\n",
    "plt.show()"
   ]
  },
  {
   "cell_type": "code",
   "execution_count": 13,
   "metadata": {},
   "outputs": [
    {
     "name": "stdout",
     "output_type": "stream",
     "text": [
      "Accuracy:\n",
      " 0.937062937063\n",
      "Confusion matrix:\n",
      " [[66  9]\n",
      " [ 0 68]]\n",
      "Precision:\n",
      " 1.0\n",
      "Recall:\n",
      " 0.88\n",
      "F-measure:\n",
      " 0.936170212766\n"
     ]
    }
   ],
   "source": [
    "# 3과 8의 데이터를 구하기\n",
    "flag_3_8 = (digits.target == 3) + (digits.target == 8)\n",
    "\n",
    "# 3과 8의 데이터를 구하기\n",
    "images = digits.images[flag_3_8]\n",
    "labels = digits.target[flag_3_8]\n",
    "\n",
    "# 3과 8의 이미지 데이터를 1차원화\n",
    "images = images.reshape(images.shape[0], -1)\n",
    "\n",
    "# 분류기 생성\n",
    "train_size = int(images.shape[0] * 0.6)  # 214\n",
    "classifier = svm.SVC(C = 1.0, gamma = 0.001)\n",
    "classifier.fit(images[:train_size], labels[:train_size])\n",
    "\n",
    "# 분류기 성능을 확인\n",
    "expected = labels[train_size:]\n",
    "predicted = classifier.predict(images[train_size:])\n",
    "\n",
    "print('Accuracy:\\n', accuracy_score(expected, predicted))\n",
    "\n",
    "'''\n",
    "           예측\n",
    "          3   8\n",
    "       ┌--------- \n",
    "실제 3 │ 66  9\n",
    "     8 │  0  68\n",
    "     \n",
    "'''\n",
    "print('Confusion matrix:\\n', confusion_matrix(expected, predicted))\n",
    "print('Precision:\\n', precision_score(expected, predicted, pos_label=3))\n",
    "print('Recall:\\n', recall_score(expected, predicted, pos_label=3))\n",
    "print('F-measure:\\n', f1_score(expected, predicted, pos_label=3))\n"
   ]
  },
  {
   "cell_type": "code",
   "execution_count": null,
   "metadata": {
    "collapsed": true
   },
   "outputs": [],
   "source": []
  }
 ],
 "metadata": {
  "kernelspec": {
   "display_name": "machine",
   "language": "python",
   "name": "machine"
  },
  "language_info": {
   "codemirror_mode": {
    "name": "ipython",
    "version": 3
   },
   "file_extension": ".py",
   "mimetype": "text/x-python",
   "name": "python",
   "nbconvert_exporter": "python",
   "pygments_lexer": "ipython3",
   "version": "3.5.4"
  }
 },
 "nbformat": 4,
 "nbformat_minor": 2
}
