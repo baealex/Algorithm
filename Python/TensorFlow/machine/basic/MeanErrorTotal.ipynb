{
 "cells": [
  {
   "cell_type": "code",
   "execution_count": 1,
   "metadata": {
    "collapsed": true
   },
   "outputs": [],
   "source": [
    "import numpy as np"
   ]
  },
  {
   "cell_type": "code",
   "execution_count": 2,
   "metadata": {},
   "outputs": [
    {
     "name": "stdout",
     "output_type": "stream",
     "text": [
      "1) 총점: 15\n",
      "2) 평균: 3\n",
      "3) 평균에 대한 오차의 출력\n",
      "2.0\n",
      "1.0\n",
      "0.0\n",
      "-1.0\n",
      "-2.0\n"
     ]
    }
   ],
   "source": [
    "x = [1,2,3,4,5]\n",
    "errors = [] # 평균에 대한 오차, 편차\n",
    "errors2 = [] # 평균에 대한 오차의 제곱\n",
    "\n",
    "total = 0   # 합\n",
    "for i in range(len(x)):\n",
    "    total = total + x[i]\n",
    "\n",
    "avg = total / len(x)\n",
    "print(\"1) 총점: %d\" % total)\n",
    "print(\"2) 평균: %d\" % avg)\n",
    "print(\"3) 평균에 대한 오차의 출력\")\n",
    "for i in range(len(x)):\n",
    "    errors.append(avg - x[i])\n",
    "    print('%.1f' % errors[i])"
   ]
  },
  {
   "cell_type": "code",
   "execution_count": 3,
   "metadata": {},
   "outputs": [
    {
     "name": "stdout",
     "output_type": "stream",
     "text": [
      "4) 오차(편차)의 합\n",
      "0.0\n"
     ]
    }
   ],
   "source": [
    "print(\"4) 오차(편차)의 합\")\n",
    "errors_total  = 0\n",
    "for i in range(len(errors)):\n",
    "    errors_total = errors_total + errors[i]\n",
    "\n",
    "print(errors_total)"
   ]
  },
  {
   "cell_type": "code",
   "execution_count": 4,
   "metadata": {},
   "outputs": [
    {
     "name": "stdout",
     "output_type": "stream",
     "text": [
      "5) 오차(편차)의 제곱\n",
      "4.0\n",
      "1.0\n",
      "0.0\n",
      "1.0\n",
      "4.0\n"
     ]
    }
   ],
   "source": [
    "print(\"5) 오차(편차)의 제곱\")\n",
    "for i in range(len(x)):\n",
    "    errors2.append((avg - x[i]) **2)\n",
    "    print('%.1f' %errors2[i])"
   ]
  },
  {
   "cell_type": "code",
   "execution_count": 5,
   "metadata": {},
   "outputs": [
    {
     "name": "stdout",
     "output_type": "stream",
     "text": [
      "6) 오차(편차)의 제곱의 합\n",
      "10.0\n"
     ]
    }
   ],
   "source": [
    "print(\"6) 오차(편차)의 제곱의 합\")\n",
    "errors_total2  = 0\n",
    "for i in range(len(errors2)):\n",
    "    errors_total2 = errors_total2 + errors2[i]\n",
    "\n",
    "print(errors_total2)  # 10.0"
   ]
  },
  {
   "cell_type": "code",
   "execution_count": 7,
   "metadata": {},
   "outputs": [
    {
     "name": "stdout",
     "output_type": "stream",
     "text": [
      "7) 분산\n",
      "2.0\n"
     ]
    }
   ],
   "source": [
    "print(\"7) 분산\")\n",
    "mean_squared_error = errors_total2 / len(errors2)\n",
    "print(mean_squared_error)"
   ]
  },
  {
   "cell_type": "code",
   "execution_count": 10,
   "metadata": {},
   "outputs": [
    {
     "name": "stdout",
     "output_type": "stream",
     "text": [
      "1.0\n",
      "1.4142135623730951\n",
      "1.7320508075688772\n",
      "2.0\n",
      "2.23606797749979\n"
     ]
    }
   ],
   "source": [
    "print(np.sqrt(1))\n",
    "print(np.sqrt(2))\n",
    "print(np.sqrt(3))\n",
    "print(np.sqrt(4))\n",
    "print(np.sqrt(5))"
   ]
  },
  {
   "cell_type": "code",
   "execution_count": 11,
   "metadata": {},
   "outputs": [
    {
     "name": "stdout",
     "output_type": "stream",
     "text": [
      "8) 평균 제곱근 오차: 표준편차, 수치가 크면 연산이 어려움으로 제곱수로 축소시킴\n",
      "1.4142135623730951\n"
     ]
    }
   ],
   "source": [
    "print(\"8) 평균 제곱근 오차: 표준편차, 수치가 크면 연산이 어려움으로 제곱수로 축소시킴\")\n",
    "np_sqrt = np.sqrt(mean_squared_error)\n",
    "print(np_sqrt)  # 1.41421356237\n"
   ]
  },
  {
   "cell_type": "code",
   "execution_count": null,
   "metadata": {
    "collapsed": true
   },
   "outputs": [],
   "source": []
  }
 ],
 "metadata": {
  "kernelspec": {
   "display_name": "machine",
   "language": "python",
   "name": "machine"
  },
  "language_info": {
   "codemirror_mode": {
    "name": "ipython",
    "version": 3
   },
   "file_extension": ".py",
   "mimetype": "text/x-python",
   "name": "python",
   "nbconvert_exporter": "python",
   "pygments_lexer": "ipython3",
   "version": "3.5.4"
  }
 },
 "nbformat": 4,
 "nbformat_minor": 2
}
