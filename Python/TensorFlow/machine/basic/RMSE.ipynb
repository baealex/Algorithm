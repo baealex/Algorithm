{
 "cells": [
  {
   "cell_type": "code",
   "execution_count": 5,
   "metadata": {
    "collapsed": true
   },
   "outputs": [],
   "source": [
    "import numpy as np"
   ]
  },
  {
   "cell_type": "code",
   "execution_count": 6,
   "metadata": {},
   "outputs": [
    {
     "name": "stdout",
     "output_type": "stream",
     "text": [
      "1) x list의 합: 20\n"
     ]
    }
   ],
   "source": [
    "# x 값\n",
    "x=[2, 4, 6, 8]\n",
    "\n",
    "x_sum = sum([i for i in x])\n",
    "print('1) x list의 합: %d' %x_sum)"
   ]
  },
  {
   "cell_type": "code",
   "execution_count": 7,
   "metadata": {},
   "outputs": [
    {
     "name": "stdout",
     "output_type": "stream",
     "text": [
      "2) x 배열의 출력\n",
      "2\n",
      "4\n",
      "6\n",
      "8\n"
     ]
    }
   ],
   "source": [
    "data = [[2, 81],\n",
    "        [4, 93],\n",
    "        [6, 91],\n",
    "        [8, 97]] # list\n",
    "\n",
    "x = [i[0] for i in data] # 중첩된 List에서 0번째 요소만 추출, 2, 4, 6, 8, 독립 변수\n",
    "\n",
    "print('2) x 배열의 출력')\n",
    "for i in range(len(x)):\n",
    "    print(x[i])"
   ]
  },
  {
   "cell_type": "code",
   "execution_count": 8,
   "metadata": {},
   "outputs": [
    {
     "name": "stdout",
     "output_type": "stream",
     "text": [
      "3) y 배열의 출력\n",
      "81\n",
      "93\n",
      "91\n",
      "97\n"
     ]
    }
   ],
   "source": [
    "y = [i[1] for i in data] # 중첩된 List에서 1번째(두번째) 요소만 추출, 종속 변수\n",
    "print('3) y 배열의 출력')\n",
    "for i in range(len(y)):\n",
    "    print(y[i])"
   ]
  },
  {
   "cell_type": "code",
   "execution_count": 9,
   "metadata": {},
   "outputs": [
    {
     "name": "stdout",
     "output_type": "stream",
     "text": [
      "4) 배열의 출력\n",
      "2\n",
      "4\n",
      "6\n",
      "8\n"
     ]
    }
   ],
   "source": [
    "# NumPy library를 이용한 배열처리\n",
    "array = np.array(x)\n",
    "print('4) 배열의 출력')\n",
    "for i in array:\n",
    "    print(i)"
   ]
  },
  {
   "cell_type": "code",
   "execution_count": 10,
   "metadata": {},
   "outputs": [
    {
     "name": "stdout",
     "output_type": "stream",
     "text": [
      "5) 배열의 제곱 출력\n",
      "4\n",
      "16\n",
      "36\n",
      "64\n"
     ]
    }
   ],
   "source": [
    "array = array **2\n",
    "print('5) 배열의 제곱 출력')\n",
    "for i in array:\n",
    "    print(i)"
   ]
  },
  {
   "cell_type": "code",
   "execution_count": 11,
   "metadata": {},
   "outputs": [
    {
     "name": "stdout",
     "output_type": "stream",
     "text": [
      "6) y = 3x + 76 이라고 가정한 경우\n",
      "\n",
      "공부한 시간\t\t성적\t예측값\t오차\n",
      "2 \t\t\t 81 \t 82 \t 1\n",
      "4 \t\t\t 93 \t 88 \t -5\n",
      "6 \t\t\t 91 \t 94 \t 3\n",
      "8 \t\t\t 97 \t 100 \t 3\n"
     ]
    }
   ],
   "source": [
    "# y = ax + b\n",
    "# y = 3x + 76 이라고 가정한 경우\n",
    "a = 3\n",
    "b = 76\n",
    "print('6) y = 3x + 76 이라고 가정한 경우\\n')\n",
    "print('공부한 시간\\t\\t성적\\t예측값\\t오차')  # \\t: tab\n",
    "for i in range(len(x)):\n",
    "    forecast = int(a*x[i] + b)\n",
    "    print('%d \\t\\t\\t %d \\t %d \\t %d' %(x[i], y[i], forecast, forecast - y[i]))"
   ]
  },
  {
   "cell_type": "code",
   "execution_count": 12,
   "metadata": {
    "collapsed": true
   },
   "outputs": [],
   "source": [
    "#기울기 a와 y 절편 b, y = 3x + 76\n",
    "# ab=[3,76]   # rmse 최종값: 3.31662479036\n",
    "\n",
    "#기울기 a와 y 절편 b, y = 2x + 76\n",
    "# ab=[2,76]   # rmse 최종값: 5.38516480713\n",
    "\n",
    "#기울기 a와 y 절편 b, y = 2.79x + 77\n",
    "ab=[2.79,77]   # rmse 최종값: 3.11496388422\n",
    " \n",
    "# x,y의 데이터 값, [공부한 시간(독립 변수), 성적(실제값, 종속 변수)]\n",
    "data = [[2, 81], [4, 93], [6, 91], [8, 97]]\n",
    "x = [i[0] for i in data]  # 중첩된 List에서 0번째 요소만 추출\n",
    "y = [i[1] for i in data]  # 중첩된 List에서 1번째 요소만 추출\n"
   ]
  },
  {
   "cell_type": "code",
   "execution_count": 13,
   "metadata": {
    "collapsed": true
   },
   "outputs": [],
   "source": [
    "# RMSE(평균 제곱근 오차) 함수\n",
    "# NumPy array를 전달받아 배열 전체를 대상으로 예측값 - 실제값 **2의 평균의 제곱근을 산출함.\n",
    "# p: 예측값, a: 실제값\n",
    "def rmse(p, a):\n",
    "    return np.sqrt(((p - a) ** 2).mean()) # np.sqrt: √, mean(): 평균\n"
   ]
  },
  {
   "cell_type": "code",
   "execution_count": 15,
   "metadata": {},
   "outputs": [
    {
     "name": "stdout",
     "output_type": "stream",
     "text": [
      "공부시간=2, 실제점수=81, 예측점수=83\n",
      "공부시간=4, 실제점수=93, 예측점수=88\n",
      "공부시간=6, 실제점수=91, 예측점수=94\n",
      "공부시간=8, 실제점수=97, 예측점수=99\n"
     ]
    }
   ],
   "source": [
    "# 예측값이 들어갈 빈 리스트\n",
    "predict_result = []\n",
    "\n",
    "# 모든 x값을 한 번씩 대입하여 predict_result 리스트완성.\n",
    "for i in range(len(x)):\n",
    "    predict = ab[0]*x[i] + ab[1]  # y=ax + b에 a,b 값 대입하여 결과를 예측(predict)\n",
    "    # predict(y 값): 82 88 94 100\n",
    "    predict_result.append(predict) # 예측 List에 저장\n",
    "\n",
    "    print(\"공부시간=%.f, 실제점수=%.f, 예측점수=%.f\" % (x[i], y[i], predict))\n"
   ]
  },
  {
   "cell_type": "code",
   "execution_count": 16,
   "metadata": {},
   "outputs": [
    {
     "name": "stdout",
     "output_type": "stream",
     "text": [
      "rmse 최종값: 3.1149638842208125\n"
     ]
    }
   ],
   "source": [
    "# RMSE 함수를 각 y값에 대입하여 최종 값을 구하는 함수\n",
    "# 파이썬은 배열을 지원하지않음으로 배열을 지원하는 NumPy library를 이용함\n",
    "# predict_result: 82 88 94 100\n",
    "rmse_val = rmse(np.array(predict_result), np.array(y)) # 예측값, 실제값\n",
    "\n",
    "# 최종 RMSE 출력\n",
    "print(\"rmse 최종값: \" + str(rmse_val))"
   ]
  },
  {
   "cell_type": "code",
   "execution_count": null,
   "metadata": {
    "collapsed": true
   },
   "outputs": [],
   "source": []
  }
 ],
 "metadata": {
  "kernelspec": {
   "display_name": "machine",
   "language": "python",
   "name": "machine"
  },
  "language_info": {
   "codemirror_mode": {
    "name": "ipython",
    "version": 3
   },
   "file_extension": ".py",
   "mimetype": "text/x-python",
   "name": "python",
   "nbconvert_exporter": "python",
   "pygments_lexer": "ipython3",
   "version": "3.5.4"
  }
 },
 "nbformat": 4,
 "nbformat_minor": 2
}
