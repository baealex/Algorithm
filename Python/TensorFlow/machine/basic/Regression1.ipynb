{
 "cells": [
  {
   "cell_type": "code",
   "execution_count": 1,
   "metadata": {
    "collapsed": true
   },
   "outputs": [],
   "source": [
    "import numpy as np\n",
    "import matplotlib.pyplot as plt"
   ]
  },
  {
   "cell_type": "code",
   "execution_count": 2,
   "metadata": {
    "collapsed": true
   },
   "outputs": [],
   "source": [
    "# 학습 데이터를 읽는다. skiprows=1: 첫번째행 skip\n",
    "train = np.loadtxt('click.csv', delimiter=',', dtype='int', skiprows=1)\n",
    "train_x = train[:,0]  # 모든행의  첫번째 열\n",
    "train_y = train[:,1]  # 모든행의  두번째 열"
   ]
  },
  {
   "cell_type": "code",
   "execution_count": 3,
   "metadata": {},
   "outputs": [
    {
     "data": {
      "image/png": "[encoded data removed]",
      "text/plain": [
       "<matplotlib.figure.Figure at 0x9c8eda0>"
      ]
     },
     "metadata": {},
     "output_type": "display_data"
    }
   ],
   "source": [
    "plt.plot(train_x, train_y, 'o')\n",
    "plt.show()"
   ]
  },
  {
   "cell_type": "code",
   "execution_count": 4,
   "metadata": {
    "collapsed": true
   },
   "outputs": [],
   "source": [
    "# 표준화: 평균 0, 분산 1\n",
    "mu = train_x.mean()    # 모평균(평균)\n",
    "sigma = train_x.std()  # 표준편차\n",
    "\n",
    "def standardize(x):\n",
    "    return (x - mu) / sigma"
   ]
  },
  {
   "cell_type": "code",
   "execution_count": 5,
   "metadata": {},
   "outputs": [
    {
     "data": {
      "text/plain": [
       "array([ 1.39433428,  1.11069026,  0.09554325, -1.59139223, -0.8449606 ,\n",
       "        0.93154667, -1.38239138, -1.74067856,  0.46875906,  0.73747445,\n",
       "       -0.11345761, -0.63595975, -0.36724436, -0.44188752,  0.3045441 ,\n",
       "        1.94669369,  0.25975821,  0.25975821, -1.23310505,  0.84197488])"
      ]
     },
     "execution_count": 5,
     "metadata": {},
     "output_type": "execute_result"
    }
   ],
   "source": [
    "train_z = standardize(train_x)\n",
    "train_z"
   ]
  },
  {
   "cell_type": "code",
   "execution_count": 6,
   "metadata": {},
   "outputs": [
    {
     "data": {
      "image/png": "[encoded data removed]",
      "text/plain": [
       "<matplotlib.figure.Figure at 0x11eea630>"
      ]
     },
     "metadata": {},
     "output_type": "display_data"
    }
   ],
   "source": [
    "plt.plot(train_z, train_y, 'o')\n",
    "plt.show()"
   ]
  },
  {
   "cell_type": "code",
   "execution_count": 7,
   "metadata": {},
   "outputs": [
    {
     "name": "stdout",
     "output_type": "stream",
     "text": [
      "0.6789308412823407\n",
      "0.6881815944242136\n"
     ]
    }
   ],
   "source": [
    "# 매개변수를 초기화한다. 학습 하기전에 정답을 모름으로 대충 난수로 결정함.\n",
    "a = np.random.rand()  # 기울기\n",
    "print(a)\n",
    "b = np.random.rand()  # 편향\n",
    "print(b)\n"
   ]
  },
  {
   "cell_type": "code",
   "execution_count": 8,
   "metadata": {
    "collapsed": true
   },
   "outputs": [],
   "source": [
    "# 예측함수: y = ax +b\n",
    "def f(x):\n",
    "    return a * x + b"
   ]
  },
  {
   "cell_type": "code",
   "execution_count": 9,
   "metadata": {
    "collapsed": true
   },
   "outputs": [],
   "source": [
    "# 목적함수: 손실 함수, 0.5 손실값을 작은 값으로 처리, 손실값은 감소를 목적으로 함.\n",
    "def E(x, y):\n",
    "    return 0.5 * np.sum((y - f(x)) ** 2)"
   ]
  },
  {
   "cell_type": "code",
   "execution_count": 10,
   "metadata": {},
   "outputs": [
    {
     "data": {
      "text/plain": [
       "0.001"
      ]
     },
     "execution_count": 10,
     "metadata": {},
     "output_type": "execute_result"
    }
   ],
   "source": [
    "# 학습률\n",
    "ETA = 0.001\n",
    "ETA"
   ]
  },
  {
   "cell_type": "code",
   "execution_count": 11,
   "metadata": {
    "collapsed": true
   },
   "outputs": [],
   "source": [
    "# 오차의 차분\n",
    "diff = 1"
   ]
  },
  {
   "cell_type": "code",
   "execution_count": 12,
   "metadata": {
    "collapsed": true
   },
   "outputs": [],
   "source": [
    "# 갱신 횟수\n",
    "count = 0"
   ]
  },
  {
   "cell_type": "code",
   "execution_count": 13,
   "metadata": {},
   "outputs": [
    {
     "name": "stdout",
     "output_type": "stream",
     "text": [
      "error:  1931456.8704140745\n"
     ]
    }
   ],
   "source": [
    "error = E(train_z, train_y) # 난수를 가지고 특별한 계산없이 오차 확인\n",
    "print('error: ', error)"
   ]
  },
  {
   "cell_type": "code",
   "execution_count": 14,
   "metadata": {},
   "outputs": [
    {
     "name": "stdout",
     "output_type": "stream",
     "text": [
      "np.sum((f(train_z) - train_y)):  -8569.236368111517\n",
      "np.sum((f(train_z) - train_y) * train_z:  -1855.9967415811811\n"
     ]
    }
   ],
   "source": [
    "# 표준화된 값에서 실제값을 뺀후 합을 구함. \n",
    "print('np.sum((f(train_z) - train_y)): ', np.sum((f(train_z) - train_y)))\n",
    "print('np.sum((f(train_z) - train_y) * train_z: ', np.sum((f(train_z) - train_y) * train_z))"
   ]
  },
  {
   "cell_type": "code",
   "execution_count": 15,
   "metadata": {},
   "outputs": [
    {
     "name": "stdout",
     "output_type": "stream",
     "text": [
      "1회째: 편향b = 9.257, 기울기 a = 2.535, 차분 = 76107.7705\n",
      "2회째: 편향b = 17.655, 기울기 a = 4.354, 차분 = 73093.9028\n",
      "3회째: 편향b = 25.885, 기울기 a = 6.136, 차분 = 70199.3842\n",
      "4회째: 편향b = 33.950, 기울기 a = 7.883, 차분 = 67419.4886\n",
      "5회째: 편향b = 41.854, 기울기 a = 9.595, 차분 = 64749.6769\n",
      "6회째: 편향b = 49.600, 기울기 a = 11.273, 차분 = 62185.5897\n",
      "7회째: 편향b = 57.191, 기울기 a = 12.917, 차분 = 59723.0403\n",
      "8회째: 편향b = 64.631, 기울기 a = 14.528, 차분 = 57358.0079\n",
      "9회째: 편향b = 71.921, 기울기 a = 16.107, 차분 = 55086.6308\n",
      "10회째: 편향b = 79.065, 기울기 a = 17.655, 차분 = 52905.2002\n",
      "11회째: 편향b = 86.067, 기울기 a = 19.171, 차분 = 50810.1543\n",
      "12회째: 편향b = 92.929, 기울기 a = 20.657, 차분 = 48798.0722\n",
      "13회째: 편향b = 99.653, 기울기 a = 22.114, 차분 = 46865.6685\n",
      "14회째: 편향b = 106.243, 기울기 a = 23.541, 차분 = 45009.7880\n",
      "15회째: 편향b = 112.701, 기울기 a = 24.940, 차분 = 43227.4004\n",
      "16회째: 편향b = 119.030, 기울기 a = 26.310, 차분 = 41515.5954\n",
      "17회째: 편향b = 125.233, 기울기 a = 27.654, 차분 = 39871.5778\n",
      "18회째: 편향b = 131.311, 기울기 a = 28.970, 차분 = 38292.6633\n",
      "19회째: 편향b = 137.268, 기울기 a = 30.260, 차분 = 36776.2739\n",
      "20회째: 편향b = 143.105, 기울기 a = 31.525, 차분 = 35319.9334\n",
      "21회째: 편향b = 148.826, 기울기 a = 32.764, 차분 = 33921.2640\n",
      "22회째: 편향b = 154.433, 기울기 a = 33.978, 차분 = 32577.9820\n",
      "23회째: 편향b = 159.927, 기울기 a = 35.168, 차분 = 31287.8939\n",
      "24회째: 편향b = 165.312, 기울기 a = 36.334, 차분 = 30048.8933\n",
      "25회째: 편향b = 170.588, 기울기 a = 37.477, 차분 = 28858.9571\n",
      "26회째: 편향b = 175.760, 기울기 a = 38.597, 차분 = 27716.1424\n",
      "27회째: 편향b = 180.827, 기울기 a = 39.695, 차분 = 26618.5832\n",
      "28회째: 편향b = 185.794, 기울기 a = 40.771, 차분 = 25564.4873\n",
      "29회째: 편향b = 190.661, 기울기 a = 41.825, 차분 = 24552.1336\n",
      "30회째: 편향b = 195.431, 기울기 a = 42.858, 차분 = 23579.8691\n",
      "31회째: 편향b = 200.105, 기울기 a = 43.870, 차분 = 22646.1063\n",
      "32회째: 편향b = 204.686, 기울기 a = 44.862, 차분 = 21749.3205\n",
      "33회째: 편향b = 209.175, 기울기 a = 45.835, 차분 = 20888.0474\n",
      "34회째: 편향b = 213.575, 기울기 a = 46.788, 차분 = 20060.8807\n",
      "35회째: 편향b = 217.886, 기울기 a = 47.722, 차분 = 19266.4698\n",
      "36회째: 편향b = 222.112, 기울기 a = 48.637, 차분 = 18503.5176\n",
      "37회째: 편향b = 226.252, 기울기 a = 49.534, 차분 = 17770.7783\n",
      "38회째: 편향b = 230.310, 기울기 a = 50.412, 차분 = 17067.0555\n",
      "39회째: 편향b = 234.287, 기울기 a = 51.274, 차분 = 16391.2001\n",
      "40회째: 편향b = 238.184, 기울기 a = 52.118, 차분 = 15742.1086\n",
      "41회째: 편향b = 242.004, 기울기 a = 52.945, 차분 = 15118.7211\n",
      "42회째: 편향b = 245.747, 기울기 a = 53.756, 차분 = 14520.0197\n",
      "43회째: 편향b = 249.415, 기울기 a = 54.550, 차분 = 13945.0270\n",
      "44회째: 편향b = 253.009, 기울기 a = 55.329, 차분 = 13392.8039\n",
      "45회째: 편향b = 256.532, 기울기 a = 56.092, 차분 = 12862.4489\n",
      "46회째: 편향b = 259.985, 기울기 a = 56.840, 차분 = 12353.0959\n",
      "47회째: 편향b = 263.368, 기울기 a = 57.572, 차분 = 11863.9133\n",
      "48회째: 편향b = 266.684, 기울기 a = 58.290, 차분 = 11394.1023\n",
      "49회째: 편향b = 269.933, 기울기 a = 58.994, 차분 = 10942.8959\n",
      "50회째: 편향b = 273.117, 기울기 a = 59.684, 차분 = 10509.5572\n",
      "51회째: 편향b = 276.238, 기울기 a = 60.360, 차분 = 10093.3787\n",
      "52회째: 편향b = 279.296, 기울기 a = 61.022, 차분 = 9693.6809\n",
      "53회째: 편향b = 282.293, 기울기 a = 61.671, 차분 = 9309.8112\n",
      "54회째: 편향b = 285.230, 기울기 a = 62.307, 차분 = 8941.1426\n",
      "55회째: 편향b = 288.109, 기울기 a = 62.931, 차분 = 8587.0734\n",
      "56회째: 편향b = 290.930, 기울기 a = 63.542, 차분 = 8247.0253\n",
      "57회째: 편향b = 293.694, 기울기 a = 64.141, 차분 = 7920.4431\n",
      "58회째: 편향b = 296.403, 기울기 a = 64.727, 차분 = 7606.7935\n",
      "59회째: 편향b = 299.058, 기울기 a = 65.302, 차분 = 7305.5645\n",
      "60회째: 편향b = 301.660, 기울기 a = 65.866, 차분 = 7016.2642\n",
      "61회째: 편향b = 304.210, 기울기 a = 66.418, 차분 = 6738.4201\n",
      "62회째: 편향b = 306.708, 기울기 a = 66.959, 차분 = 6471.5787\n",
      "63회째: 편향b = 309.157, 기울기 a = 67.490, 차분 = 6215.3041\n",
      "64회째: 편향b = 311.557, 기울기 a = 68.010, 차분 = 5969.1781\n",
      "65회째: 편향b = 313.909, 기울기 a = 68.519, 차분 = 5732.7986\n",
      "66회째: 편향b = 316.214, 기울기 a = 69.018, 차분 = 5505.7798\n",
      "67회째: 편향b = 318.473, 기울기 a = 69.507, 차분 = 5287.7509\n",
      "68회째: 편향b = 320.686, 기울기 a = 69.987, 차분 = 5078.3560\n",
      "69회째: 편향b = 322.855, 기울기 a = 70.457, 차분 = 4877.2531\n",
      "70회째: 편향b = 324.981, 기울기 a = 70.917, 차분 = 4684.1139\n",
      "71회째: 편향b = 327.065, 기울기 a = 71.368, 차분 = 4498.6230\n",
      "72회째: 편향b = 329.106, 기울기 a = 71.810, 차분 = 4320.4775\n",
      "73회째: 편향b = 331.107, 기울기 a = 72.244, 차분 = 4149.3866\n",
      "74회째: 편향b = 333.068, 기울기 a = 72.669, 차분 = 3985.0709\n",
      "75회째: 편향b = 334.990, 기울기 a = 73.085, 차분 = 3827.2621\n",
      "76회째: 편향b = 336.873, 기울기 a = 73.493, 차분 = 3675.7025\n",
      "77회째: 편향b = 338.718, 기울기 a = 73.892, 차분 = 3530.1447\n",
      "78회째: 편향b = 340.527, 기울기 a = 74.284, 차분 = 3390.3510\n",
      "79회째: 편향b = 342.300, 기울기 a = 74.668, 차분 = 3256.0931\n",
      "80회째: 편향b = 344.037, 기울기 a = 75.044, 차분 = 3127.1518\n",
      "81회째: 편향b = 345.739, 기울기 a = 75.413, 차분 = 3003.3166\n",
      "82회째: 편향b = 347.407, 기울기 a = 75.774, 차분 = 2884.3852\n",
      "83회째: 편향b = 349.042, 기울기 a = 76.128, 차분 = 2770.1636\n",
      "84회째: 편향b = 350.644, 기울기 a = 76.475, 차분 = 2660.4651\n",
      "85회째: 편향b = 352.214, 기울기 a = 76.815, 차분 = 2555.1107\n",
      "86회째: 편향b = 353.753, 기울기 a = 77.149, 차분 = 2453.9283\n",
      "87회째: 편향b = 355.261, 기울기 a = 77.475, 차분 = 2356.7527\n",
      "88회째: 편향b = 356.739, 기울기 a = 77.795, 차분 = 2263.4253\n",
      "89회째: 편향b = 358.187, 기울기 a = 78.109, 차분 = 2173.7937\n",
      "90회째: 편향b = 359.606, 기울기 a = 78.416, 차분 = 2087.7114\n",
      "91회째: 편향b = 360.997, 기울기 a = 78.718, 차분 = 2005.0381\n",
      "92회째: 편향b = 362.360, 기울기 a = 79.013, 차분 = 1925.6386\n",
      "93회째: 편향b = 363.696, 기울기 a = 79.302, 차분 = 1849.3833\n",
      "94회째: 편향b = 365.005, 기울기 a = 79.586, 차분 = 1776.1477\n",
      "95회째: 편향b = 366.288, 기울기 a = 79.864, 차분 = 1705.8123\n",
      "96회째: 편향b = 367.545, 기울기 a = 80.136, 차분 = 1638.2621\n",
      "97회째: 편향b = 368.777, 기울기 a = 80.403, 차분 = 1573.3869\n",
      "98회째: 편향b = 369.985, 기울기 a = 80.664, 차분 = 1511.0808\n",
      "99회째: 편향b = 371.168, 기울기 a = 80.921, 차분 = 1451.2420\n",
      "100회째: 편향b = 372.328, 기울기 a = 81.172, 차분 = 1393.7728\n",
      "101회째: 편향b = 373.464, 기울기 a = 81.418, 차분 = 1338.5794\n",
      "102회째: 편향b = 374.578, 기울기 a = 81.659, 차분 = 1285.5717\n",
      "103회째: 편향b = 375.669, 기울기 a = 81.895, 차분 = 1234.6630\n",
      "104회째: 편향b = 376.739, 기울기 a = 82.127, 차분 = 1185.7704\n",
      "105회째: 편향b = 377.787, 기울기 a = 82.354, 차분 = 1138.8139\n",
      "106회째: 편향b = 378.814, 기울기 a = 82.577, 차분 = 1093.7168\n",
      "107회째: 편향b = 379.821, 기울기 a = 82.795, 차분 = 1050.4056\n",
      "108회째: 편향b = 380.808, 기울기 a = 83.008, 차분 = 1008.8096\n",
      "109회째: 편향b = 381.774, 기울기 a = 83.218, 차분 = 968.8607\n",
      "110회째: 편향b = 382.722, 기울기 a = 83.423, 차분 = 930.4938\n",
      "111회째: 편향b = 383.651, 기울기 a = 83.624, 차분 = 893.6463\n",
      "112회째: 편향b = 384.560, 기울기 a = 83.821, 차분 = 858.2579\n",
      "113회째: 편향b = 385.452, 기울기 a = 84.014, 차분 = 824.2709\n",
      "114회째: 편향b = 386.326, 기울기 a = 84.204, 차분 = 791.6297\n",
      "115회째: 편향b = 387.183, 기울기 a = 84.389, 차분 = 760.2812\n",
      "116회째: 편향b = 388.022, 기울기 a = 84.571, 차분 = 730.1741\n",
      "117회째: 편향b = 388.845, 기울기 a = 84.749, 차분 = 701.2592\n",
      "118회째: 편향b = 389.651, 기울기 a = 84.924, 차분 = 673.4893\n",
      "119회째: 편향b = 390.441, 기울기 a = 85.095, 차분 = 646.8191\n",
      "120회째: 편향b = 391.215, 기울기 a = 85.262, 차분 = 621.2051\n",
      "121회째: 편향b = 391.974, 기울기 a = 85.427, 차분 = 596.6054\n",
      "122회째: 편향b = 392.717, 기울기 a = 85.588, 차분 = 572.9798\n",
      "123회째: 편향b = 393.446, 기울기 a = 85.746, 차분 = 550.2898\n",
      "124회째: 편향b = 394.160, 기울기 a = 85.900, 차분 = 528.4983\n",
      "125회째: 편향b = 394.860, 기울기 a = 86.052, 차분 = 507.5698\n",
      "126회째: 편향b = 395.545, 기울기 a = 86.200, 차분 = 487.4700\n",
      "127회째: 편향b = 396.218, 기울기 a = 86.346, 차분 = 468.1662\n",
      "128회째: 편향b = 396.876, 기울기 a = 86.489, 차분 = 449.6268\n",
      "129회째: 편향b = 397.522, 기울기 a = 86.628, 차분 = 431.8216\n",
      "130회째: 편향b = 398.154, 기울기 a = 86.765, 차분 = 414.7215\n",
      "131회째: 편향b = 398.774, 기울기 a = 86.900, 차분 = 398.2985\n",
      "132회째: 편향b = 399.382, 기울기 a = 87.031, 차분 = 382.5259\n",
      "133회째: 편향b = 399.977, 기울기 a = 87.160, 차분 = 367.3779\n",
      "134회째: 편향b = 400.561, 기울기 a = 87.287, 차분 = 352.8297\n",
      "135회째: 편향b = 401.132, 기울기 a = 87.410, 차분 = 338.8576\n",
      "136회째: 편향b = 401.693, 기울기 a = 87.532, 차분 = 325.4389\n",
      "137회째: 편향b = 402.242, 기울기 a = 87.651, 차분 = 312.5515\n",
      "138회째: 편향b = 402.780, 기울기 a = 87.767, 차분 = 300.1745\n",
      "139회째: 편향b = 403.307, 기울기 a = 87.882, 차분 = 288.2876\n",
      "140회째: 편향b = 403.824, 기울기 a = 87.994, 차분 = 276.8714\n",
      "141회째: 편향b = 404.331, 기울기 a = 88.103, 차분 = 265.9073\n",
      "142회째: 편향b = 404.827, 기울기 a = 88.211, 차분 = 255.3773\n",
      "143회째: 편향b = 405.314, 기울기 a = 88.316, 차분 = 245.2644\n",
      "144회째: 편향b = 405.790, 기울기 a = 88.419, 차분 = 235.5519\n",
      "145회째: 편향b = 406.258, 기울기 a = 88.521, 차분 = 226.2241\n",
      "146회째: 편향b = 406.715, 기울기 a = 88.620, 차분 = 217.2656\n",
      "147회째: 편향b = 407.164, 기울기 a = 88.717, 차분 = 208.6619\n",
      "148회째: 편향b = 407.604, 기울기 a = 88.812, 차분 = 200.3989\n",
      "149회째: 편향b = 408.035, 기울기 a = 88.905, 차분 = 192.4631\n",
      "150회째: 편향b = 408.457, 기울기 a = 88.997, 차분 = 184.8415\n",
      "151회째: 편향b = 408.871, 기울기 a = 89.087, 차분 = 177.5218\n",
      "152회째: 편향b = 409.276, 기울기 a = 89.174, 차분 = 170.4919\n",
      "153회째: 편향b = 409.674, 기울기 a = 89.260, 차분 = 163.7405\n",
      "154회째: 편향b = 410.063, 기울기 a = 89.345, 차분 = 157.2563\n",
      "155회째: 편향b = 410.445, 기울기 a = 89.428, 차분 = 151.0290\n",
      "156회째: 편향b = 410.819, 기울기 a = 89.509, 차분 = 145.0482\n",
      "157회째: 편향b = 411.186, 기울기 a = 89.588, 차분 = 139.3043\n",
      "158회째: 편향b = 411.545, 기울기 a = 89.666, 차분 = 133.7879\n",
      "159회째: 편향b = 411.897, 기울기 a = 89.742, 차분 = 128.4899\n",
      "160회째: 편향b = 412.242, 기울기 a = 89.817, 차분 = 123.4017\n",
      "161회째: 편향b = 412.580, 기울기 a = 89.890, 차분 = 118.5150\n",
      "162회째: 편향b = 412.912, 기울기 a = 89.962, 차분 = 113.8218\n",
      "163회째: 편향b = 413.237, 기울기 a = 90.032, 차분 = 109.3144\n",
      "164회째: 편향b = 413.555, 기울기 a = 90.101, 차분 = 104.9856\n",
      "165회째: 편향b = 413.867, 기울기 a = 90.169, 차분 = 100.8282\n",
      "166회째: 편향b = 414.172, 기울기 a = 90.235, 차분 = 96.8354\n",
      "167회째: 편향b = 414.472, 기울기 a = 90.300, 차분 = 93.0007\n",
      "168회째: 편향b = 414.766, 기울기 a = 90.363, 차분 = 89.3179\n",
      "169회째: 편향b = 415.053, 기울기 a = 90.426, 차분 = 85.7809\n",
      "170회째: 편향b = 415.335, 기울기 a = 90.487, 차분 = 82.3839\n",
      "171회째: 편향b = 415.611, 기울기 a = 90.546, 차분 = 79.1215\n",
      "172회째: 편향b = 415.882, 기울기 a = 90.605, 차분 = 75.9883\n",
      "173회째: 편향b = 416.148, 기울기 a = 90.663, 차분 = 72.9792\n",
      "174회째: 편향b = 416.408, 기울기 a = 90.719, 차분 = 70.0892\n",
      "175회째: 편향b = 416.663, 기울기 a = 90.774, 차분 = 67.3137\n",
      "176회째: 편향b = 416.912, 기울기 a = 90.828, 차분 = 64.6481\n",
      "177회째: 편향b = 417.157, 기울기 a = 90.881, 차분 = 62.0880\n",
      "178회째: 편향b = 417.397, 기울기 a = 90.933, 차분 = 59.6293\n",
      "179회째: 편향b = 417.632, 기울기 a = 90.984, 차분 = 57.2680\n",
      "180회째: 편향b = 417.862, 기울기 a = 91.034, 차분 = 55.0002\n",
      "181회째: 편향b = 418.088, 기울기 a = 91.083, 차분 = 52.8222\n",
      "182회째: 편향b = 418.309, 기울기 a = 91.131, 차분 = 50.7304\n",
      "183회째: 편향b = 418.526, 기울기 a = 91.178, 차분 = 48.7215\n",
      "184회째: 편향b = 418.739, 기울기 a = 91.224, 차분 = 46.7921\n",
      "185회째: 편향b = 418.947, 기울기 a = 91.269, 차분 = 44.9392\n",
      "186회째: 편향b = 419.151, 기울기 a = 91.313, 차분 = 43.1596\n",
      "187회째: 편향b = 419.351, 기울기 a = 91.356, 차분 = 41.4504\n",
      "188회째: 편향b = 419.547, 기울기 a = 91.399, 차분 = 39.8090\n",
      "189회째: 편향b = 419.739, 기울기 a = 91.440, 차분 = 38.2326\n",
      "190회째: 편향b = 419.927, 기울기 a = 91.481, 차분 = 36.7186\n",
      "191회째: 편향b = 420.112, 기울기 a = 91.521, 차분 = 35.2645\n",
      "192회째: 편향b = 420.292, 기울기 a = 91.560, 차분 = 33.8680\n",
      "193회째: 편향b = 420.470, 기울기 a = 91.599, 차분 = 32.5269\n",
      "194회째: 편향b = 420.643, 기울기 a = 91.636, 차분 = 31.2388\n",
      "195회째: 편향b = 420.813, 기울기 a = 91.673, 차분 = 30.0017\n",
      "196회째: 편향b = 420.980, 기울기 a = 91.709, 차분 = 28.8137\n",
      "197회째: 편향b = 421.143, 기울기 a = 91.745, 차분 = 27.6726\n",
      "198회째: 편향b = 421.304, 기울기 a = 91.779, 차분 = 26.5768\n",
      "199회째: 편향b = 421.460, 기울기 a = 91.813, 차분 = 25.5244\n",
      "200회째: 편향b = 421.614, 기울기 a = 91.847, 차분 = 24.5136\n",
      "201회째: 편향b = 421.765, 기울기 a = 91.879, 차분 = 23.5429\n",
      "202회째: 편향b = 421.913, 기울기 a = 91.911, 차분 = 22.6106\n",
      "203회째: 편향b = 422.057, 기울기 a = 91.943, 차분 = 21.7152\n",
      "204회째: 편향b = 422.199, 기울기 a = 91.973, 차분 = 20.8553\n",
      "205회째: 편향b = 422.338, 기울기 a = 92.003, 차분 = 20.0294\n",
      "206회째: 편향b = 422.475, 기울기 a = 92.033, 차분 = 19.2362\n",
      "207회째: 편향b = 422.608, 기울기 a = 92.062, 차분 = 18.4745\n",
      "208회째: 편향b = 422.739, 기울기 a = 92.090, 차분 = 17.7429\n",
      "209회째: 편향b = 422.867, 기울기 a = 92.118, 차분 = 17.0403\n",
      "210회째: 편향b = 422.993, 기울기 a = 92.145, 차분 = 16.3655\n",
      "211회째: 편향b = 423.116, 기울기 a = 92.172, 차분 = 15.7174\n",
      "212회째: 편향b = 423.237, 기울기 a = 92.198, 차분 = 15.0950\n",
      "213회째: 편향b = 423.355, 기울기 a = 92.224, 차분 = 14.4972\n",
      "214회째: 편향b = 423.471, 기울기 a = 92.249, 차분 = 13.9231\n",
      "215회째: 편향b = 423.584, 기울기 a = 92.273, 차분 = 13.3718\n",
      "216회째: 편향b = 423.696, 기울기 a = 92.297, 차분 = 12.8423\n",
      "217회째: 편향b = 423.805, 기울기 a = 92.321, 차분 = 12.3337\n",
      "218회째: 편향b = 423.912, 기울기 a = 92.344, 차분 = 11.8453\n",
      "219회째: 편향b = 424.016, 기울기 a = 92.367, 차분 = 11.3762\n",
      "220회째: 편향b = 424.119, 기울기 a = 92.389, 차분 = 10.9257\n",
      "221회째: 편향b = 424.220, 기울기 a = 92.411, 차분 = 10.4931\n",
      "222회째: 편향b = 424.318, 기울기 a = 92.432, 차분 = 10.0775\n",
      "223회째: 편향b = 424.415, 기울기 a = 92.453, 차분 = 9.6785\n",
      "224회째: 편향b = 424.510, 기울기 a = 92.474, 차분 = 9.2952\n",
      "225회째: 편향b = 424.602, 기울기 a = 92.494, 차분 = 8.9271\n",
      "226회째: 편향b = 424.693, 기울기 a = 92.514, 차분 = 8.5736\n",
      "227회째: 편향b = 424.783, 기울기 a = 92.533, 차분 = 8.2341\n",
      "228회째: 편향b = 424.870, 기울기 a = 92.552, 차분 = 7.9080\n",
      "229회째: 편향b = 424.955, 기울기 a = 92.570, 차분 = 7.5949\n",
      "230회째: 편향b = 425.039, 기울기 a = 92.588, 차분 = 7.2941\n",
      "231회째: 편향b = 425.122, 기울기 a = 92.606, 차분 = 7.0053\n",
      "232회째: 편향b = 425.202, 기울기 a = 92.624, 차분 = 6.7278\n",
      "233회째: 편향b = 425.281, 기울기 a = 92.641, 차분 = 6.4614\n",
      "234회째: 편향b = 425.358, 기울기 a = 92.658, 차분 = 6.2055\n",
      "235회째: 편향b = 425.434, 기울기 a = 92.674, 차분 = 5.9598\n",
      "236회째: 편향b = 425.509, 기울기 a = 92.690, 차분 = 5.7238\n",
      "237회째: 편향b = 425.581, 기울기 a = 92.706, 차분 = 5.4971\n",
      "238회째: 편향b = 425.653, 기울기 a = 92.721, 차분 = 5.2795\n",
      "239회째: 편향b = 425.723, 기울기 a = 92.736, 차분 = 5.0704\n",
      "240회째: 편향b = 425.791, 기울기 a = 92.751, 차분 = 4.8696\n",
      "241회째: 편향b = 425.858, 기울기 a = 92.766, 차분 = 4.6768\n",
      "242회째: 편향b = 425.924, 기울기 a = 92.780, 차분 = 4.4916\n",
      "243회째: 편향b = 425.989, 기울기 a = 92.794, 차분 = 4.3137\n",
      "244회째: 편향b = 426.052, 기울기 a = 92.808, 차분 = 4.1429\n",
      "245회째: 편향b = 426.114, 기울기 a = 92.821, 차분 = 3.9788\n",
      "246회째: 편향b = 426.175, 기울기 a = 92.834, 차분 = 3.8213\n",
      "247회째: 편향b = 426.234, 기울기 a = 92.847, 차분 = 3.6699\n",
      "248회째: 편향b = 426.293, 기울기 a = 92.860, 차분 = 3.5246\n",
      "249회째: 편향b = 426.350, 기울기 a = 92.872, 차분 = 3.3850\n",
      "250회째: 편향b = 426.406, 기울기 a = 92.884, 차분 = 3.2510\n",
      "251회째: 편향b = 426.461, 기울기 a = 92.896, 차분 = 3.1222\n",
      "252회째: 편향b = 426.514, 기울기 a = 92.908, 차분 = 2.9986\n",
      "253회째: 편향b = 426.567, 기울기 a = 92.919, 차분 = 2.8799\n",
      "254회째: 편향b = 426.619, 기울기 a = 92.931, 차분 = 2.7658\n",
      "255회째: 편향b = 426.669, 기울기 a = 92.941, 차분 = 2.6563\n",
      "256회째: 편향b = 426.719, 기울기 a = 92.952, 차분 = 2.5511\n",
      "257회째: 편향b = 426.768, 기울기 a = 92.963, 차분 = 2.4501\n",
      "258회째: 편향b = 426.815, 기울기 a = 92.973, 차분 = 2.3531\n",
      "259회째: 편향b = 426.862, 기울기 a = 92.983, 차분 = 2.2599\n",
      "260회째: 편향b = 426.908, 기울기 a = 92.993, 차분 = 2.1704\n",
      "261회째: 편향b = 426.953, 기울기 a = 93.003, 차분 = 2.0844\n",
      "262회째: 편향b = 426.997, 기울기 a = 93.012, 차분 = 2.0019\n",
      "263회째: 편향b = 427.040, 기울기 a = 93.022, 차분 = 1.9226\n",
      "264회째: 편향b = 427.082, 기울기 a = 93.031, 차분 = 1.8465\n",
      "265회째: 편향b = 427.123, 기울기 a = 93.040, 차분 = 1.7734\n",
      "266회째: 편향b = 427.164, 기울기 a = 93.049, 차분 = 1.7031\n",
      "267회째: 편향b = 427.203, 기울기 a = 93.057, 차분 = 1.6357\n",
      "268회째: 편향b = 427.242, 기울기 a = 93.066, 차분 = 1.5709\n",
      "269회째: 편향b = 427.280, 기울기 a = 93.074, 차분 = 1.5087\n",
      "270회째: 편향b = 427.318, 기울기 a = 93.082, 차분 = 1.4490\n",
      "271회째: 편향b = 427.355, 기울기 a = 93.090, 차분 = 1.3916\n",
      "272회째: 편향b = 427.390, 기울기 a = 93.098, 차분 = 1.3365\n",
      "273회째: 편향b = 427.426, 기울기 a = 93.105, 차분 = 1.2836\n",
      "274회째: 편향b = 427.460, 기울기 a = 93.113, 차분 = 1.2327\n",
      "275회째: 편향b = 427.494, 기울기 a = 93.120, 차분 = 1.1839\n",
      "276회째: 편향b = 427.527, 기울기 a = 93.127, 차분 = 1.1370\n",
      "277회째: 편향b = 427.559, 기울기 a = 93.134, 차분 = 1.0920\n",
      "278회째: 편향b = 427.591, 기울기 a = 93.141, 차분 = 1.0488\n",
      "279회째: 편향b = 427.622, 기울기 a = 93.148, 차분 = 1.0072\n",
      "280회째: 편향b = 427.653, 기울기 a = 93.155, 차분 = 0.9673\n",
      "281회째: 편향b = 427.683, 기울기 a = 93.161, 차분 = 0.9290\n",
      "282회째: 편향b = 427.712, 기울기 a = 93.167, 차분 = 0.8922\n",
      "283회째: 편향b = 427.741, 기울기 a = 93.174, 차분 = 0.8569\n",
      "284회째: 편향b = 427.769, 기울기 a = 93.180, 차분 = 0.8230\n",
      "285회째: 편향b = 427.797, 기울기 a = 93.186, 차분 = 0.7904\n",
      "286회째: 편향b = 427.824, 기울기 a = 93.192, 차분 = 0.7591\n",
      "287회째: 편향b = 427.850, 기울기 a = 93.197, 차분 = 0.7290\n",
      "288회째: 편향b = 427.876, 기울기 a = 93.203, 차분 = 0.7002\n",
      "289회째: 편향b = 427.902, 기울기 a = 93.208, 차분 = 0.6724\n",
      "290회째: 편향b = 427.927, 기울기 a = 93.214, 차분 = 0.6458\n",
      "291회째: 편향b = 427.951, 기울기 a = 93.219, 차분 = 0.6202\n",
      "292회째: 편향b = 427.975, 기울기 a = 93.224, 차분 = 0.5957\n",
      "293회째: 편향b = 427.999, 기울기 a = 93.229, 차분 = 0.5721\n",
      "294회째: 편향b = 428.022, 기울기 a = 93.234, 차분 = 0.5494\n",
      "295회째: 편향b = 428.044, 기울기 a = 93.239, 차분 = 0.5277\n",
      "296회째: 편향b = 428.066, 기울기 a = 93.244, 차분 = 0.5068\n",
      "297회째: 편향b = 428.088, 기울기 a = 93.249, 차분 = 0.4867\n",
      "298회째: 편향b = 428.109, 기울기 a = 93.253, 차분 = 0.4674\n",
      "299회째: 편향b = 428.130, 기울기 a = 93.258, 차분 = 0.4489\n",
      "300회째: 편향b = 428.151, 기울기 a = 93.262, 차분 = 0.4311\n",
      "301회째: 편향b = 428.171, 기울기 a = 93.267, 차분 = 0.4141\n",
      "302회째: 편향b = 428.190, 기울기 a = 93.271, 차분 = 0.3977\n",
      "303회째: 편향b = 428.209, 기울기 a = 93.275, 차분 = 0.3819\n",
      "304회째: 편향b = 428.228, 기울기 a = 93.279, 차분 = 0.3668\n",
      "305회째: 편향b = 428.247, 기울기 a = 93.283, 차분 = 0.3523\n",
      "306회째: 편향b = 428.265, 기울기 a = 93.287, 차분 = 0.3383\n",
      "307회째: 편향b = 428.282, 기울기 a = 93.291, 차분 = 0.3249\n",
      "308회째: 편향b = 428.300, 기울기 a = 93.295, 차분 = 0.3121\n",
      "309회째: 편향b = 428.317, 기울기 a = 93.298, 차분 = 0.2997\n",
      "310회째: 편향b = 428.333, 기울기 a = 93.302, 차분 = 0.2878\n",
      "311회째: 편향b = 428.350, 기울기 a = 93.305, 차분 = 0.2764\n",
      "312회째: 편향b = 428.366, 기울기 a = 93.309, 차분 = 0.2655\n",
      "313회째: 편향b = 428.381, 기울기 a = 93.312, 차분 = 0.2550\n",
      "314회째: 편향b = 428.397, 기울기 a = 93.316, 차분 = 0.2449\n",
      "315회째: 편향b = 428.412, 기울기 a = 93.319, 차분 = 0.2352\n",
      "316회째: 편향b = 428.427, 기울기 a = 93.322, 차분 = 0.2259\n",
      "317회째: 편향b = 428.441, 기울기 a = 93.325, 차분 = 0.2169\n",
      "318회째: 편향b = 428.455, 기울기 a = 93.328, 차분 = 0.2083\n",
      "319회째: 편향b = 428.469, 기울기 a = 93.331, 차분 = 0.2001\n",
      "320회째: 편향b = 428.483, 기울기 a = 93.334, 차분 = 0.1922\n",
      "321회째: 편향b = 428.496, 기울기 a = 93.337, 차분 = 0.1846\n",
      "322회째: 편향b = 428.509, 기울기 a = 93.340, 차분 = 0.1772\n",
      "323회째: 편향b = 428.522, 기울기 a = 93.343, 차분 = 0.1702\n",
      "324회째: 편향b = 428.535, 기울기 a = 93.345, 차분 = 0.1635\n",
      "325회째: 편향b = 428.547, 기울기 a = 93.348, 차분 = 0.1570\n",
      "326회째: 편향b = 428.559, 기울기 a = 93.351, 차분 = 0.1508\n",
      "327회째: 편향b = 428.571, 기울기 a = 93.353, 차분 = 0.1448\n",
      "328회째: 편향b = 428.582, 기울기 a = 93.356, 차분 = 0.1391\n",
      "329회째: 편향b = 428.594, 기울기 a = 93.358, 차분 = 0.1336\n",
      "330회째: 편향b = 428.605, 기울기 a = 93.361, 차분 = 0.1283\n",
      "331회째: 편향b = 428.616, 기울기 a = 93.363, 차분 = 0.1232\n",
      "332회째: 편향b = 428.626, 기울기 a = 93.365, 차분 = 0.1183\n",
      "333회째: 편향b = 428.637, 기울기 a = 93.368, 차분 = 0.1136\n",
      "334회째: 편향b = 428.647, 기울기 a = 93.370, 차분 = 0.1091\n",
      "335회째: 편향b = 428.657, 기울기 a = 93.372, 차분 = 0.1048\n",
      "336회째: 편향b = 428.667, 기울기 a = 93.374, 차분 = 0.1007\n",
      "337회째: 편향b = 428.677, 기울기 a = 93.376, 차분 = 0.0967\n",
      "338회째: 편향b = 428.686, 기울기 a = 93.378, 차분 = 0.0929\n",
      "339회째: 편향b = 428.695, 기울기 a = 93.380, 차분 = 0.0892\n",
      "340회째: 편향b = 428.705, 기울기 a = 93.382, 차분 = 0.0856\n",
      "341회째: 편향b = 428.713, 기울기 a = 93.384, 차분 = 0.0823\n",
      "342회째: 편향b = 428.722, 기울기 a = 93.386, 차분 = 0.0790\n",
      "343회째: 편향b = 428.731, 기울기 a = 93.388, 차분 = 0.0759\n",
      "344회째: 편향b = 428.739, 기울기 a = 93.390, 차분 = 0.0729\n",
      "345회째: 편향b = 428.747, 기울기 a = 93.392, 차분 = 0.0700\n",
      "346회째: 편향b = 428.755, 기울기 a = 93.393, 차분 = 0.0672\n",
      "347회째: 편향b = 428.763, 기울기 a = 93.395, 차분 = 0.0645\n",
      "348회째: 편향b = 428.771, 기울기 a = 93.397, 차분 = 0.0620\n",
      "349회째: 편향b = 428.779, 기울기 a = 93.398, 차분 = 0.0595\n",
      "350회째: 편향b = 428.786, 기울기 a = 93.400, 차분 = 0.0572\n",
      "351회째: 편향b = 428.793, 기울기 a = 93.402, 차분 = 0.0549\n",
      "352회째: 편향b = 428.800, 기울기 a = 93.403, 차분 = 0.0527\n",
      "353회째: 편향b = 428.807, 기울기 a = 93.405, 차분 = 0.0507\n",
      "354회째: 편향b = 428.814, 기울기 a = 93.406, 차분 = 0.0486\n",
      "355회째: 편향b = 428.821, 기울기 a = 93.408, 차분 = 0.0467\n",
      "356회째: 편향b = 428.828, 기울기 a = 93.409, 차분 = 0.0449\n",
      "357회째: 편향b = 428.834, 기울기 a = 93.410, 차분 = 0.0431\n",
      "358회째: 편향b = 428.840, 기울기 a = 93.412, 차분 = 0.0414\n",
      "359회째: 편향b = 428.847, 기울기 a = 93.413, 차분 = 0.0397\n",
      "360회째: 편향b = 428.853, 기울기 a = 93.414, 차분 = 0.0382\n",
      "361회째: 편향b = 428.859, 기울기 a = 93.416, 차분 = 0.0367\n",
      "362회째: 편향b = 428.864, 기울기 a = 93.417, 차분 = 0.0352\n",
      "363회째: 편향b = 428.870, 기울기 a = 93.418, 차분 = 0.0338\n",
      "364회째: 편향b = 428.876, 기울기 a = 93.419, 차분 = 0.0325\n",
      "365회째: 편향b = 428.881, 기울기 a = 93.421, 차분 = 0.0312\n",
      "366회째: 편향b = 428.887, 기울기 a = 93.422, 차분 = 0.0300\n",
      "367회째: 편향b = 428.892, 기울기 a = 93.423, 차분 = 0.0288\n",
      "368회째: 편향b = 428.897, 기울기 a = 93.424, 차분 = 0.0276\n",
      "369회째: 편향b = 428.902, 기울기 a = 93.425, 차분 = 0.0265\n",
      "370회째: 편향b = 428.907, 기울기 a = 93.426, 차분 = 0.0255\n",
      "371회째: 편향b = 428.912, 기울기 a = 93.427, 차분 = 0.0245\n",
      "372회째: 편향b = 428.917, 기울기 a = 93.428, 차분 = 0.0235\n",
      "373회째: 편향b = 428.921, 기울기 a = 93.429, 차분 = 0.0226\n",
      "374회째: 편향b = 428.926, 기울기 a = 93.430, 차분 = 0.0217\n",
      "375회째: 편향b = 428.930, 기울기 a = 93.431, 차분 = 0.0208\n",
      "376회째: 편향b = 428.935, 기울기 a = 93.432, 차분 = 0.0200\n",
      "377회째: 편향b = 428.939, 기울기 a = 93.433, 차분 = 0.0192\n",
      "378회째: 편향b = 428.943, 기울기 a = 93.434, 차분 = 0.0184\n",
      "379회째: 편향b = 428.947, 기울기 a = 93.435, 차분 = 0.0177\n",
      "380회째: 편향b = 428.951, 기울기 a = 93.436, 차분 = 0.0170\n",
      "381회째: 편향b = 428.955, 기울기 a = 93.437, 차분 = 0.0163\n",
      "382회째: 편향b = 428.959, 기울기 a = 93.437, 차분 = 0.0157\n",
      "383회째: 편향b = 428.963, 기울기 a = 93.438, 차분 = 0.0151\n",
      "384회째: 편향b = 428.967, 기울기 a = 93.439, 차분 = 0.0145\n",
      "385회째: 편향b = 428.971, 기울기 a = 93.440, 차분 = 0.0139\n",
      "386회째: 편향b = 428.974, 기울기 a = 93.441, 차분 = 0.0134\n",
      "387회째: 편향b = 428.978, 기울기 a = 93.441, 차분 = 0.0128\n",
      "388회째: 편향b = 428.981, 기울기 a = 93.442, 차분 = 0.0123\n",
      "389회째: 편향b = 428.984, 기울기 a = 93.443, 차분 = 0.0118\n",
      "390회째: 편향b = 428.988, 기울기 a = 93.444, 차분 = 0.0114\n",
      "391회째: 편향b = 428.991, 기울기 a = 93.444, 차분 = 0.0109\n",
      "392회째: 편향b = 428.994, 기울기 a = 93.445, 차분 = 0.0105\n",
      "393회째: 편향b = 428.997, 기울기 a = 93.446, 차분 = 0.0101\n",
      "394회째: 편향b = 429.000, 기울기 a = 93.446, 차분 = 0.0097\n"
     ]
    }
   ],
   "source": [
    "# 연속 실행하면 기존 값의 영향을 받음으로 처음 부터 실행 할것\n",
    "# 오차의 차분이 0.01이하가 될 때까지 매개변수 갱신을 반복한다\n",
    "while diff > 0.01:\n",
    "    # 갱신 결과를 임시변수에 저장한다.\n",
    "    # 편미분의 사용\n",
    "    tmp_b = b - ETA * np.sum((f(train_z) - train_y)) # 편향\n",
    "    tmp_a = a - ETA * np.sum((f(train_z) - train_y) * train_z)  # 기울기\n",
    "\n",
    "    # 매개변수를 갱신한다\n",
    "    b = tmp_b  # 편향\n",
    "    a = tmp_a  # 기울기\n",
    "\n",
    "    # 이전 회의 오차와의 차분을 계산한다\n",
    "    current_error = E(train_z, train_y)\n",
    "    diff = error - current_error  # 오차 계산\n",
    "    error = current_error\n",
    "\n",
    "    # 로그를 출력한다\n",
    "    count += 1\n",
    "    log = '{}회째: 편향b = {:.3f}, 기울기 a = {:.3f}, 차분 = {:.4f}'\n",
    "    print(log.format(count, b, a, diff))"
   ]
  },
  {
   "cell_type": "code",
   "execution_count": 16,
   "metadata": {},
   "outputs": [
    {
     "name": "stdout",
     "output_type": "stream",
     "text": [
      "f(x) = 93.44636224798975 *x + 429.0003812750166\n"
     ]
    }
   ],
   "source": [
    "print('f(x) =',a, '*x', '+', b)"
   ]
  },
  {
   "cell_type": "code",
   "execution_count": 17,
   "metadata": {},
   "outputs": [
    {
     "data": {
      "text/plain": [
       "array([-3.        , -2.93939394, -2.87878788, -2.81818182, -2.75757576,\n",
       "       -2.6969697 , -2.63636364, -2.57575758, -2.51515152, -2.45454545,\n",
       "       -2.39393939, -2.33333333, -2.27272727, -2.21212121, -2.15151515,\n",
       "       -2.09090909, -2.03030303, -1.96969697, -1.90909091, -1.84848485,\n",
       "       -1.78787879, -1.72727273, -1.66666667, -1.60606061, -1.54545455,\n",
       "       -1.48484848, -1.42424242, -1.36363636, -1.3030303 , -1.24242424,\n",
       "       -1.18181818, -1.12121212, -1.06060606, -1.        , -0.93939394,\n",
       "       -0.87878788, -0.81818182, -0.75757576, -0.6969697 , -0.63636364,\n",
       "       -0.57575758, -0.51515152, -0.45454545, -0.39393939, -0.33333333,\n",
       "       -0.27272727, -0.21212121, -0.15151515, -0.09090909, -0.03030303,\n",
       "        0.03030303,  0.09090909,  0.15151515,  0.21212121,  0.27272727,\n",
       "        0.33333333,  0.39393939,  0.45454545,  0.51515152,  0.57575758,\n",
       "        0.63636364,  0.6969697 ,  0.75757576,  0.81818182,  0.87878788,\n",
       "        0.93939394,  1.        ,  1.06060606,  1.12121212,  1.18181818,\n",
       "        1.24242424,  1.3030303 ,  1.36363636,  1.42424242,  1.48484848,\n",
       "        1.54545455,  1.60606061,  1.66666667,  1.72727273,  1.78787879,\n",
       "        1.84848485,  1.90909091,  1.96969697,  2.03030303,  2.09090909,\n",
       "        2.15151515,  2.21212121,  2.27272727,  2.33333333,  2.39393939,\n",
       "        2.45454545,  2.51515152,  2.57575758,  2.63636364,  2.6969697 ,\n",
       "        2.75757576,  2.81818182,  2.87878788,  2.93939394,  3.        ])"
      ]
     },
     "execution_count": 17,
     "metadata": {},
     "output_type": "execute_result"
    }
   ],
   "source": [
    "x = np.linspace(-3, 3, 100) # -3 ~ 3까지 100개의 구간으로 분할\n",
    "x"
   ]
  },
  {
   "cell_type": "code",
   "execution_count": 18,
   "metadata": {},
   "outputs": [
    {
     "data": {
      "image/png": "[encoded data removed]",
      "text/plain": [
       "<matplotlib.figure.Figure at 0x12fda5c0>"
      ]
     },
     "metadata": {},
     "output_type": "display_data"
    }
   ],
   "source": [
    "# 그래프로 나타낸다\n",
    "x = np.linspace(-3, 3, 100)\n",
    "plt.plot(train_z, train_y, 'o') # 기존에 발생된 데이터, csv 파일 내용\n",
    "plt.plot(x, f(x))  # x값에 대한 y값을 예측하여 출력\n",
    "plt.show()\n"
   ]
  },
  {
   "cell_type": "code",
   "execution_count": 19,
   "metadata": {},
   "outputs": [
    {
     "data": {
      "text/plain": [
       "370.9672826999425"
      ]
     },
     "execution_count": 19,
     "metadata": {},
     "output_type": "execute_result"
    }
   ],
   "source": [
    "# 검증\n",
    "f(standardize(100))  # 100 만원 사용시 370회 클릭"
   ]
  },
  {
   "cell_type": "code",
   "execution_count": 20,
   "metadata": {},
   "outputs": [
    {
     "data": {
      "text/plain": [
       "510.4699235054091"
      ]
     },
     "execution_count": 20,
     "metadata": {},
     "output_type": "execute_result"
    }
   ],
   "source": [
    "f(standardize(200))  # 200 만원 사용시 510회 클릭"
   ]
  },
  {
   "cell_type": "code",
   "execution_count": 21,
   "metadata": {},
   "outputs": [
    {
     "data": {
      "text/plain": [
       "649.9725643108757"
      ]
     },
     "execution_count": 21,
     "metadata": {},
     "output_type": "execute_result"
    }
   ],
   "source": [
    "f(standardize(300))  # 300 만원 사용시 649회 클릭"
   ]
  },
  {
   "cell_type": "code",
   "execution_count": 22,
   "metadata": {},
   "outputs": [
    {
     "data": {
      "text/plain": [
       "472.8042104879331"
      ]
     },
     "execution_count": 22,
     "metadata": {},
     "output_type": "execute_result"
    }
   ],
   "source": [
    "f(standardize(173))  # 498"
   ]
  },
  {
   "cell_type": "code",
   "execution_count": null,
   "metadata": {
    "collapsed": true
   },
   "outputs": [],
   "source": []
  }
 ],
 "metadata": {
  "kernelspec": {
   "display_name": "machine",
   "language": "python",
   "name": "machine"
  },
  "language_info": {
   "codemirror_mode": {
    "name": "ipython",
    "version": 3
   },
   "file_extension": ".py",
   "mimetype": "text/x-python",
   "name": "python",
   "nbconvert_exporter": "python",
   "pygments_lexer": "ipython3",
   "version": "3.5.4"
  }
 },
 "nbformat": 4,
 "nbformat_minor": 2
}
