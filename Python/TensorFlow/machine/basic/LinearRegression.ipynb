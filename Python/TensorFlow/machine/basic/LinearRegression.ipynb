{
 "cells": [
  {
   "cell_type": "code",
   "execution_count": 1,
   "metadata": {
    "collapsed": true
   },
   "outputs": [],
   "source": [
    "import numpy as np"
   ]
  },
  {
   "cell_type": "code",
   "execution_count": 2,
   "metadata": {},
   "outputs": [
    {
     "name": "stdout",
     "output_type": "stream",
     "text": [
      "4.0\n"
     ]
    }
   ],
   "source": [
    "x = [2,4,6]\n",
    "mx = np.mean(x)\n",
    "print(mx) # 대표값"
   ]
  },
  {
   "cell_type": "code",
   "execution_count": 3,
   "metadata": {},
   "outputs": [
    {
     "name": "stdout",
     "output_type": "stream",
     "text": [
      "2\n",
      "4\n",
      "6\n"
     ]
    }
   ],
   "source": [
    "for i in x:\n",
    "    print(i)"
   ]
  },
  {
   "cell_type": "code",
   "execution_count": 7,
   "metadata": {},
   "outputs": [
    {
     "name": "stdout",
     "output_type": "stream",
     "text": [
      "4\n",
      "16\n",
      "36\n",
      "sum : 56\n"
     ]
    }
   ],
   "source": [
    "data = [i ** 2 for i in x]\n",
    "for i in data:\n",
    "    print(i)\n",
    "    \n",
    "total = sum(data)\n",
    "print(\"sum :\", total)"
   ]
  },
  {
   "cell_type": "code",
   "execution_count": 8,
   "metadata": {},
   "outputs": [
    {
     "name": "stdout",
     "output_type": "stream",
     "text": [
      "0\n",
      "1\n",
      "2\n"
     ]
    }
   ],
   "source": [
    "for i in range(len(data)):\n",
    "    print(i)"
   ]
  },
  {
   "cell_type": "code",
   "execution_count": 9,
   "metadata": {},
   "outputs": [
    {
     "name": "stdout",
     "output_type": "stream",
     "text": [
      "300\n"
     ]
    }
   ],
   "source": [
    "def sum(x, y): # 내장함수 재정의\n",
    "    total = x + y\n",
    "    return total\n",
    "\n",
    "mTotal = sum(100, 200)\n",
    "print(mTotal)"
   ]
  },
  {
   "cell_type": "code",
   "execution_count": 10,
   "metadata": {
    "collapsed": true
   },
   "outputs": [],
   "source": [
    "x = [2, 4, 6, 8]     # 독립 변수, 변량\n",
    "y = [81, 93, 91, 97] # 종속 변수\n",
    "mx = np.mean(x)\n",
    "my = np.mean(y)"
   ]
  },
  {
   "cell_type": "code",
   "execution_count": 11,
   "metadata": {},
   "outputs": [
    {
     "name": "stdout",
     "output_type": "stream",
     "text": [
      "분자: 46.0\n",
      "분모: 20.0\n"
     ]
    }
   ],
   "source": [
    "# 기울기 공식의 분모 산출: 편차(평균과의 차이)의 제곱의 합\n",
    "divisor = np.sum([(i - mx)**2 for i in x])   # 20.0\n",
    "# divisor = np.sum([(mx - i)**2 for i in x]) # 20.0\n",
    "\n",
    "# 기울기 공식의 분자 산출\n",
    "def top(x, mx, y, my):\n",
    "    child = 0\n",
    "    for i in range(len(x)): # 0 ~ n-1\n",
    "        child = child + (x[i] - mx) * (y[i] - my)\n",
    " \n",
    "    return child\n",
    " \n",
    "dividend = top(x, mx, y, my) # x값, x 평균, y 값, y 평균\n",
    "print(\"분자:\",dividend)\n",
    "print(\"분모:\",divisor)"
   ]
  },
  {
   "cell_type": "code",
   "execution_count": 13,
   "metadata": {},
   "outputs": [
    {
     "name": "stdout",
     "output_type": "stream",
     "text": [
      "2.3 79.0\n",
      "최종 선형회귀 모델 : y = 2.3x + 79.0\n"
     ]
    }
   ],
   "source": [
    "# 기울기 a, y 절편 b 구하기\n",
    "a = dividend / divisor\n",
    "b = my - (mx * a)\n",
    "print(a, b)\n",
    "print('최종 선형회귀 모델 : ', end='')\n",
    "print('y = ' + str(a) + 'x + ' + str(b))"
   ]
  },
  {
   "cell_type": "code",
   "execution_count": 14,
   "metadata": {},
   "outputs": [
    {
     "name": "stdout",
     "output_type": "stream",
     "text": [
      "검증\n",
      "공부한 시간\t예측 값\t\t실제 성적\n",
      "2\t\t83.6\t\t81\n",
      "4\t\t88.2\t\t93\n",
      "6\t\t92.8\t\t91\n",
      "8\t\t97.4\t\t97\n"
     ]
    }
   ],
   "source": [
    "print('검증')\n",
    "print('공부한 시간\\t예측 값\\t\\t실제 성적') # \\t: tab\n",
    "for i in range(len(x)):\n",
    "    print(str(x[i]) + '\\t\\t' + str(float(a*x[i] + b)) + '\\t\\t' + str(y[i]))"
   ]
  },
  {
   "cell_type": "code",
   "execution_count": null,
   "metadata": {
    "collapsed": true
   },
   "outputs": [],
   "source": []
  }
 ],
 "metadata": {
  "kernelspec": {
   "display_name": "machine",
   "language": "python",
   "name": "machine"
  },
  "language_info": {
   "codemirror_mode": {
    "name": "ipython",
    "version": 3
   },
   "file_extension": ".py",
   "mimetype": "text/x-python",
   "name": "python",
   "nbconvert_exporter": "python",
   "pygments_lexer": "ipython3",
   "version": "3.5.4"
  }
 },
 "nbformat": 4,
 "nbformat_minor": 2
}
