{
 "cells": [
  {
   "cell_type": "code",
   "execution_count": null,
   "metadata": {
    "collapsed": true
   },
   "outputs": [],
   "source": [
    "def roundsu(su1):\n",
    "    su1 = su1 + 0.5\n",
    "    return str(int(su1))\n",
    "\n",
    "def tot(*args): # 가변 인수, 전달받은 수의 합계\n",
    "    tot = 0\n",
    "    for su in args:\n",
    "        tot = tot + su\n",
    "    return tot"
   ]
  }
 ],
 "metadata": {
  "kernelspec": {
   "display_name": "machine",
   "language": "python",
   "name": "machine"
  },
  "language_info": {
   "codemirror_mode": {
    "name": "ipython",
    "version": 3
   },
   "file_extension": ".py",
   "mimetype": "text/x-python",
   "name": "python",
   "nbconvert_exporter": "python",
   "pygments_lexer": "ipython3",
   "version": "3.5.4"
  }
 },
 "nbformat": 4,
 "nbformat_minor": 2
}
