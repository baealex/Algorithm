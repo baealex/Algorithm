{
 "cells": [
  {
   "cell_type": "code",
   "execution_count": 23,
   "metadata": {},
   "outputs": [],
   "source": [
    "def movie1(name):\n",
    "    print(\"영화명 : \" + name)\n",
    "    \n",
    "def movie2(name, genre):\n",
    "    print(\"영화명 : \" + name)\n",
    "    print(\"장  르 : \" + genre)\n",
    "    \n",
    "def movie3(name, genre, score=5.0):\n",
    "    print(\"영화명 : \" + name)\n",
    "    print(\"장  르 : \" + genre)\n",
    "    print(\"점  수 : \" + str(score))\n",
    "    \n",
    "def movie4(name, time, genre):\n",
    "    print(\"영화명 : \" + name)\n",
    "    print(\"시  간 : \" + str(time))\n",
    "    print(\"장  르 : \" + genre)"
   ]
  },
  {
   "cell_type": "code",
   "execution_count": 27,
   "metadata": {},
   "outputs": [
    {
     "name": "stdout",
     "output_type": "stream",
     "text": [
      "영화명 : 검은 사제들\n",
      "====================\n",
      "영화명 : 인터스텔라\n",
      "장  르 : SF\n",
      "====================\n",
      "영화명 : 애나벨\n",
      "장  르 : 공포\n",
      "점  수 : 5.0\n",
      "====================\n",
      "영화명 : 컨저링\n",
      "시  간 : 120\n",
      "장  르 : 공포\n",
      "====================\n",
      "영화명 : 그\n",
      "시  간 : 130\n",
      "장  르 : 저기\n"
     ]
    }
   ],
   "source": [
    "movie1('검은 사제들')\n",
    "print(\"====================\")\n",
    "movie2('인터스텔라','SF')\n",
    "print(\"====================\")\n",
    "movie3('애나벨','공포')\n",
    "print(\"====================\")\n",
    "movie4('컨저링',120,'공포')\n",
    "print(\"====================\")\n",
    "movie4(time=130,genre='저기',name='그')"
   ]
  },
  {
   "cell_type": "code",
   "execution_count": 28,
   "metadata": {
    "collapsed": true
   },
   "outputs": [],
   "source": [
    "def movie5(*actors):  # tupe, 가변인자 처리\n",
    "    print(type(actors))\n",
    "    print(actors)\n",
    "    print('----------------------------')\n",
    "\n",
    "def movie6(movie, **actors):  # 고정과 가변인자 병합 처리\n",
    "    print(type(actors))\n",
    "    print(movie)\n",
    "    print(actors)  # Dictionary"
   ]
  },
  {
   "cell_type": "code",
   "execution_count": 31,
   "metadata": {},
   "outputs": [
    {
     "name": "stdout",
     "output_type": "stream",
     "text": [
      "<class 'tuple'>\n",
      "('안성기', '김수미')\n",
      "----------------------------\n",
      "<class 'tuple'>\n",
      "('메릴 스트립', '콜린 퍼스', '휴잭맨')\n",
      "----------------------------\n",
      "<class 'dict'>\n",
      "인터스텔라\n",
      "{'actor3': '마이클 케인', 'actor2': '앤 헤서웨이', 'actor1': '맥커너희'}\n"
     ]
    }
   ],
   "source": [
    "movie5('안성기', '김수미')\n",
    "movie5('메릴 스트립', '콜린 퍼스', '휴잭맨')\n",
    "movie6('인터스텔라', actor1='맥커너희', actor2='앤 헤서웨이', actor3='마이클 케인')"
   ]
  },
  {
   "cell_type": "code",
   "execution_count": 38,
   "metadata": {
    "collapsed": true
   },
   "outputs": [],
   "source": [
    "param = 10\n",
    "strdata = '전역 변수'"
   ]
  },
  {
   "cell_type": "code",
   "execution_count": 39,
   "metadata": {},
   "outputs": [
    {
     "name": "stdout",
     "output_type": "stream",
     "text": [
      "지역 변수\n",
      "전역 변수\n"
     ]
    }
   ],
   "source": [
    "def func1():\n",
    "    strdata = '지역 변수'\n",
    "    print(strdata)\n",
    "\n",
    "func1()\n",
    "print(strdata)"
   ]
  },
  {
   "cell_type": "code",
   "execution_count": 41,
   "metadata": {},
   "outputs": [
    {
     "name": "stdout",
     "output_type": "stream",
     "text": [
      "func2 param: 5\n",
      "10\n"
     ]
    }
   ],
   "source": [
    "def func2(param):\n",
    "    print('func2 param: ' + str(param))\n",
    "    param = 2017\n",
    "\n",
    "func2(5)\n",
    "print(param)"
   ]
  },
  {
   "cell_type": "code",
   "execution_count": 43,
   "metadata": {},
   "outputs": [
    {
     "name": "stdout",
     "output_type": "stream",
     "text": [
      "5\n"
     ]
    }
   ],
   "source": [
    "def func3(_param):\n",
    "    global param  # 전역 변수 사용 선언\n",
    "    param = _param\n",
    "    \n",
    "func3(5)\n",
    "print(param)"
   ]
  },
  {
   "cell_type": "code",
   "execution_count": 47,
   "metadata": {},
   "outputs": [
    {
     "name": "stdout",
     "output_type": "stream",
     "text": [
      "30\n"
     ]
    }
   ],
   "source": [
    "def maxno(x, y):\n",
    "    if x > y:\n",
    "        return x\n",
    "    else:\n",
    "        return y\n",
    "\n",
    "print(maxno(10, 30))"
   ]
  },
  {
   "cell_type": "code",
   "execution_count": 49,
   "metadata": {},
   "outputs": [
    {
     "name": "stdout",
     "output_type": "stream",
     "text": [
      "February\n"
     ]
    }
   ],
   "source": [
    "def season(month):\n",
    "    season=''\n",
    "    if month == 1:\n",
    "        season = 'January'\n",
    "    elif month == 2:\n",
    "        season = 'February'\n",
    "    elif month == 3:\n",
    "        season = \"March\"\n",
    "    else:\n",
    "        season = '1 ~ 3월 입력 가능'\n",
    "    return season\n",
    "\n",
    "mSeason = season(2)\n",
    "print(mSeason)"
   ]
  },
  {
   "cell_type": "code",
   "execution_count": 61,
   "metadata": {},
   "outputs": [
    {
     "name": "stdout",
     "output_type": "stream",
     "text": [
      "(5, 4, 3, 2, 1)\n"
     ]
    }
   ],
   "source": [
    "def reverse(*param):\n",
    "    temp = ()\n",
    "    for i in range(len(param)-1,-1,-1):\n",
    "        temp += (param[i],)\n",
    "    return temp\n",
    "\n",
    "print(reverse(1,2,3,4,5))"
   ]
  },
  {
   "cell_type": "code",
   "execution_count": 65,
   "metadata": {},
   "outputs": [
    {
     "name": "stdout",
     "output_type": "stream",
     "text": [
      "((1, 2), ('A', 'B'))\n",
      "(1, 2) ('A', 'B')\n",
      "1 2 A B\n"
     ]
    }
   ],
   "source": [
    "def data():\n",
    "    return (1,2),('A','B')\n",
    "\n",
    "ret = data()\n",
    "print(ret)\n",
    "\n",
    "x, y = data()\n",
    "print(x, y)\n",
    "\n",
    "(x1, x2), (y1, y2) = data()\n",
    "print(x1, x2, y1, y2)"
   ]
  }
 ],
 "metadata": {
  "kernelspec": {
   "display_name": "machine",
   "language": "python",
   "name": "machine"
  },
  "language_info": {
   "codemirror_mode": {
    "name": "ipython",
    "version": 3
   },
   "file_extension": ".py",
   "mimetype": "text/x-python",
   "name": "python",
   "nbconvert_exporter": "python",
   "pygments_lexer": "ipython3",
   "version": "3.5.4"
  }
 },
 "nbformat": 4,
 "nbformat_minor": 2
}
