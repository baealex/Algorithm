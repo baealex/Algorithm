{
 "cells": [
  {
   "cell_type": "code",
   "execution_count": 4,
   "metadata": {
    "collapsed": true
   },
   "outputs": [],
   "source": [
    "import pandas as pd\n",
    "import numpy as np"
   ]
  },
  {
   "cell_type": "code",
   "execution_count": 3,
   "metadata": {},
   "outputs": [
    {
     "name": "stdout",
     "output_type": "stream",
     "text": [
      "0    1\n",
      "1    3\n",
      "2    5\n",
      "3    7\n",
      "4    9\n",
      "dtype: int64\n"
     ]
    }
   ],
   "source": [
    "s1 = pd.Series([1,3,5,7,9])\n",
    "print(s1)"
   ]
  },
  {
   "cell_type": "code",
   "execution_count": 6,
   "metadata": {},
   "outputs": [
    {
     "name": "stdout",
     "output_type": "stream",
     "text": [
      "0    1.0\n",
      "1    3.0\n",
      "2    NaN\n",
      "3    7.0\n",
      "4    9.0\n",
      "dtype: float64\n"
     ]
    }
   ],
   "source": [
    "s1 = pd.Series([1,3,np.nan,7,9]) # NaN : Not a number\n",
    "print(s1)"
   ]
  },
  {
   "cell_type": "code",
   "execution_count": 9,
   "metadata": {},
   "outputs": [
    {
     "name": "stdout",
     "output_type": "stream",
     "text": [
      "[1 3 5 7 9]\n",
      "<class 'numpy.ndarray'>\n",
      "0    1\n",
      "1    3\n",
      "2    5\n",
      "3    7\n",
      "4    9\n",
      "dtype: int32\n",
      "<class 'pandas.core.series.Series'>\n"
     ]
    }
   ],
   "source": [
    "arr = np.array([1,3,5,7,9])\n",
    "print(arr)\n",
    "print(type(arr))\n",
    "s2 = pd.Series(arr)\n",
    "print(s2)\n",
    "print(type(s2))"
   ]
  },
  {
   "cell_type": "code",
   "execution_count": 11,
   "metadata": {},
   "outputs": [
    {
     "name": "stdout",
     "output_type": "stream",
     "text": [
      "   A  B\n",
      "0  1  2\n",
      "1  3  4\n",
      "<class 'pandas.core.frame.DataFrame'>\n"
     ]
    }
   ],
   "source": [
    "s3 = pd.DataFrame([[1,2],[3,4]], columns=['A', 'B'])\n",
    "print(s3)\n",
    "print(type(s3))"
   ]
  },
  {
   "cell_type": "code",
   "execution_count": 15,
   "metadata": {},
   "outputs": [
    {
     "name": "stdout",
     "output_type": "stream",
     "text": [
      "        kor       eng       mat    python        ai\n",
      "0 -2.343980  0.727916  0.452574 -0.586692  0.293923\n",
      "1 -1.599261  0.818415  0.298128 -1.632746  1.067972\n",
      "2 -1.125299 -2.680495 -0.136437  0.564797 -1.211022\n",
      "3 -0.796287 -0.675229 -0.811505  0.492620 -1.162766\n",
      "4  2.110459  0.687029 -0.206935 -0.489426  0.623421\n",
      "5 -0.196907  1.035668 -0.384705  0.286278  0.254600\n",
      "6 -0.284830  0.027694 -2.246317  0.545430  1.000395\n",
      "7 -0.126026 -1.035724  1.380291  0.217945 -0.326968\n",
      "8  0.714468  1.426457  0.194371 -0.143697  0.166516\n",
      "9  0.570372 -0.008878 -0.705754 -0.115491  2.401467\n"
     ]
    }
   ],
   "source": [
    "s4 = pd.DataFrame(np.random.randn(10,5), columns=['kor', 'eng', 'mat', 'python', 'ai'])\n",
    "print(s4)"
   ]
  },
  {
   "cell_type": "code",
   "execution_count": 17,
   "metadata": {},
   "outputs": [
    {
     "name": "stdout",
     "output_type": "stream",
     "text": [
      "        kor       eng       mat    python        ai\n",
      "4  2.110459  0.687029 -0.206935 -0.489426  0.623421\n",
      "5 -0.196907  1.035668 -0.384705  0.286278  0.254600\n"
     ]
    }
   ],
   "source": [
    "s5 = s4[(3 < s4.index) & (s4.index < 6)]\n",
    "print(s5)"
   ]
  },
  {
   "cell_type": "code",
   "execution_count": 18,
   "metadata": {},
   "outputs": [
    {
     "name": "stdout",
     "output_type": "stream",
     "text": [
      "        kor       eng       mat    python        ai\n",
      "5 -0.196907  1.035668 -0.384705  0.286278  0.254600\n",
      "6 -0.284830  0.027694 -2.246317  0.545430  1.000395\n",
      "7 -0.126026 -1.035724  1.380291  0.217945 -0.326968\n",
      "8  0.714468  1.426457  0.194371 -0.143697  0.166516\n",
      "9  0.570372 -0.008878 -0.705754 -0.115491  2.401467\n"
     ]
    }
   ],
   "source": [
    "print(s4.tail())"
   ]
  },
  {
   "cell_type": "code",
   "execution_count": 19,
   "metadata": {},
   "outputs": [
    {
     "data": {
      "text/plain": [
       "Index(['kor', 'eng', 'mat', 'python', 'ai'], dtype='object')"
      ]
     },
     "execution_count": 19,
     "metadata": {},
     "output_type": "execute_result"
    }
   ],
   "source": [
    "s4.columns"
   ]
  },
  {
   "cell_type": "code",
   "execution_count": 20,
   "metadata": {},
   "outputs": [
    {
     "name": "stdout",
     "output_type": "stream",
     "text": [
      "RangeIndex(start=0, stop=10, step=1)\n"
     ]
    }
   ],
   "source": [
    "print(s4.index)"
   ]
  },
  {
   "cell_type": "code",
   "execution_count": 21,
   "metadata": {},
   "outputs": [
    {
     "name": "stdout",
     "output_type": "stream",
     "text": [
      "             kor        eng        mat     python         ai\n",
      "count  10.000000  10.000000  10.000000  10.000000  10.000000\n",
      "mean   -0.307729   0.032285  -0.216629  -0.086098   0.310754\n",
      "std     1.266267   1.223982   0.953322   0.682974   1.076817\n",
      "min    -2.343980  -2.680495  -2.246317  -1.632746  -1.211022\n",
      "25%    -1.043046  -0.508641  -0.625492  -0.402993  -0.203597\n",
      "50%    -0.240869   0.357362  -0.171686   0.051227   0.274261\n",
      "75%     0.396273   0.795790   0.272189   0.441034   0.906151\n",
      "max     2.110459   1.426457   1.380291   0.564797   2.401467\n"
     ]
    }
   ],
   "source": [
    "print(s4.describe())"
   ]
  },
  {
   "cell_type": "code",
   "execution_count": 22,
   "metadata": {},
   "outputs": [
    {
     "name": "stdout",
     "output_type": "stream",
     "text": [
      "   A  B\n",
      "0  1  2\n",
      "1  3  4\n"
     ]
    }
   ],
   "source": [
    "print(s3)"
   ]
  },
  {
   "cell_type": "code",
   "execution_count": 23,
   "metadata": {},
   "outputs": [
    {
     "name": "stdout",
     "output_type": "stream",
     "text": [
      "0    1\n",
      "1    3\n",
      "Name: A, dtype: int64\n"
     ]
    }
   ],
   "source": [
    "print(s3['A'])"
   ]
  },
  {
   "cell_type": "code",
   "execution_count": 24,
   "metadata": {},
   "outputs": [
    {
     "name": "stdout",
     "output_type": "stream",
     "text": [
      "   A  B\n",
      "0  1  2\n",
      "1  3  4\n"
     ]
    }
   ],
   "source": [
    "# print(s3['A','B']) # ERROR\n",
    "print(s3[['A','B']])"
   ]
  },
  {
   "cell_type": "code",
   "execution_count": 25,
   "metadata": {},
   "outputs": [
    {
     "name": "stdout",
     "output_type": "stream",
     "text": [
      "   A  B\n",
      "0  1  2\n"
     ]
    }
   ],
   "source": [
    "# print(s3[0]) # ERROR\n",
    "print(s3[0:1])"
   ]
  },
  {
   "cell_type": "code",
   "execution_count": 26,
   "metadata": {},
   "outputs": [
    {
     "name": "stdout",
     "output_type": "stream",
     "text": [
      "   A  B\n",
      "1  3  4\n"
     ]
    }
   ],
   "source": [
    "print(s3[1:2])"
   ]
  },
  {
   "cell_type": "code",
   "execution_count": 27,
   "metadata": {},
   "outputs": [
    {
     "name": "stdout",
     "output_type": "stream",
     "text": [
      "A    1\n",
      "B    2\n",
      "Name: 0, dtype: int64\n"
     ]
    }
   ],
   "source": [
    "print(s3.iloc[0]) # 행방향 출력"
   ]
  },
  {
   "cell_type": "code",
   "execution_count": 28,
   "metadata": {},
   "outputs": [
    {
     "name": "stdout",
     "output_type": "stream",
     "text": [
      "     A    B\n",
      "0  NaN  NaN\n",
      "1  3.0  4.0\n"
     ]
    }
   ],
   "source": [
    "d1 = s3[2 < s3]\n",
    "print(d1)"
   ]
  },
  {
   "cell_type": "code",
   "execution_count": 29,
   "metadata": {},
   "outputs": [
    {
     "name": "stdout",
     "output_type": "stream",
     "text": [
      "     A    B\n",
      "1  3.0  4.0\n"
     ]
    }
   ],
   "source": [
    "print(d1.dropna())"
   ]
  },
  {
   "cell_type": "code",
   "execution_count": 30,
   "metadata": {},
   "outputs": [
    {
     "name": "stdout",
     "output_type": "stream",
     "text": [
      "     A    B\n",
      "0  NaN  NaN\n",
      "1  6.0  8.0\n"
     ]
    }
   ],
   "source": [
    "d2 = d1 * 2\n",
    "print(d2)"
   ]
  },
  {
   "cell_type": "code",
   "execution_count": 31,
   "metadata": {},
   "outputs": [
    {
     "name": "stdout",
     "output_type": "stream",
     "text": [
      "     A    B\n",
      "0  0.0  0.0\n",
      "1  6.0  8.0\n"
     ]
    }
   ],
   "source": [
    "d3 = d2.fillna(0) # NaN -> 0\n",
    "print(d3)"
   ]
  },
  {
   "cell_type": "code",
   "execution_count": 32,
   "metadata": {},
   "outputs": [
    {
     "name": "stdout",
     "output_type": "stream",
     "text": [
      "A    3.0\n",
      "B    4.0\n",
      "dtype: float64\n"
     ]
    }
   ],
   "source": [
    "print(d3.mean()) # 행방향 평균 계산"
   ]
  },
  {
   "cell_type": "code",
   "execution_count": 33,
   "metadata": {},
   "outputs": [
    {
     "name": "stdout",
     "output_type": "stream",
     "text": [
      "0    0.0\n",
      "1    7.0\n",
      "dtype: float64\n"
     ]
    }
   ],
   "source": [
    "print(d3.mean(1)) # 열방향 평균 계산"
   ]
  },
  {
   "cell_type": "code",
   "execution_count": 35,
   "metadata": {},
   "outputs": [
    {
     "name": "stdout",
     "output_type": "stream",
     "text": [
      "     A    B    C\n",
      "0  0.0  0.0  0.0\n",
      "1  6.0  8.0  7.0\n",
      "     A    B  C\n",
      "0  0.0  0.0  1\n",
      "1  6.0  8.0  1\n"
     ]
    }
   ],
   "source": [
    "d3['C'] = (d3['A'] + d3['B']) / 2\n",
    "print(d3)\n",
    "d3['C'] = 1\n",
    "print(d3)"
   ]
  },
  {
   "cell_type": "code",
   "execution_count": 36,
   "metadata": {},
   "outputs": [
    {
     "name": "stdout",
     "output_type": "stream",
     "text": [
      "     A    B  C  D\n",
      "0  0.0  0.0  1  5\n",
      "1  6.0  8.0  1  6\n"
     ]
    }
   ],
   "source": [
    "d3['D'] = [5, 6]\n",
    "print(d3)"
   ]
  },
  {
   "cell_type": "code",
   "execution_count": 40,
   "metadata": {},
   "outputs": [
    {
     "name": "stdout",
     "output_type": "stream",
     "text": [
      "   A  B  C   E\n",
      "0  2  4  6  20\n"
     ]
    }
   ],
   "source": [
    "d4 = pd.DataFrame([[2, 4, 6, 20]], columns=['A', 'B', 'C', 'E'])\n",
    "print(d4)"
   ]
  },
  {
   "cell_type": "code",
   "execution_count": 41,
   "metadata": {},
   "outputs": [
    {
     "name": "stdout",
     "output_type": "stream",
     "text": [
      "     A    B  C    D     E\n",
      "0  0.0  0.0  1  5.0   NaN\n",
      "1  6.0  8.0  1  6.0   NaN\n",
      "0  2.0  4.0  6  NaN  20.0\n"
     ]
    }
   ],
   "source": [
    "d5 = pd.concat([d3, d4]) # DataFrame 결합, 변수명이 비교됨\n",
    "print(d5)"
   ]
  },
  {
   "cell_type": "code",
   "execution_count": 53,
   "metadata": {},
   "outputs": [
    {
     "name": "stdout",
     "output_type": "stream",
     "text": [
      "     A    B  C    D     E\n",
      "0  0.0  0.0  1  5.0   NaN\n",
      "1  6.0  8.0  1  6.0   NaN\n",
      "2  2.0  4.0  6  NaN  20.0\n"
     ]
    }
   ],
   "source": [
    "d6 = d5.reset_index(drop=True)\n",
    "print(d6)"
   ]
  },
  {
   "cell_type": "code",
   "execution_count": 54,
   "metadata": {},
   "outputs": [
    {
     "name": "stdout",
     "output_type": "stream",
     "text": [
      "     A    B  C    D   E\n",
      "0  0.0  0.0  1  5.0 NaN\n",
      "1  6.0  8.0  1  6.0 NaN\n"
     ]
    }
   ],
   "source": [
    "print(d6.drop(2)) # 실제로 변수에는 적용이 안됨"
   ]
  },
  {
   "cell_type": "code",
   "execution_count": 55,
   "metadata": {
    "scrolled": true
   },
   "outputs": [
    {
     "name": "stdout",
     "output_type": "stream",
     "text": [
      "     A    B  C    D   E\n",
      "0  0.0  0.0  1  5.0 NaN\n",
      "1  6.0  8.0  1  6.0 NaN\n"
     ]
    }
   ],
   "source": [
    "d6_1 = d6.drop(2)\n",
    "print(d6_1)"
   ]
  },
  {
   "cell_type": "code",
   "execution_count": 58,
   "metadata": {},
   "outputs": [
    {
     "name": "stdout",
     "output_type": "stream",
     "text": [
      "     A    B  C    D   E\n",
      "0  0.0  0.0  1  5.0 NaN\n",
      "1  6.0  8.0  1  6.0 NaN\n"
     ]
    }
   ],
   "source": [
    "print(d6.drop(2, axis = 0)) # 0 : 행 삭제"
   ]
  },
  {
   "cell_type": "code",
   "execution_count": 59,
   "metadata": {},
   "outputs": [
    {
     "name": "stdout",
     "output_type": "stream",
     "text": [
      "     A    B  C    D\n",
      "0  0.0  0.0  1  5.0\n",
      "1  6.0  8.0  1  6.0\n",
      "2  2.0  4.0  6  NaN\n"
     ]
    }
   ],
   "source": [
    "print(d6.drop('E', axis = 1)) # 1 : 열 삭제"
   ]
  },
  {
   "cell_type": "code",
   "execution_count": null,
   "metadata": {
    "collapsed": true
   },
   "outputs": [],
   "source": []
  }
 ],
 "metadata": {
  "kernelspec": {
   "display_name": "machine",
   "language": "python",
   "name": "machine"
  },
  "language_info": {
   "codemirror_mode": {
    "name": "ipython",
    "version": 3
   },
   "file_extension": ".py",
   "mimetype": "text/x-python",
   "name": "python",
   "nbconvert_exporter": "python",
   "pygments_lexer": "ipython3",
   "version": "3.5.4"
  }
 },
 "nbformat": 4,
 "nbformat_minor": 2
}
