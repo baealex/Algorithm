{
 "cells": [
  {
   "cell_type": "code",
   "execution_count": 4,
   "metadata": {},
   "outputs": [
    {
     "name": "stdout",
     "output_type": "stream",
     "text": [
      "sw\n",
      "sw\n",
      "True\n",
      "False\n"
     ]
    }
   ],
   "source": [
    "sw = True\n",
    "print(\"sw\")\n",
    "print('sw')\n",
    "print(sw)\n",
    "sw = False\n",
    "print(sw)"
   ]
  },
  {
   "cell_type": "code",
   "execution_count": 9,
   "metadata": {},
   "outputs": [
    {
     "name": "stdout",
     "output_type": "stream",
     "text": [
      "sw=False\n",
      "sw= False\n",
      "sw=False\n",
      "sw=     False\n",
      "sw=False     \n",
      "sw=      2017\n",
      "sw=10.500000\n",
      "sw=10.5\n"
     ]
    }
   ],
   "source": [
    "# # pinrt(\"sw = \" + sw)\n",
    "print(\"sw=\" + str(sw))\n",
    "print(\"sw=\", sw)\n",
    "print(\"sw=%s\" % sw)\n",
    "print(\"sw=%10s\" % sw)    # 오른쪽 위치 기준 출력\n",
    "print(\"sw=%-10s\" % sw)   # %-는 왼쪽 위치 기준 출력\n",
    "print(\"sw=%10d\" % 2017)  # 오른쪽 위치 기준 출력\n",
    "print(\"sw=%f\" % 10.5)\n",
    "print(\"sw=%.1f\" % 10.5)  # 소수점 1자리 지정"
   ]
  },
  {
   "cell_type": "code",
   "execution_count": 16,
   "metadata": {},
   "outputs": [
    {
     "name": "stdout",
     "output_type": "stream",
     "text": [
      "char=A\n",
      "movie=부산행\n",
      "count= 7500000\n",
      "percent: 1.25\n",
      "percent type:  <class 'float'>\n",
      "percent type type:  <class 'type'>\n",
      "100의 100%: 100.0\n",
      "100의 50%: 50.0\n",
      "100의 50%: 50.0\n",
      "100의 10%: 10.0\n",
      "100의 1%: 1.0\n",
      "100의 1.5%: 1.5\n",
      "100의 1.5%: 1.5\n",
      "100의 13%: 13.0\n"
     ]
    }
   ],
   "source": [
    "char = 'A'\n",
    "print('char=' + char)\n",
    " \n",
    "movie='부산행'\n",
    "print('movie=' + movie)\n",
    " \n",
    "count = 7500000\n",
    "print('count=', count)\n",
    " \n",
    "percent = 1.25\n",
    "print('percent: ' + str(percent))\n",
    "print('percent type: ' , type(percent))\n",
    "print('percent type type: ' , type(type(percent)))\n",
    " \n",
    "print('100의 100%: ' + str(100 * 1.0))\n",
    "print('100의 50%: ' + str(100 * 0.5))\n",
    "print('100의 50%: ' + str(100 * (50/100))) # 0이 아님\n",
    "print('100의 10%: ' + str(100 * 0.1))\n",
    "print('100의 1%: ' + str(100 * 0.01))\n",
    "print('100의 1.5%: ' + str(100 * 0.015))\n",
    "print('100의 1.5%: ' + str(100 * (1.5/100)))\n",
    "print('100의 13%: ' + str(100 * (13/100)))"
   ]
  },
  {
   "cell_type": "code",
   "execution_count": 9,
   "metadata": {},
   "outputs": [
    {
     "name": "stdout",
     "output_type": "stream",
     "text": [
      "0 % 3 =  0\n",
      "3 % 3 =  0\n",
      "10 / 3 =  3.3333333333333335\n",
      "10 // 3 =  3\n"
     ]
    }
   ],
   "source": [
    "print(\"0 % 3 = \", (0%3))\n",
    "print(\"3 % 3 = \", (0%3))\n",
    "print(\"10 / 3 = \", (10/3))\n",
    "print(\"10 // 3 = \", (10//3))\n",
    "\n",
    "year = 2019"
   ]
  }
 ],
 "metadata": {
  "kernelspec": {
   "display_name": "machine",
   "language": "python",
   "name": "machine"
  },
  "language_info": {
   "codemirror_mode": {
    "name": "ipython",
    "version": 3
   },
   "file_extension": ".py",
   "mimetype": "text/x-python",
   "name": "python",
   "nbconvert_exporter": "python",
   "pygments_lexer": "ipython3",
   "version": "3.5.4"
  }
 },
 "nbformat": 4,
 "nbformat_minor": 2
}
