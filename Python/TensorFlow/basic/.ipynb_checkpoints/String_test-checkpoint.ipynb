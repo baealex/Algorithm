{
 "cells": [
  {
   "cell_type": "code",
   "execution_count": 5,
   "metadata": {},
   "outputs": [
    {
     "name": "stdout",
     "output_type": "stream",
     "text": [
      "W\n",
      "g\n",
      "Web S\n",
      "craping\n"
     ]
    }
   ],
   "source": [
    "name = 'Web Scraping'\n",
    "print(name[0])\n",
    "print(name[-1])\n",
    "print(name[0:5])\n",
    "print(name[5:])"
   ]
  },
  {
   "cell_type": "code",
   "execution_count": 9,
   "metadata": {
    "scrolled": false
   },
   "outputs": [
    {
     "name": "stdout",
     "output_type": "stream",
     "text": [
      "Web"
     ]
    }
   ],
   "source": [
    "for i in name:\n",
    "    print(i, end='')\n",
    "    if i == 'b':\n",
    "        break"
   ]
  },
  {
   "cell_type": "code",
   "execution_count": 28,
   "metadata": {},
   "outputs": [
    {
     "name": "stdout",
     "output_type": "stream",
     "text": [
      "\n",
      "봄\n",
      "여름\n",
      "가을\n",
      "겨울\n",
      "\n",
      "\n"
     ]
    }
   ],
   "source": [
    "data='''\n",
    "봄\n",
    "여름\n",
    "가을\n",
    "겨울\n",
    "'''\n",
    "\n",
    "print(data)"
   ]
  },
  {
   "cell_type": "code",
   "execution_count": 30,
   "metadata": {},
   "outputs": [
    {
     "name": "stdout",
     "output_type": "stream",
     "text": [
      "\n",
      "주왕산\n",
      "주산 저수지\n",
      "\n"
     ]
    }
   ],
   "source": [
    "data=\"\"\"\n",
    "주왕산\n",
    "주산 저수지\n",
    "\"\"\"\n",
    "\n",
    "print(data)"
   ]
  },
  {
   "cell_type": "code",
   "execution_count": 42,
   "metadata": {},
   "outputs": [
    {
     "name": "stdout",
     "output_type": "stream",
     "text": [
      "여행 여행 \n",
      "6\n",
      "True\n",
      "해외 여행, 국내 여행\n",
      "100 + 200 = 300\n",
      "123.4%\n",
      "123.5%\n",
      "123.5%\n"
     ]
    }
   ],
   "source": [
    "data = '여행 ' * 2\n",
    "print(data)\n",
    "print(len(data))\n",
    "print('a' in 'abcd')\n",
    "print('%s 여행, %s 여행' % ('해외','국내'))\n",
    "print('%d + %d = %d' % (100, 200, 100+200))\n",
    "print('%5.3f%%' % 123.4)\n",
    "print('%5.1f%%' % 123.45)\n",
    "print('%5.1f%%' % 123.456)"
   ]
  },
  {
   "cell_type": "code",
   "execution_count": null,
   "metadata": {
    "collapsed": true
   },
   "outputs": [],
   "source": [
    "\"\""
   ]
  }
 ],
 "metadata": {
  "kernelspec": {
   "display_name": "machine",
   "language": "python",
   "name": "machine"
  },
  "language_info": {
   "codemirror_mode": {
    "name": "ipython",
    "version": 3
   },
   "file_extension": ".py",
   "mimetype": "text/x-python",
   "name": "python",
   "nbconvert_exporter": "python",
   "pygments_lexer": "ipython3",
   "version": "3.5.4"
  }
 },
 "nbformat": 4,
 "nbformat_minor": 2
}
