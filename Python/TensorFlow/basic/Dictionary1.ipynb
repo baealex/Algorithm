{
 "cells": [
  {
   "cell_type": "code",
   "execution_count": 1,
   "metadata": {},
   "outputs": [
    {
     "name": "stdout",
     "output_type": "stream",
     "text": [
      "{'b': 2, 'c': 3, 'a': 1, 'e': '여름', 'd': 0}\n",
      "1\n",
      "{'b': 2, 'c': 3, 'a': 1, 'e': '여름', 'd': 4}\n",
      "여름\n",
      "5\n"
     ]
    }
   ],
   "source": [
    "dict1 = {'a':1, 'b':2, 'c':3, 'd':0, 'e': '여름'}\n",
    " \n",
    "print(dict1) # 값 출력은되나 순서가 다를 수 있음.\n",
    "print(dict1['a'])\n",
    " \n",
    "dict1['d'] = 4\n",
    "print(dict1) # 값 출력은되나 순서가 다를 수 있음.\n",
    " \n",
    "print(dict1['e'])\n",
    " \n",
    "print(len(dict1))"
   ]
  }
 ],
 "metadata": {
  "kernelspec": {
   "display_name": "machine",
   "language": "python",
   "name": "machine"
  },
  "language_info": {
   "codemirror_mode": {
    "name": "ipython",
    "version": 3
   },
   "file_extension": ".py",
   "mimetype": "text/x-python",
   "name": "python",
   "nbconvert_exporter": "python",
   "pygments_lexer": "ipython3",
   "version": "3.5.4"
  }
 },
 "nbformat": 4,
 "nbformat_minor": 2
}
