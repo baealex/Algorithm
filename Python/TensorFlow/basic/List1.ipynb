{
 "cells": [
  {
   "cell_type": "code",
   "execution_count": 6,
   "metadata": {},
   "outputs": [
    {
     "name": "stdout",
     "output_type": "stream",
     "text": [
      "<class 'list'>\n",
      "['cat', 'bat', 'rat']\n",
      "cat\n",
      "rat\n"
     ]
    }
   ],
   "source": [
    "data = ['cat', 'bat', 'rat']\n",
    "print(type(data))\n",
    "print(data)\n",
    "print(data[0])\n",
    "print(data[-1])"
   ]
  },
  {
   "cell_type": "code",
   "execution_count": 13,
   "metadata": {},
   "outputs": [
    {
     "name": "stdout",
     "output_type": "stream",
     "text": [
      "['cat', 'bat', 'rat']\n",
      "cat\n",
      "10\n",
      "2\n",
      "3\n",
      "[['고양이', 'bat', 'rat'], [10, 20, 30]]\n"
     ]
    }
   ],
   "source": [
    "data = [['cat', 'bat', 'rat'], [10, 20, 30]]\n",
    "print(data[0])\n",
    "print(data[0][0])\n",
    "print(data[1][0])\n",
    "print(len(data))\n",
    "print(len(data[0]))\n",
    "data[0][0] = '고양이'\n",
    "print(data)"
   ]
  },
  {
   "cell_type": "code",
   "execution_count": 16,
   "metadata": {},
   "outputs": [
    {
     "name": "stdout",
     "output_type": "stream",
     "text": [
      "[['고양이', 'bat', 'rat'], [10, 20, 30], 'A', 'B', 'C', ['A', 'B', 'C'], 'A', 'B', 'C']\n",
      "[['고양이', 'bat', 'rat'], [10, 20, 30], 'A', 'B', 'C', ['A', 'B', 'C'], 'A', 'B', 'C', ['A', 'B', 'C']]\n"
     ]
    }
   ],
   "source": [
    "data = data + ['A', 'B', 'C']\n",
    "print(data)\n",
    "data = data + [['A', 'B', 'C']]\n",
    "print(data)"
   ]
  },
  {
   "cell_type": "code",
   "execution_count": 2,
   "metadata": {},
   "outputs": [
    {
     "name": "stdout",
     "output_type": "stream",
     "text": [
      "[1, 2, 3, 1, 2, 3, 1, 2, 3]\n"
     ]
    }
   ],
   "source": [
    "data = [1,2,3] * 3\n",
    "print(data)"
   ]
  },
  {
   "cell_type": "code",
   "execution_count": 3,
   "metadata": {},
   "outputs": [
    {
     "name": "stdout",
     "output_type": "stream",
     "text": [
      "1 2 3\n"
     ]
    }
   ],
   "source": [
    "data = [1,2,3]\n",
    "a, b, c = data\n",
    "print(\"%d %d %d\" % (a,b,c))"
   ]
  },
  {
   "cell_type": "code",
   "execution_count": 8,
   "metadata": {},
   "outputs": [
    {
     "name": "stdout",
     "output_type": "stream",
     "text": [
      "[100, 1, 2, 3]\n",
      "[100, 1, 2, 3, 200]\n",
      "[100, 1, 2, 3]\n"
     ]
    }
   ],
   "source": [
    "data = [1,2,3]\n",
    "data.insert(0, 100)\n",
    "print(data)\n",
    "data.append(200)\n",
    "print(data)\n",
    "data.remove(200)\n",
    "print(data)"
   ]
  },
  {
   "cell_type": "code",
   "execution_count": 10,
   "metadata": {},
   "outputs": [
    {
     "name": "stdout",
     "output_type": "stream",
     "text": [
      "[1, 2, 3, 4, 5, 6]\n",
      "[6, 5, 4, 3, 2, 1]\n"
     ]
    }
   ],
   "source": [
    "data = [1,5,4,3,2,6]\n",
    "data.sort()\n",
    "print(data)\n",
    "data.sort(reverse=True)\n",
    "print(data)"
   ]
  },
  {
   "cell_type": "code",
   "execution_count": 11,
   "metadata": {},
   "outputs": [
    {
     "name": "stdout",
     "output_type": "stream",
     "text": [
      "['A', 'Z', 'a', 'z']\n",
      "['A', 'a', 'Z', 'z']\n"
     ]
    }
   ],
   "source": [
    "data = ['a', 'z', 'A', 'Z']\n",
    "data.sort()\n",
    "print(data)\n",
    " \n",
    "data.sort(key = str.lower) # 문자의미 기준 정렬\n",
    "print(data)"
   ]
  },
  {
   "cell_type": "code",
   "execution_count": null,
   "metadata": {
    "collapsed": true
   },
   "outputs": [],
   "source": []
  }
 ],
 "metadata": {
  "kernelspec": {
   "display_name": "machine",
   "language": "python",
   "name": "machine"
  },
  "language_info": {
   "codemirror_mode": {
    "name": "ipython",
    "version": 3
   },
   "file_extension": ".py",
   "mimetype": "text/x-python",
   "name": "python",
   "nbconvert_exporter": "python",
   "pygments_lexer": "ipython3",
   "version": "3.5.4"
  }
 },
 "nbformat": 4,
 "nbformat_minor": 2
}
