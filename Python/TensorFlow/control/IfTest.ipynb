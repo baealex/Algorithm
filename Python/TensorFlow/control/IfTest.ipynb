{
 "cells": [
  {
   "cell_type": "code",
   "execution_count": 3,
   "metadata": {
    "scrolled": false
   },
   "outputs": [
    {
     "name": "stdout",
     "output_type": "stream",
     "text": [
      "투표 가능\n"
     ]
    }
   ],
   "source": [
    "age = 19\n",
    "vote = '투표 가능' if age >= 19 else '투표 불가능' # True 조건 False\n",
    "print(vote)"
   ]
  },
  {
   "cell_type": "code",
   "execution_count": 10,
   "metadata": {
    "scrolled": false
   },
   "outputs": [
    {
     "name": "stdout",
     "output_type": "stream",
     "text": [
      "불합격\n"
     ]
    }
   ],
   "source": [
    "tot = 75\n",
    "if tot >= 80:\n",
    "    print('합격')\n",
    "else:\n",
    "    print('불합격')"
   ]
  },
  {
   "cell_type": "code",
   "execution_count": 9,
   "metadata": {
    "scrolled": true
   },
   "outputs": [
    {
     "name": "stdout",
     "output_type": "stream",
     "text": [
      "3\n",
      "March\n"
     ]
    }
   ],
   "source": [
    "su = int(input())\n",
    "if su == 1:\n",
    "    print('January')\n",
    "elif su == 2:\n",
    "    print('February')\n",
    "elif su == 3:\n",
    "    print('March')\n",
    "elif su == 4:\n",
    "    print('April')\n",
    "else:\n",
    "    print('1 ~ 4를 입력하세요.')"
   ]
  },
  {
   "cell_type": "code",
   "execution_count": 11,
   "metadata": {},
   "outputs": [
    {
     "name": "stdout",
     "output_type": "stream",
     "text": [
      "채용 합격입니다.\n",
      "-> 프로젝트 참여\n"
     ]
    }
   ],
   "source": [
    "test = 85\n",
    "if test >= 60:\n",
    "    print('채용 합격입니다.')\n",
    " \n",
    "    if test >= 85:\n",
    "        print('-> 프로젝트 참여')  # 85 ~\n",
    "    else:\n",
    "        print('-> 추가교육 실시')  # 60 ~ 84\n",
    "else:\n",
    "    print('다음 기회에 재시도해주세요')"
   ]
  },
  {
   "cell_type": "code",
   "execution_count": 12,
   "metadata": {},
   "outputs": [
    {
     "name": "stdout",
     "output_type": "stream",
     "text": [
      "등급: C\n"
     ]
    }
   ],
   "source": [
    "score = 70\n",
    "str1 = ''\n",
    "if score >= 90:\n",
    "    str1 = 'A'\n",
    "elif score >= 80 and score <= 89:\n",
    "    str1 = 'B'\n",
    "elif score >= 70 and score <= 79:\n",
    "    str1 = 'C'\n",
    "elif score >= 60 and score <= 69:\n",
    "    str1 = 'D'\n",
    "else:\n",
    "    str1 = 'F'  # ~ 59\n",
    "print('등급: ' + str1)"
   ]
  },
  {
   "cell_type": "code",
   "execution_count": 13,
   "metadata": {},
   "outputs": [
    {
     "name": "stdout",
     "output_type": "stream",
     "text": [
      "여름입니다.\n",
      "시원한 동해바다\n"
     ]
    }
   ],
   "source": [
    "month = 6\n",
    "if month == 6 or month == 7 or month == 8:\n",
    "    print('여름입니다.')\n",
    "    print('시원한 동해바다')"
   ]
  }
 ],
 "metadata": {
  "kernelspec": {
   "display_name": "machine",
   "language": "python",
   "name": "machine"
  },
  "language_info": {
   "codemirror_mode": {
    "name": "ipython",
    "version": 3
   },
   "file_extension": ".py",
   "mimetype": "text/x-python",
   "name": "python",
   "nbconvert_exporter": "python",
   "pygments_lexer": "ipython3",
   "version": "3.5.4"
  }
 },
 "nbformat": 4,
 "nbformat_minor": 2
}
