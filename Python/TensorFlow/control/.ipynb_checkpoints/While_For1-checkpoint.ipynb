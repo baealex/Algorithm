{
 "cells": [
  {
   "cell_type": "markdown",
   "metadata": {},
   "source": [
    "### while"
   ]
  },
  {
   "cell_type": "code",
   "execution_count": 1,
   "metadata": {},
   "outputs": [
    {
     "name": "stdout",
     "output_type": "stream",
     "text": [
      "1\n",
      "2\n",
      "3\n",
      "4\n",
      "5\n",
      "6\n",
      "7\n",
      "8\n",
      "9\n",
      "10\n"
     ]
    }
   ],
   "source": [
    "su = 0\n",
    "\n",
    "while True:\n",
    "    su = su + 1\n",
    "    print(su)\n",
    "    if su == 10:\n",
    "        break"
   ]
  },
  {
   "cell_type": "code",
   "execution_count": 3,
   "metadata": {},
   "outputs": [
    {
     "name": "stdout",
     "output_type": "stream",
     "text": [
      "1\n",
      "2\n",
      "3\n",
      "4\n",
      "5\n"
     ]
    }
   ],
   "source": [
    "su = 0\n",
    "while su <= 4:\n",
    "    su += 1\n",
    "    print(su)"
   ]
  },
  {
   "cell_type": "code",
   "execution_count": 6,
   "metadata": {},
   "outputs": [
    {
     "name": "stdout",
     "output_type": "stream",
     "text": [
      "2520\n"
     ]
    }
   ],
   "source": [
    "su = 0\n",
    " \n",
    "while True:\n",
    "    su = su + 1\n",
    "    if su % 2 == 0 and su % 3 == 0 and su % 4 == 0 and \\\n",
    "    su % 5 == 0 and su % 6 == 0 and su % 7 == 0 and \\\n",
    "    su % 8 == 0 and su % 9 == 0:\n",
    "        print(su)\n",
    "        break"
   ]
  },
  {
   "cell_type": "markdown",
   "metadata": {},
   "source": [
    "### For"
   ]
  },
  {
   "cell_type": "code",
   "execution_count": 8,
   "metadata": {},
   "outputs": [
    {
     "name": "stdout",
     "output_type": "stream",
     "text": [
      "A\n",
      "B\n",
      "C\n",
      "가\n",
      "나\n",
      "다\n",
      "1\n",
      "2\n",
      "3\n"
     ]
    }
   ],
   "source": [
    "str1 = 'ABC가나다123'\n",
    "for c in str1:\n",
    "    print(c)"
   ]
  },
  {
   "cell_type": "code",
   "execution_count": 10,
   "metadata": {},
   "outputs": [
    {
     "name": "stdout",
     "output_type": "stream",
     "text": [
      "1\n",
      "2\n",
      "3\n",
      "4\n",
      "5\n"
     ]
    }
   ],
   "source": [
    "list_val = [1,2,3,4,5]\n",
    "for su in list_val:\n",
    "    print(su)"
   ]
  },
  {
   "cell_type": "code",
   "execution_count": 13,
   "metadata": {},
   "outputs": [
    {
     "name": "stdout",
     "output_type": "stream",
     "text": [
      "<class 'dict'>\n",
      "january\n",
      "1\n",
      "march\n",
      "3\n",
      "february\n",
      "2\n"
     ]
    }
   ],
   "source": [
    "months = {\"january\": 1, \"february\":2, \"march\":3}\n",
    "print(type(months))\n",
    "for c in months:  # 출력 순서는 다를 수 있음.\n",
    "    print(c)      # Key 출력\n",
    "    print(months[c])"
   ]
  },
  {
   "cell_type": "code",
   "execution_count": 14,
   "metadata": {},
   "outputs": [
    {
     "name": "stdout",
     "output_type": "stream",
     "text": [
      "01234\n",
      "1234\n",
      "246810\n",
      "5432"
     ]
    }
   ],
   "source": [
    "for i in range(5):    # 0 ~ 4\n",
    "    print(i, end='')\n",
    " \n",
    "print()\n",
    " \n",
    "for i in range(1, 5):  # 1 ~ 4\n",
    "    print(i, end='')\n",
    " \n",
    "print()\n",
    " \n",
    "for i in range(2, 12, 2):  # 2 ~ 10, 간격 2\n",
    "    print(i, end='')\n",
    " \n",
    "print()\n",
    " \n",
    "for i in range(5, 1, -1):  # 5 ~ 2, 마지막은 출력안됨.\n",
    "    print(i, end='')"
   ]
  },
  {
   "cell_type": "code",
   "execution_count": 16,
   "metadata": {},
   "outputs": [
    {
     "name": "stdout",
     "output_type": "stream",
     "text": [
      "12\n",
      "24\n",
      "36\n",
      "48\n",
      "60\n",
      "72\n",
      "84\n",
      "96\n",
      "최종값: 100\n"
     ]
    }
   ],
   "source": [
    "index = 0\n",
    "\n",
    "for index in range(1, 101, 1): # 1~100\n",
    "    if index % 2 == 0 and index % 3 == 0 and index % 4 == 0:\n",
    "        print(index)\n",
    "        \n",
    "print('최종값:', index)"
   ]
  },
  {
   "cell_type": "code",
   "execution_count": 24,
   "metadata": {},
   "outputs": [
    {
     "name": "stdout",
     "output_type": "stream",
     "text": [
      "['2 X 1 = 2', '2 X 2 = 4', '2 X 3 = 6', '2 X 4 = 8', '2 X 5 = 10', '2 X 6 = 12', '2 X 7 = 14', '2 X 8 = 16', '2 X 9 = 18']\n"
     ]
    }
   ],
   "source": [
    "a = ['2 X %d = %d' % (i, i*2) for i in range(1,10)]\n",
    "print(a)"
   ]
  },
  {
   "cell_type": "code",
   "execution_count": 25,
   "metadata": {},
   "outputs": [
    {
     "name": "stdout",
     "output_type": "stream",
     "text": [
      "\n",
      "1 단\n",
      "1 X 1 = 1\n",
      "1 X 2 = 2\n",
      "1 X 3 = 3\n",
      "1 X 4 = 4\n",
      "1 X 5 = 5\n",
      "1 X 6 = 6\n",
      "1 X 7 = 7\n",
      "1 X 8 = 8\n",
      "1 X 9 = 9\n",
      "\n",
      "2 단\n",
      "2 X 1 = 2\n",
      "2 X 2 = 4\n",
      "2 X 3 = 6\n",
      "2 X 4 = 8\n",
      "2 X 5 = 10\n",
      "2 X 6 = 12\n",
      "2 X 7 = 14\n",
      "2 X 8 = 16\n",
      "2 X 9 = 18\n",
      "\n",
      "3 단\n",
      "3 X 1 = 3\n",
      "3 X 2 = 6\n",
      "3 X 3 = 9\n",
      "3 X 4 = 12\n",
      "3 X 5 = 15\n",
      "3 X 6 = 18\n",
      "3 X 7 = 21\n",
      "3 X 8 = 24\n",
      "3 X 9 = 27\n",
      "\n",
      "4 단\n",
      "4 X 1 = 4\n",
      "4 X 2 = 8\n",
      "4 X 3 = 12\n",
      "4 X 4 = 16\n",
      "4 X 5 = 20\n",
      "4 X 6 = 24\n",
      "4 X 7 = 28\n",
      "4 X 8 = 32\n",
      "4 X 9 = 36\n",
      "\n",
      "5 단\n",
      "5 X 1 = 5\n",
      "5 X 2 = 10\n",
      "5 X 3 = 15\n",
      "5 X 4 = 20\n",
      "5 X 5 = 25\n",
      "5 X 6 = 30\n",
      "5 X 7 = 35\n",
      "5 X 8 = 40\n",
      "5 X 9 = 45\n",
      "\n",
      "6 단\n",
      "6 X 1 = 6\n",
      "6 X 2 = 12\n",
      "6 X 3 = 18\n",
      "6 X 4 = 24\n",
      "6 X 5 = 30\n",
      "6 X 6 = 36\n",
      "6 X 7 = 42\n",
      "6 X 8 = 48\n",
      "6 X 9 = 54\n",
      "\n",
      "7 단\n",
      "7 X 1 = 7\n",
      "7 X 2 = 14\n",
      "7 X 3 = 21\n",
      "7 X 4 = 28\n",
      "7 X 5 = 35\n",
      "7 X 6 = 42\n",
      "7 X 7 = 49\n",
      "7 X 8 = 56\n",
      "7 X 9 = 63\n",
      "\n",
      "8 단\n",
      "8 X 1 = 8\n",
      "8 X 2 = 16\n",
      "8 X 3 = 24\n",
      "8 X 4 = 32\n",
      "8 X 5 = 40\n",
      "8 X 6 = 48\n",
      "8 X 7 = 56\n",
      "8 X 8 = 64\n",
      "8 X 9 = 72\n",
      "\n",
      "9 단\n",
      "9 X 1 = 9\n",
      "9 X 2 = 18\n",
      "9 X 3 = 27\n",
      "9 X 4 = 36\n",
      "9 X 5 = 45\n",
      "9 X 6 = 54\n",
      "9 X 7 = 63\n",
      "9 X 8 = 72\n",
      "9 X 9 = 81\n",
      "\n",
      "10 단\n",
      "10 X 1 = 10\n",
      "10 X 2 = 20\n",
      "10 X 3 = 30\n",
      "10 X 4 = 40\n",
      "10 X 5 = 50\n",
      "10 X 6 = 60\n",
      "10 X 7 = 70\n",
      "10 X 8 = 80\n",
      "10 X 9 = 90\n",
      "\n",
      "11 단\n",
      "11 X 1 = 11\n",
      "11 X 2 = 22\n",
      "11 X 3 = 33\n",
      "11 X 4 = 44\n",
      "11 X 5 = 55\n",
      "11 X 6 = 66\n",
      "11 X 7 = 77\n",
      "11 X 8 = 88\n",
      "11 X 9 = 99\n",
      "\n",
      "12 단\n",
      "12 X 1 = 12\n",
      "12 X 2 = 24\n",
      "12 X 3 = 36\n",
      "12 X 4 = 48\n",
      "12 X 5 = 60\n",
      "12 X 6 = 72\n",
      "12 X 7 = 84\n",
      "12 X 8 = 96\n",
      "12 X 9 = 108\n",
      "\n",
      "13 단\n",
      "13 X 1 = 13\n",
      "13 X 2 = 26\n",
      "13 X 3 = 39\n",
      "13 X 4 = 52\n",
      "13 X 5 = 65\n",
      "13 X 6 = 78\n",
      "13 X 7 = 91\n",
      "13 X 8 = 104\n",
      "13 X 9 = 117\n",
      "\n",
      "14 단\n",
      "14 X 1 = 14\n",
      "14 X 2 = 28\n",
      "14 X 3 = 42\n",
      "14 X 4 = 56\n",
      "14 X 5 = 70\n",
      "14 X 6 = 84\n",
      "14 X 7 = 98\n",
      "14 X 8 = 112\n",
      "14 X 9 = 126\n",
      "\n",
      "15 단\n",
      "15 X 1 = 15\n",
      "15 X 2 = 30\n",
      "15 X 3 = 45\n",
      "15 X 4 = 60\n",
      "15 X 5 = 75\n",
      "15 X 6 = 90\n",
      "15 X 7 = 105\n",
      "15 X 8 = 120\n",
      "15 X 9 = 135\n",
      "\n",
      "16 단\n",
      "16 X 1 = 16\n",
      "16 X 2 = 32\n",
      "16 X 3 = 48\n",
      "16 X 4 = 64\n",
      "16 X 5 = 80\n",
      "16 X 6 = 96\n",
      "16 X 7 = 112\n",
      "16 X 8 = 128\n",
      "16 X 9 = 144\n",
      "\n",
      "17 단\n",
      "17 X 1 = 17\n",
      "17 X 2 = 34\n",
      "17 X 3 = 51\n",
      "17 X 4 = 68\n",
      "17 X 5 = 85\n",
      "17 X 6 = 102\n",
      "17 X 7 = 119\n",
      "17 X 8 = 136\n",
      "17 X 9 = 153\n",
      "\n",
      "18 단\n",
      "18 X 1 = 18\n",
      "18 X 2 = 36\n",
      "18 X 3 = 54\n",
      "18 X 4 = 72\n",
      "18 X 5 = 90\n",
      "18 X 6 = 108\n",
      "18 X 7 = 126\n",
      "18 X 8 = 144\n",
      "18 X 9 = 162\n"
     ]
    }
   ],
   "source": [
    "for dan in range(1, 19):\n",
    "    print()\n",
    "    print(str(dan) + ' 단')\n",
    " \n",
    "    for i in range(1, 10):\n",
    "        print(str(dan) + ' X ' + str(i) + ' = ' + str(dan * i))"
   ]
  },
  {
   "cell_type": "code",
   "execution_count": 26,
   "metadata": {},
   "outputs": [
    {
     "name": "stdout",
     "output_type": "stream",
     "text": [
      "짝수의 합: 2550\n",
      "홀수의 합: 2500\n"
     ]
    }
   ],
   "source": [
    "even = 0\n",
    "odd = 0\n",
    "for i in range(1, 101):\n",
    "    if i % 2 == 0:\n",
    "        even = even + i\n",
    "    else:\n",
    "        odd = odd + i\n",
    "\n",
    "print('짝수의 합: ' + str(even))\n",
    "print('홀수의 합: ' + str(odd))"
   ]
  },
  {
   "cell_type": "code",
   "execution_count": null,
   "metadata": {
    "collapsed": true
   },
   "outputs": [],
   "source": []
  }
 ],
 "metadata": {
  "kernelspec": {
   "display_name": "machine",
   "language": "python",
   "name": "machine"
  },
  "language_info": {
   "codemirror_mode": {
    "name": "ipython",
    "version": 3
   },
   "file_extension": ".py",
   "mimetype": "text/x-python",
   "name": "python",
   "nbconvert_exporter": "python",
   "pygments_lexer": "ipython3",
   "version": "3.5.4"
  }
 },
 "nbformat": 4,
 "nbformat_minor": 2
}
