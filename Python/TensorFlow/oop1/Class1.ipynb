{
 "cells": [
  {
   "cell_type": "code",
   "execution_count": 5,
   "metadata": {},
   "outputs": [
    {
     "name": "stdout",
     "output_type": "stream",
     "text": [
      "2017\n",
      "SSD512\n",
      "200000\n",
      "3.5\n",
      "False\n"
     ]
    }
   ],
   "source": [
    "class Class1:\n",
    "    year = 0\n",
    "    product = ''\n",
    "    price = 0\n",
    "    dc = 0\n",
    "    service = False\n",
    "    \n",
    "if __name__ == '__main__':\n",
    "    Class1.year = 2017\n",
    "    Class1.product = 'SSD512'\n",
    "    Class1.price = 200000\n",
    "    Class1.dc = 3.5\n",
    "    Class1.service = False\n",
    " \n",
    "    print(Class1.year)\n",
    "    print(Class1.product)\n",
    "    print(Class1.price)\n",
    "    print(Class1.dc)\n",
    "    print(Class1.service)"
   ]
  },
  {
   "cell_type": "code",
   "execution_count": 7,
   "metadata": {},
   "outputs": [
    {
     "name": "stdout",
     "output_type": "stream",
     "text": [
      "1. <class '__main__.Class2'>\n",
      "2017\n",
      "지포스 노트북\n",
      "0\n",
      "0\n",
      "----------------------------\n",
      "2019\n",
      "지포스 노트북\n",
      "600000\n",
      "10000\n"
     ]
    }
   ],
   "source": [
    "class Class2:\n",
    "    def setData(self):  # self: 함수와 객체 연결\n",
    "        print('1.', type(self))\n",
    " \n",
    "    def setData2(self, year):\n",
    "        self.year = year       # instance 변수, field, property, attribute, 멤머 변수, 속성...\n",
    "        self.product = '지포스 노트북'\n",
    "        self.price = 0\n",
    "        self.dc = 0\n",
    "        \n",
    "if __name__=='__main__':\n",
    "    class2 = Class2()  # 객체 생성\n",
    "    class2.setData()  # <class '__main__.Class2'>\n",
    "    class2.setData2(2017)\n",
    "    # print(Class2.year) # AttributeError: type object 'Class2' has no attribute 'year'\n",
    "    print(class2.year)\n",
    "    print(class2.product)\n",
    "    print(class2.price)\n",
    "    print(class2.dc)\n",
    "    print('----------------------------')\n",
    " \n",
    "    class2.year = 2019\n",
    "    class2.price = 600000\n",
    "    class2.dc = 10000\n",
    "    print(class2.year)\n",
    "    print(class2.product)\n",
    "    print(class2.price)\n",
    "    print(class2.dc)"
   ]
  },
  {
   "cell_type": "code",
   "execution_count": 8,
   "metadata": {
    "collapsed": true
   },
   "outputs": [],
   "source": [
    "class Class3:\n",
    "    def getNation(self, code):\n",
    "        str1 = \"미결정\"  # self가 선언되지 않았음으로 지역 변수\n",
    "        if code == \"KOR\":\n",
    "            str1 = \"한국\"\n",
    "        elif code == \"JAP\":\n",
    "            str1 = \"일본\"\n",
    "        elif code == \"CHA\":\n",
    "            str1 = \"중국\"\n",
    " \n",
    "        return str1\n",
    " \n",
    "    def getGDP(self, code):\n",
    "        gdp = 1000  # self가 선언되지 않았음으로 지역 변수\n",
    "        if code == \"KOR\":\n",
    "            gdp = 28738\n",
    "        elif code == \"JAP\":\n",
    "            gdp = 37539\n",
    "        elif code == \"CHA\":\n",
    "            gdp = 6747\n",
    " \n",
    "        return gdp"
   ]
  },
  {
   "cell_type": "code",
   "execution_count": 9,
   "metadata": {},
   "outputs": [
    {
     "name": "stdout",
     "output_type": "stream",
     "text": [
      "한국\n",
      "28738\n"
     ]
    }
   ],
   "source": [
    "class3 = Class3()\n",
    "print(class3.getNation(\"KOR\"))\n",
    "print(class3.getGDP(\"KOR\"))"
   ]
  },
  {
   "cell_type": "code",
   "execution_count": 10,
   "metadata": {
    "collapsed": true
   },
   "outputs": [],
   "source": [
    "class Class4:\n",
    "    def __init__(self, code='KOR'):  # 생성자\n",
    "        self.count = 0\n",
    "        self.code = code\n",
    "        print('객체가 메모리에 생성되었습니다.')\n",
    " \n",
    "    def __del__(self):  # 소멸자\n",
    "        print('객체가 메모리에서 소멸되었습니다.')\n",
    " \n",
    "    def getNation(self, code):\n",
    "        self.count = self.count + 1\n",
    "        str1 = \"\"  # 지역 변수\n",
    "        if code == \"KOR\":\n",
    "            str1 = \"한국\"\n",
    "        elif code == \"JAP\":\n",
    "            str1 = \"일본\"\n",
    "        elif code == \"CHA\":\n",
    "            str1 = \"중국\"\n",
    " \n",
    "        return str1"
   ]
  },
  {
   "cell_type": "code",
   "execution_count": 13,
   "metadata": {},
   "outputs": [
    {
     "name": "stdout",
     "output_type": "stream",
     "text": [
      "객체가 메모리에 생성되었습니다.\n",
      "객체가 메모리에서 소멸되었습니다.\n",
      "count :  0\n",
      "code :  KOR\n",
      "nation :  한국\n",
      "객체가 메모리에서 소멸되었습니다.\n"
     ]
    }
   ],
   "source": [
    "class4 = Class4()\n",
    "print('count : ', class4.count)\n",
    "print('code : ', class4.code)\n",
    "print('nation : ', class4.getNation('KOR'))\n",
    "del(class4)"
   ]
  },
  {
   "cell_type": "code",
   "execution_count": null,
   "metadata": {
    "collapsed": true
   },
   "outputs": [],
   "source": []
  }
 ],
 "metadata": {
  "kernelspec": {
   "display_name": "machine",
   "language": "python",
   "name": "machine"
  },
  "language_info": {
   "codemirror_mode": {
    "name": "ipython",
    "version": 3
   },
   "file_extension": ".py",
   "mimetype": "text/x-python",
   "name": "python",
   "nbconvert_exporter": "python",
   "pygments_lexer": "ipython3",
   "version": "3.5.4"
  }
 },
 "nbformat": 4,
 "nbformat_minor": 2
}
